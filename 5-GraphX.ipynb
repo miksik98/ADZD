{
 "cells": [
  {
   "cell_type": "markdown",
   "metadata": {},
   "source": [
    "# Intro to GraphX"
   ]
  },
  {
   "cell_type": "markdown",
   "metadata": {},
   "source": [
    "Useful documentation:\n",
    "\n",
    " - https://spark.apache.org/docs/latest/graphx-programming-guide.html\n",
    " - https://spark.apache.org/docs/latest/api/java/org/apache/spark/graphx/Pregel.html\n",
    " - https://docs.databricks.com/spark/latest/graph-analysis/graph-analysis-graphx-tutorial.html "
   ]
  },
  {
   "cell_type": "markdown",
   "metadata": {},
   "source": [
    "Welcome to Scala!"
   ]
  },
  {
   "cell_type": "code",
   "execution_count": 2,
   "metadata": {},
   "outputs": [
    {
     "data": {
      "text/plain": [
       "x: Int = 0\r\n"
      ]
     },
     "execution_count": 2,
     "metadata": {},
     "output_type": "execute_result"
    }
   ],
   "source": [
    "val x:Int = 0"
   ]
  },
  {
   "cell_type": "code",
   "execution_count": 3,
   "metadata": {},
   "outputs": [
    {
     "name": "stdout",
     "output_type": "stream",
     "text": [
      "x = 0\n"
     ]
    }
   ],
   "source": [
    "println(\"x = \" + x)"
   ]
  },
  {
   "cell_type": "code",
   "execution_count": 4,
   "metadata": {},
   "outputs": [
    {
     "data": {
      "text/plain": [
       "import org.apache.spark.graphx._\r\n"
      ]
     },
     "execution_count": 4,
     "metadata": {},
     "output_type": "execute_result"
    }
   ],
   "source": [
    "import org.apache.spark.graphx._"
   ]
  },
  {
   "cell_type": "markdown",
   "metadata": {},
   "source": [
    "## Creating graphs\n",
    "Add some vertices:"
   ]
  },
  {
   "cell_type": "code",
   "execution_count": 5,
   "metadata": {},
   "outputs": [
    {
     "data": {
      "text/plain": [
       "myVertices1: org.apache.spark.rdd.RDD[(Long, String)] = ParallelCollectionRDD[0] at makeRDD at <console>:28\r\n",
       "myVertices: org.apache.spark.rdd.RDD[(Long, String)] = ParallelCollectionRDD[1] at makeRDD at <console>:37\r\n"
      ]
     },
     "execution_count": 5,
     "metadata": {},
     "output_type": "execute_result"
    }
   ],
   "source": [
    "val myVertices1 = sc.makeRDD(Array(\n",
    "    (1L, \"Alice\"), \n",
    "    (2L, \"Bob\"),\n",
    "    (3L, \"Charlie\"), \n",
    "    (4L, \"John Doe\"), \n",
    "    (5L, \"Eve\"),\n",
    "    (6L, \"Max\")\n",
    "))\n",
    "\n",
    "val myVertices = sc.makeRDD(Array(\n",
    "    (1L, \"Alice\"), \n",
    "    (2L, \"Bob\"),\n",
    "    (3L, \"Charlie\"), \n",
    "    (4L, \"John Doe\"), \n",
    "    (5L, \"Eve\")\n",
    ")) "
   ]
  },
  {
   "cell_type": "markdown",
   "metadata": {},
   "source": [
    "Add edges with attributes:"
   ]
  },
  {
   "cell_type": "code",
   "execution_count": 6,
   "metadata": {},
   "outputs": [
    {
     "data": {
      "text/plain": [
       "myEdges: org.apache.spark.rdd.RDD[org.apache.spark.graphx.Edge[String]] = ParallelCollectionRDD[2] at makeRDD at <console>:28\r\n"
      ]
     },
     "execution_count": 6,
     "metadata": {},
     "output_type": "execute_result"
    }
   ],
   "source": [
    "val myEdges = sc.makeRDD(Array(\n",
    "    Edge(1L, 2L, \"is-friends-with\"),\n",
    "    Edge(2L, 3L, \"is-friends-with\"), \n",
    "    Edge(3L, 4L, \"is-friends-with\"),\n",
    "    Edge(4L, 5L, \"follows\"), \n",
    "    Edge(3L, 5L, \"follows\")\n",
    "))"
   ]
  },
  {
   "cell_type": "markdown",
   "metadata": {},
   "source": [
    "Create a graph:"
   ]
  },
  {
   "cell_type": "code",
   "execution_count": 7,
   "metadata": {},
   "outputs": [
    {
     "data": {
      "text/plain": [
       "nonConsistentGraph: org.apache.spark.graphx.Graph[String,String] = org.apache.spark.graphx.impl.GraphImpl@38f79863\r\n",
       "consistentGraph: org.apache.spark.graphx.Graph[String,String] = org.apache.spark.graphx.impl.GraphImpl@4866e426\r\n",
       "myGraph: org.apache.spark.graphx.Graph[String,String] = org.apache.spark.graphx.impl.GraphImpl@4866e426\r\n"
      ]
     },
     "execution_count": 7,
     "metadata": {},
     "output_type": "execute_result"
    }
   ],
   "source": [
    "val nonConsistentGraph = Graph(myVertices1, myEdges)\n",
    "val consistentGraph = Graph(myVertices, myEdges)\n",
    "val myGraph = consistentGraph"
   ]
  },
  {
   "cell_type": "markdown",
   "metadata": {},
   "source": [
    "Look at vertices, edges and triplets:"
   ]
  },
  {
   "cell_type": "code",
   "execution_count": 8,
   "metadata": {},
   "outputs": [
    {
     "data": {
      "text/plain": [
       "res2: Array[(org.apache.spark.graphx.VertexId, String)] = Array((1,Alice), (2,Bob), (3,Charlie), (4,John Doe), (5,Eve))\r\n"
      ]
     },
     "execution_count": 8,
     "metadata": {},
     "output_type": "execute_result"
    }
   ],
   "source": [
    "myGraph.vertices.collect"
   ]
  },
  {
   "cell_type": "code",
   "execution_count": 9,
   "metadata": {},
   "outputs": [
    {
     "data": {
      "text/plain": [
       "res3: Array[org.apache.spark.graphx.Edge[String]] = Array(Edge(1,2,is-friends-with), Edge(2,3,is-friends-with), Edge(3,4,is-friends-with), Edge(4,5,follows), Edge(3,5,follows))\r\n"
      ]
     },
     "execution_count": 9,
     "metadata": {},
     "output_type": "execute_result"
    }
   ],
   "source": [
    "myGraph.edges.collect"
   ]
  },
  {
   "cell_type": "code",
   "execution_count": 10,
   "metadata": {},
   "outputs": [
    {
     "data": {
      "text/plain": [
       "res4: Array[org.apache.spark.graphx.EdgeTriplet[String,String]] = Array(((1,Alice),(2,Bob),is-friends-with), ((2,Bob),(3,Charlie),is-friends-with), ((3,Charlie),(4,John Doe),is-friends-with), ((4,John Doe),(5,Eve),follows), ((3,Charlie),(5,Eve),follows))\r\n"
      ]
     },
     "execution_count": 10,
     "metadata": {},
     "output_type": "execute_result"
    }
   ],
   "source": [
    "myGraph.triplets.collect"
   ]
  },
  {
   "cell_type": "markdown",
   "metadata": {},
   "source": [
    "Iterate over all triplets:"
   ]
  },
  {
   "cell_type": "code",
   "execution_count": 11,
   "metadata": {},
   "outputs": [
    {
     "name": "stdout",
     "output_type": "stream",
     "text": [
      "Alice is-friends-with Bob\n",
      "Bob is-friends-with Charlie\n",
      "Charlie is-friends-with John Doe\n",
      "John Doe follows Eve\n",
      "Charlie follows Eve\n"
     ]
    }
   ],
   "source": [
    "myGraph.triplets.map(\n",
    "  triplet => triplet.srcAttr + \" \" + triplet.attr + \" \" + triplet.dstAttr\n",
    ").collect.foreach(println(_))"
   ]
  },
  {
   "cell_type": "markdown",
   "metadata": {},
   "source": [
    "## Simple graph analysis\n",
    "Compute pagerank:"
   ]
  },
  {
   "cell_type": "code",
   "execution_count": 12,
   "metadata": {},
   "outputs": [
    {
     "data": {
      "text/plain": [
       "myPageRankGraph: org.apache.spark.graphx.Graph[Double,Double] = org.apache.spark.graphx.impl.GraphImpl@192e153f\r\n"
      ]
     },
     "execution_count": 12,
     "metadata": {},
     "output_type": "execute_result"
    }
   ],
   "source": [
    "val myPageRankGraph = myGraph.pageRank(0.0001)"
   ]
  },
  {
   "cell_type": "code",
   "execution_count": 13,
   "metadata": {},
   "outputs": [
    {
     "data": {
      "text/plain": [
       "res6: Array[(org.apache.spark.graphx.VertexId, Double)] = Array((1,0.4390416708169825), (2,0.8122270910114175), (3,1.1294346981766874), (4,0.9190514175420748), (5,1.7002451224528383))\r\n"
      ]
     },
     "execution_count": 13,
     "metadata": {},
     "output_type": "execute_result"
    }
   ],
   "source": [
    "myPageRankGraph.vertices.collect"
   ]
  },
  {
   "cell_type": "code",
   "execution_count": 14,
   "metadata": {},
   "outputs": [
    {
     "data": {
      "text/plain": [
       "res7: Array[(org.apache.spark.graphx.VertexId, (Double, String))] = Array((5,(1.7002451224528383,Eve)))\r\n"
      ]
     },
     "execution_count": 14,
     "metadata": {},
     "output_type": "execute_result"
    }
   ],
   "source": [
    "myGraph.pageRank(0.0001).vertices.join(myVertices).takeOrdered(1)(Ordering[Double].reverse.on(x => x._2._1))"
   ]
  },
  {
   "cell_type": "code",
   "execution_count": 15,
   "metadata": {},
   "outputs": [
    {
     "name": "stdout",
     "output_type": "stream",
     "text": [
      "2 has 1 in degrees.\n",
      "4 has 1 in degrees.\n",
      "3 has 1 in degrees.\n",
      "5 has 2 in degrees.\n"
     ]
    }
   ],
   "source": [
    "myGraph\n",
    "  .inDegrees // computes in Degrees\n",
    "  .foreach(x => println(x._1 + \" has \" + x._2 + \" in degrees.\"))"
   ]
  },
  {
   "cell_type": "markdown",
   "metadata": {},
   "source": [
    "## Pregel program example\n",
    "\n",
    "Goal: collect all the names of friends and followers in all the vertices. \n",
    "In every step all vertices send their names to all their connections, and merge together."
   ]
  },
  {
   "cell_type": "markdown",
   "metadata": {},
   "source": [
    "Initialize the graph such that all vertices start with empty set:\n"
   ]
  },
  {
   "cell_type": "code",
   "execution_count": 16,
   "metadata": {},
   "outputs": [
    {
     "data": {
      "text/plain": [
       "initialGraph: org.apache.spark.graphx.Graph[scala.collection.immutable.Set[String],String] = org.apache.spark.graphx.impl.GraphImpl@69c39a4b\r\n"
      ]
     },
     "execution_count": 16,
     "metadata": {},
     "output_type": "execute_result"
    }
   ],
   "source": [
    "val initialGraph = myGraph.mapVertices((_,v) => Set(v))"
   ]
  },
  {
   "cell_type": "code",
   "execution_count": 17,
   "metadata": {},
   "outputs": [
    {
     "data": {
      "text/plain": [
       "res9: Array[(org.apache.spark.graphx.VertexId, scala.collection.immutable.Set[String])] = Array((1,Set(Alice)), (2,Set(Bob)), (3,Set(Charlie)), (4,Set(John Doe)), (5,Set(Eve)))\r\n"
      ]
     },
     "execution_count": 17,
     "metadata": {},
     "output_type": "execute_result"
    }
   ],
   "source": [
    "initialGraph.vertices.collect"
   ]
  },
  {
   "cell_type": "markdown",
   "metadata": {},
   "source": [
    "Run Pregel for 1 step:"
   ]
  },
  {
   "cell_type": "code",
   "execution_count": 18,
   "metadata": {},
   "outputs": [
    {
     "data": {
      "text/plain": [
       "g: org.apache.spark.graphx.Graph[scala.collection.immutable.Set[String],String] = org.apache.spark.graphx.impl.GraphImpl@61ce1855\r\n",
       "res10: Array[(org.apache.spark.graphx.VertexId, scala.collection.immutable.Set[String])] = Array((1,Set(Alice)), (2,Set(Bob, Alice)), (3,Set(Charlie, Bob)), (4,Set(John Doe, Charlie)), (5,Set(Eve, John Doe, Charlie)))\r\n"
      ]
     },
     "execution_count": 18,
     "metadata": {},
     "output_type": "execute_result"
    }
   ],
   "source": [
    "val g = Pregel(initialGraph,                                   //  Graph<VD,ED> graph\n",
    "               Set[String](),                                  //  A initialMsg\n",
    "               1,                                              //  int maxIterations,\n",
    "               activeDirection = EdgeDirection.Out)(           //  EdgeDirection activeDirection,\n",
    "               (id, value, message) => value union message,    //  scala.Function3<Object,VD,A,VD> vprog\n",
    "               triplet =>                                      //  scala.Function1<EdgeTriplet<VD,ED>,scala.collection.Iterator<scala.Tuple2<Object,A>>> sendMsg,\n",
    "                    Iterator((triplet.dstId, triplet.srcAttr)),\n",
    "               (a,b) => a union b                              //  mergeMsg\n",
    "              )              \n",
    "\n",
    "g.vertices.collect"
   ]
  },
  {
   "cell_type": "markdown",
   "metadata": {},
   "source": [
    "Run Pregel for 2 steps:"
   ]
  },
  {
   "cell_type": "code",
   "execution_count": 19,
   "metadata": {},
   "outputs": [
    {
     "data": {
      "text/plain": [
       "g: org.apache.spark.graphx.Graph[scala.collection.immutable.Set[String],String] = org.apache.spark.graphx.impl.GraphImpl@2e725f6e\r\n",
       "res11: Array[(org.apache.spark.graphx.VertexId, scala.collection.immutable.Set[String])] = Array((1,Set(Alice)), (2,Set(Bob, Alice)), (3,Set(Charlie, Bob, Alice)), (4,Set(John Doe, Charlie, Bob)), (5,Set(Eve, John Doe, Charlie, Bob)))\r\n"
      ]
     },
     "execution_count": 19,
     "metadata": {},
     "output_type": "execute_result"
    }
   ],
   "source": [
    "val g = Pregel(initialGraph,                                   //  Graph<VD,ED> graph\n",
    "               Set[String](),                                  //  A initialMsg\n",
    "               2,                                              //  int maxIterations,\n",
    "               activeDirection = EdgeDirection.Out)(           //  EdgeDirection activeDirection,\n",
    "               (id, value, message) => value union message,    //  scala.Function3<Object,VD,A,VD> vprog\n",
    "               triplet =>                                      //  scala.Function1<EdgeTriplet<VD,ED>,scala.collection.Iterator<scala.Tuple2<Object,A>>> sendMsg,\n",
    "                    Iterator((triplet.dstId, triplet.srcAttr)),\n",
    "               (a,b) => a union b                              //  mergeMsg\n",
    "              )              \n",
    "\n",
    "g.vertices.collect"
   ]
  },
  {
   "cell_type": "markdown",
   "metadata": {},
   "source": [
    "Run Pregel for 3 steps:"
   ]
  },
  {
   "cell_type": "code",
   "execution_count": 20,
   "metadata": {},
   "outputs": [
    {
     "data": {
      "text/plain": [
       "g: org.apache.spark.graphx.Graph[scala.collection.immutable.Set[String],String] = org.apache.spark.graphx.impl.GraphImpl@76711534\r\n",
       "res12: Array[(org.apache.spark.graphx.VertexId, scala.collection.immutable.Set[String])] = Array((1,Set(Alice)), (2,Set(Bob, Alice)), (3,Set(Charlie, Bob, Alice)), (4,Set(John Doe, Charlie, Bob, Alice)), (5,Set(Eve, Bob, Alice, John Doe, Charlie)))\r\n"
      ]
     },
     "execution_count": 20,
     "metadata": {},
     "output_type": "execute_result"
    }
   ],
   "source": [
    "val g = Pregel(initialGraph,                                   //  Graph<VD,ED> graph\n",
    "               Set[String](),                                  //  A initialMsg\n",
    "               3,                                              //  int maxIterations,\n",
    "               activeDirection = EdgeDirection.Out)(           //  EdgeDirection activeDirection,\n",
    "               (id, value, message) => value union message,    //  scala.Function3<Object,VD,A,VD> vprog\n",
    "               triplet =>                                      //  scala.Function1<EdgeTriplet<VD,ED>,scala.collection.Iterator<scala.Tuple2<Object,A>>> sendMsg,\n",
    "                    Iterator((triplet.dstId, triplet.srcAttr)),\n",
    "               (a,b) => a union b                              //  mergeMsg\n",
    "              )              \n",
    "\n",
    "g.vertices.collect"
   ]
  },
  {
   "cell_type": "markdown",
   "metadata": {},
   "source": [
    "The same but with more explicit type definitions:"
   ]
  },
  {
   "cell_type": "code",
   "execution_count": 21,
   "metadata": {},
   "outputs": [
    {
     "data": {
      "text/plain": [
       "vprog: (id: org.apache.spark.graphx.VertexId, value: Set[String], message: Set[String])Set[String]\r\n",
       "sendMsg: (et: org.apache.spark.graphx.EdgeTriplet[Set[String],String])Iterator[(org.apache.spark.graphx.VertexId, Set[String])]\r\n",
       "mergeMsg: (a: Set[String], b: Set[String])Set[String]\r\n",
       "g: org.apache.spark.graphx.Graph[scala.collection.immutable.Set[String],String] = org.apache.spark.graphx.impl.GraphImpl@23e031ad\r\n",
       "res13: Array[(org.apache.spark.graphx.VertexId, scala.collection.immutable.Set[String])] = Array((1,Set(Alice)), (2,Set(Bob, Alice)), (3,Set(Charlie, Bob, Alice)), (4,Set(John Doe, Charlie, Bob, Alice)), (5,Set(Eve, Bob, Alice, John Doe, Charlie)))\r\n"
      ]
     },
     "execution_count": 21,
     "metadata": {},
     "output_type": "execute_result"
    }
   ],
   "source": [
    "\n",
    "// Vertex program - a function to apply to each vertex on a received message\n",
    "def vprog(id:VertexId, value:Set[String], message:Set[String]): Set[String] = {\n",
    "    value union message\n",
    "}\n",
    "\n",
    "// Send function: \n",
    "def sendMsg(et:EdgeTriplet[Set[String],String]): Iterator[Tuple2[VertexId,Set[String]]] = {                 \n",
    "                    Iterator((et.dstId, et.srcAttr))\n",
    "}\n",
    "\n",
    "def mergeMsg(a:Set[String],b:Set[String]): Set[String] = {\n",
    "    a union b\n",
    "} \n",
    "\n",
    "val g = Pregel(initialGraph,                                 //  Graph<VD,ED> graph\n",
    "               Set[String](),                                //  A initialMsg\n",
    "               4,                                            //  int maxIterations,\n",
    "               activeDirection = EdgeDirection.Out)(         //  EdgeDirection activeDirection,\n",
    "               vprog,                                        //  scala.Function3<Object,VD,A,VD> vprog\n",
    "               sendMsg ,                                     //  scala.Function1<EdgeTriplet<VD,ED>,scala.collection.Iterator<scala.Tuple2<Object,A>>> sendMsg,\n",
    "               mergeMsg                                      //  mergeMsg: (A, A) => A\n",
    "              )              \n",
    "\n",
    "g.vertices.collect"
   ]
  },
  {
   "cell_type": "markdown",
   "metadata": {},
   "source": [
    "# Zadanie domowe"
   ]
  },
  {
   "cell_type": "markdown",
   "metadata": {},
   "source": [
    "## 1. Wczytać graf Facebooka, krawędzie z pliku musae_facebook_edges.csv, atrybuty page_name oraz page_type z pliku musae_facebook_target.csv.  Policzyć liczbę krawędzi i wierzchołków. (1 p.)"
   ]
  },
  {
   "cell_type": "markdown",
   "metadata": {},
   "source": [
    "Pobrano odpowiednie pliki csv z Kaggle."
   ]
  },
  {
   "cell_type": "code",
   "execution_count": 22,
   "metadata": {},
   "outputs": [
    {
     "data": {
      "text/plain": [
       "import org.apache.spark.sql.Row\r\n"
      ]
     },
     "execution_count": 22,
     "metadata": {},
     "output_type": "execute_result"
    }
   ],
   "source": [
    "import org.apache.spark.sql.Row"
   ]
  },
  {
   "cell_type": "code",
   "execution_count": 23,
   "metadata": {},
   "outputs": [
    {
     "data": {
      "text/plain": [
       "targetCsvPath: String = C:\\Users\\mikol\\Desktop\\INFORMATYKA\\MGR\\ADZD\\lab5\\musae_facebook_target.csv\r\n",
       "edgesCsvPath: String = C:\\Users\\mikol\\Desktop\\INFORMATYKA\\MGR\\ADZD\\lab5\\musae_facebook_edges.csv\r\n"
      ]
     },
     "execution_count": 23,
     "metadata": {},
     "output_type": "execute_result"
    }
   ],
   "source": [
    "val targetCsvPath = \"C:\\\\Users\\\\mikol\\\\Desktop\\\\INFORMATYKA\\\\MGR\\\\ADZD\\\\lab5\\\\musae_facebook_target.csv\"\n",
    "val edgesCsvPath = \"C:\\\\Users\\\\mikol\\\\Desktop\\\\INFORMATYKA\\\\MGR\\\\ADZD\\\\lab5\\\\musae_facebook_edges.csv\""
   ]
  },
  {
   "cell_type": "code",
   "execution_count": 24,
   "metadata": {},
   "outputs": [
    {
     "data": {
      "text/plain": [
       "target: org.apache.spark.sql.DataFrame = [id: string, facebook_id: string ... 2 more fields]\r\n"
      ]
     },
     "execution_count": 24,
     "metadata": {},
     "output_type": "execute_result"
    }
   ],
   "source": [
    "val target = spark.read.option(\"header\",\"true\").csv(s\"file:///$targetCsvPath\")"
   ]
  },
  {
   "cell_type": "code",
   "execution_count": 25,
   "metadata": {},
   "outputs": [
    {
     "data": {
      "text/plain": [
       "fbVertices: org.apache.spark.rdd.RDD[(Long, (String, String))] = MapPartitionsRDD[529] at map at <console>:30\r\n"
      ]
     },
     "execution_count": 25,
     "metadata": {},
     "output_type": "execute_result"
    }
   ],
   "source": [
    "val fbVertices = target.select(\"id\", \"page_name\", \"page_type\").rdd.map {\n",
    "    case Row(id: String, pageName: String, pageType: String) =>\n",
    "        (id.toLong, (pageName, pageType))\n",
    "}"
   ]
  },
  {
   "cell_type": "code",
   "execution_count": 26,
   "metadata": {},
   "outputs": [
    {
     "data": {
      "text/plain": [
       "edges: org.apache.spark.sql.DataFrame = [id_1: string, id_2: string]\r\n"
      ]
     },
     "execution_count": 26,
     "metadata": {},
     "output_type": "execute_result"
    }
   ],
   "source": [
    "val edges = spark.read.option(\"header\",\"true\").csv(s\"file:///$edgesCsvPath\")"
   ]
  },
  {
   "cell_type": "code",
   "execution_count": 27,
   "metadata": {},
   "outputs": [
    {
     "data": {
      "text/plain": [
       "fbEdges: org.apache.spark.rdd.RDD[org.apache.spark.graphx.Edge[Long]] = MapPartitionsRDD[545] at map at <console>:30\r\n"
      ]
     },
     "execution_count": 27,
     "metadata": {},
     "output_type": "execute_result"
    }
   ],
   "source": [
    "val fbEdges = edges.rdd.map {\n",
    "    case Row(id1: String, id2: String) =>\n",
    "        Edge[Long](id1.toLong, id2.toLong)\n",
    "}"
   ]
  },
  {
   "cell_type": "code",
   "execution_count": 28,
   "metadata": {},
   "outputs": [
    {
     "data": {
      "text/plain": [
       "fbGraph: org.apache.spark.graphx.Graph[(String, String),Long] = org.apache.spark.graphx.impl.GraphImpl@6881a3e6\r\n"
      ]
     },
     "execution_count": 28,
     "metadata": {},
     "output_type": "execute_result"
    }
   ],
   "source": [
    "val fbGraph = Graph(fbVertices, fbEdges)"
   ]
  },
  {
   "cell_type": "code",
   "execution_count": 29,
   "metadata": {},
   "outputs": [
    {
     "data": {
      "text/plain": [
       "res14: Long = 22470\r\n"
      ]
     },
     "execution_count": 29,
     "metadata": {},
     "output_type": "execute_result"
    }
   ],
   "source": [
    "fbGraph.numVertices"
   ]
  },
  {
   "cell_type": "code",
   "execution_count": 30,
   "metadata": {},
   "outputs": [
    {
     "data": {
      "text/plain": [
       "res15: Long = 171002\r\n"
      ]
     },
     "execution_count": 30,
     "metadata": {},
     "output_type": "execute_result"
    }
   ],
   "source": [
    "fbGraph.numEdges"
   ]
  },
  {
   "cell_type": "markdown",
   "metadata": {},
   "source": [
    "## 2. Sprawdzić czy graf jest spójny. Czy dwa podgrafy utworzone dla typów strony politician oraz company też są spójne? (1 p.)"
   ]
  },
  {
   "cell_type": "code",
   "execution_count": 31,
   "metadata": {},
   "outputs": [
    {
     "data": {
      "text/plain": [
       "isGraphConsistent: (graph: org.apache.spark.graphx.Graph[_, _])Boolean\r\n"
      ]
     },
     "execution_count": 31,
     "metadata": {},
     "output_type": "execute_result"
    }
   ],
   "source": [
    "def isGraphConsistent(graph: Graph[_, _]): Boolean = {\n",
    "    graph.connectedComponents.vertices.map(_._2).distinct.count == 1\n",
    "}"
   ]
  },
  {
   "cell_type": "code",
   "execution_count": 32,
   "metadata": {},
   "outputs": [
    {
     "data": {
      "text/plain": [
       "res16: Boolean = false\r\n"
      ]
     },
     "execution_count": 32,
     "metadata": {},
     "output_type": "execute_result"
    }
   ],
   "source": [
    "// test\n",
    "isGraphConsistent(nonConsistentGraph)"
   ]
  },
  {
   "cell_type": "code",
   "execution_count": 33,
   "metadata": {},
   "outputs": [
    {
     "data": {
      "text/plain": [
       "res17: Boolean = true\r\n"
      ]
     },
     "execution_count": 33,
     "metadata": {},
     "output_type": "execute_result"
    }
   ],
   "source": [
    "// test\n",
    "isGraphConsistent(consistentGraph)"
   ]
  },
  {
   "cell_type": "code",
   "execution_count": 34,
   "metadata": {},
   "outputs": [
    {
     "data": {
      "text/plain": [
       "res18: Boolean = true\r\n"
      ]
     },
     "execution_count": 34,
     "metadata": {},
     "output_type": "execute_result"
    }
   ],
   "source": [
    "isGraphConsistent(fbGraph)"
   ]
  },
  {
   "cell_type": "code",
   "execution_count": 35,
   "metadata": {},
   "outputs": [
    {
     "name": "stdout",
     "output_type": "stream",
     "text": [
      "5768\n",
      "36909\n"
     ]
    },
    {
     "data": {
      "text/plain": [
       "politicianFbGraph: org.apache.spark.graphx.Graph[(String, String),Long] = org.apache.spark.graphx.impl.GraphImpl@5537190d\r\n"
      ]
     },
     "execution_count": 35,
     "metadata": {},
     "output_type": "execute_result"
    }
   ],
   "source": [
    "val politicianFbGraph = fbGraph.subgraph(vpred = (id, attr) => attr._2 == \"politician\")\n",
    "println(politicianFbGraph.numVertices)\n",
    "println(politicianFbGraph.numEdges)"
   ]
  },
  {
   "cell_type": "code",
   "execution_count": 36,
   "metadata": {},
   "outputs": [
    {
     "name": "stdout",
     "output_type": "stream",
     "text": [
      "6495\n",
      "20145\n"
     ]
    },
    {
     "data": {
      "text/plain": [
       "companyFbGraph: org.apache.spark.graphx.Graph[(String, String),Long] = org.apache.spark.graphx.impl.GraphImpl@36fa5f7d\r\n"
      ]
     },
     "execution_count": 36,
     "metadata": {},
     "output_type": "execute_result"
    }
   ],
   "source": [
    "val companyFbGraph = fbGraph.subgraph(vpred = (id, attr) => attr._2 == \"company\")\n",
    "println(companyFbGraph.numVertices)\n",
    "println(companyFbGraph.numEdges)"
   ]
  },
  {
   "cell_type": "code",
   "execution_count": 37,
   "metadata": {},
   "outputs": [
    {
     "data": {
      "text/plain": [
       "res21: Boolean = false\r\n"
      ]
     },
     "execution_count": 37,
     "metadata": {},
     "output_type": "execute_result"
    }
   ],
   "source": [
    "isGraphConsistent(politicianFbGraph)"
   ]
  },
  {
   "cell_type": "code",
   "execution_count": 38,
   "metadata": {},
   "outputs": [
    {
     "data": {
      "text/plain": [
       "res22: Boolean = false\r\n"
      ]
     },
     "execution_count": 38,
     "metadata": {},
     "output_type": "execute_result"
    }
   ],
   "source": [
    "isGraphConsistent(companyFbGraph)"
   ]
  },
  {
   "cell_type": "markdown",
   "metadata": {},
   "source": [
    "## 3. Spośród 1000 stron o najwyższym PageRank znaleźć 50 takich (wypisać page_name i page_type), które mają najmniej połączeń oraz 50 o największej liczbie połączeń. Który typ strony był dominujący w każdej z tych kategorii? Narysować wykres zależności PageRank od liczby krawędzi dla wierzchołków (scatter plot) (2 p.)\n"
   ]
  },
  {
   "cell_type": "code",
   "execution_count": 39,
   "metadata": {},
   "outputs": [
    {
     "data": {
      "text/plain": [
       "ranks: org.apache.spark.graphx.VertexRDD[Double] = VertexRDDImpl[2511] at RDD at VertexRDD.scala:57\r\n"
      ]
     },
     "execution_count": 39,
     "metadata": {},
     "output_type": "execute_result"
    }
   ],
   "source": [
    "val ranks = fbGraph.pageRank(0.0001).vertices"
   ]
  },
  {
   "cell_type": "code",
   "execution_count": 40,
   "metadata": {},
   "outputs": [
    {
     "data": {
      "text/plain": [
       "degrees: org.apache.spark.graphx.VertexRDD[Int] = VertexRDDImpl[2521] at RDD at VertexRDD.scala:57\r\n"
      ]
     },
     "execution_count": 40,
     "metadata": {},
     "output_type": "execute_result"
    }
   ],
   "source": [
    "val degrees = fbGraph.degrees"
   ]
  },
  {
   "cell_type": "code",
   "execution_count": 41,
   "metadata": {},
   "outputs": [
    {
     "data": {
      "text/plain": [
       "import org.apache.spark.graphx.VertexId\r\n",
       "unpack: (x: (org.apache.spark.graphx.VertexId, ((Double, (String, String)), Int)))(org.apache.spark.graphx.VertexId, Double, String, String, Int)\r\n",
       "top1000ranks: Array[(org.apache.spark.graphx.VertexId, Double, String, String, Int)] = Array((21729,118.94062246226493,The Obama White House,government,659), (22208,67.13872903779735,U.S. Department of State: Consular Affairs,government,205), (21781,56.441613845721264,Microsoft,company,14), (22440,55.24474131605631,City of Los Altos Police Department,government,43), (22057,48.04856548641234,The Connecticut National Guard,government,68), (22438,47.83973751107938,Federica Mogherini,politician,104), (22329,47.03110185659073,NHTSA,government,105), (20415,42.78414021359821,Joachim Herrmann,politician,320), ...\r\n"
      ]
     },
     "execution_count": 41,
     "metadata": {},
     "output_type": "execute_result"
    }
   ],
   "source": [
    "import org.apache.spark.graphx.VertexId\n",
    "\n",
    "def unpack(x: (VertexId, ((Double, (String, String)), Int))): (VertexId, Double, String, String, Int) = {\n",
    "    (x._1, x._2._1._1, x._2._1._2._1, x._2._1._2._2, x._2._2)\n",
    "}\n",
    "\n",
    "val top1000ranks = ranks.join(fbVertices).join(degrees).map(unpack).takeOrdered(1000)(Ordering[Double].reverse.on(x => x._2))"
   ]
  },
  {
   "cell_type": "code",
   "execution_count": 42,
   "metadata": {},
   "outputs": [
    {
     "data": {
      "text/plain": [
       "maxs: Array[(org.apache.spark.graphx.VertexId, Double, String, String, Int)] = Array((16895,20.611043303460775,U.S. Army,government,709), (19743,34.63886769999217,The White House,government,678), (21729,118.94062246226493,The Obama White House,government,659), (14497,16.245459331338928,U.S. Army Chaplain Corps,government,650), (10379,12.346423772469661,U.S. Department of State,government,468), (19347,25.577927493566285,FEMA Federal Emergency Management Agency,government,448), (21120,10.07828348764197,European Parliament,government,417), (15236,6.834541980826804,United States Air Force,government,375), (10426,6.95461885867345,Los Angeles District, U.S. Army Corps of Engineers,government,370), (11003,8.344303166882863,Barack Obama,politician,341), (13294,6.047145315385699,European Commiss...\r\n"
      ]
     },
     "execution_count": 42,
     "metadata": {},
     "output_type": "execute_result"
    }
   ],
   "source": [
    "val maxs = sc.makeRDD(top1000ranks).takeOrdered(50)(Ordering[Int].reverse.on(_._5))"
   ]
  },
  {
   "cell_type": "code",
   "execution_count": null,
   "metadata": {},
   "outputs": [],
   "source": [
    "val mins = sc.makeRDD(top1000ranks).takeOrdered(50)(Ordering[Int].on(_._5))"
   ]
  },
  {
   "cell_type": "code",
   "execution_count": 44,
   "metadata": {},
   "outputs": [
    {
     "data": {
      "text/plain": [
       "res23: (String, Int) = (government,38)\r\n"
      ]
     },
     "execution_count": 44,
     "metadata": {},
     "output_type": "execute_result"
    }
   ],
   "source": [
    "maxs.groupBy(_._4).mapValues(_.length).toList.sortBy(_._2).last"
   ]
  },
  {
   "cell_type": "code",
   "execution_count": 45,
   "metadata": {},
   "outputs": [
    {
     "data": {
      "text/plain": [
       "res24: (String, Int) = (company,28)\r\n"
      ]
     },
     "execution_count": 45,
     "metadata": {},
     "output_type": "execute_result"
    }
   ],
   "source": [
    "mins.groupBy(_._4).mapValues(_.length).toList.sortBy(_._2).last"
   ]
  },
  {
   "cell_type": "code",
   "execution_count": 46,
   "metadata": {},
   "outputs": [
    {
     "data": {
      "text/plain": [
       "top1000ranksStrings: Array[String] = Array(118.94062246226493,659, 67.13872903779735,205, 56.441613845721264,14, 55.24474131605631,43, 48.04856548641234,68, 47.83973751107938,104, 47.03110185659073,105, 42.78414021359821,320, 36.55870819775853,148, 36.20924476176661,83, 34.63886769999217,678, 31.765609594721898,65, 30.532277625782353,74, 29.641706896456522,224, 29.088654164718225,63, 28.650085613946775,94, 28.559749806264737,104, 28.34340714898279,87, 27.4708496839289,38, 26.42019668805966,112, 25.989419727097573,92, 25.577927493566285,448, 25.058204594289638,330, 24.597737617871704,195, 23.417557163818678,174, 23.251635225142444,145, 22.84975735303852,26, 22.67540638575376,14, 22.058973746042643,46, 21.882670018181418,101, 21.785334081719263,106, 21.7360092335009,86, 21.374762071191277...\r\n"
      ]
     },
     "execution_count": 46,
     "metadata": {},
     "output_type": "execute_result"
    }
   ],
   "source": [
    "val top1000ranksStrings = top1000ranks.map(x => s\"${x._2},${x._5}\")"
   ]
  },
  {
   "cell_type": "code",
   "execution_count": 47,
   "metadata": {},
   "outputs": [
    {
     "data": {
      "text/plain": [
       "Text(0, 0.5, 'degree')"
      ]
     },
     "execution_count": 47,
     "metadata": {},
     "output_type": "execute_result"
    }
   ],
   "source": [
    "%%python\n",
    "import csv\n",
    "import matplotlib.pyplot as plt\n",
    "\n",
    "ranks = []\n",
    "degrees = []\n",
    "with open('results.csv', newline='') as csvfile:\n",
    "    reader = csv.reader(csvfile, delimiter=',')\n",
    "    header=True   \n",
    "    for row in reader:\n",
    "        if header:\n",
    "            header = False\n",
    "        else:\n",
    "            row = ', '.join(row)\n",
    "            x, y = (row.split(','))\n",
    "            x = float(x)\n",
    "            y = int(y)\n",
    "            ranks.append(x)\n",
    "            degrees.append(y)\n",
    "\n",
    "plt.scatter(ranks, degrees)\n",
    "plt.xlabel('rank')\n",
    "plt.ylabel('degree')\n",
    "# plt.show()"
   ]
  },
  {
   "cell_type": "code",
   "execution_count": 48,
   "metadata": {},
   "outputs": [
    {
     "data": {
      "image/png": "[encoded data removed]",
      "text/plain": [
       "<IPython.core.display.Image object>"
      ]
     },
     "execution_count": 48,
     "metadata": {},
     "output_type": "execute_result"
    }
   ],
   "source": [
    "%%python\n",
    "from IPython.display import Image\n",
    "Image(filename='Figure_1.png') "
   ]
  },
  {
   "cell_type": "markdown",
   "metadata": {},
   "source": [
    "## 4. Korzystając z Pregel API zaimplementować następujący algorytm. W pierwszym kroku wybrana strona publikuje post fake news. W kolejnym kroku ten post publikowany jest przez ⅓ losowo wybranych kontaktów tej strony. W dalszych krokach, dla każdej strony, która opublikowała już ten post, losowo wybrane ⅓ jej kontaktów publikuje go u siebie. Pokazać jak zmienia się liczba stron które opublikowały post w zależności od liczby kroków. (2 p.)"
   ]
  },
  {
   "cell_type": "code",
   "execution_count": 49,
   "metadata": {},
   "outputs": [
    {
     "data": {
      "text/plain": [
       "randomId: org.apache.spark.graphx.VertexId = 7052\r\n",
       "repostGraph: org.apache.spark.graphx.Graph[Boolean,Long] = org.apache.spark.graphx.impl.GraphImpl@393168fb\r\n"
      ]
     },
     "execution_count": 49,
     "metadata": {},
     "output_type": "execute_result"
    }
   ],
   "source": [
    "val randomId = fbGraph.vertices.takeSample(false, 1)(0)._1\n",
    "val repostGraph = fbGraph.mapVertices((id,_) => if (id == randomId) true else false)"
   ]
  },
  {
   "cell_type": "code",
   "execution_count": 50,
   "metadata": {},
   "outputs": [
    {
     "data": {
      "text/plain": [
       "import scala.util.Random\r\n",
       "rand: scala.util.Random = scala.util.Random@fc40e4b\r\n"
      ]
     },
     "execution_count": 50,
     "metadata": {},
     "output_type": "execute_result"
    }
   ],
   "source": [
    "import scala.util.Random\n",
    "\n",
    "val rand = new Random(250)"
   ]
  },
  {
   "cell_type": "code",
   "execution_count": 51,
   "metadata": {
    "scrolled": true
   },
   "outputs": [
    {
     "name": "stdout",
     "output_type": "stream",
     "text": [
      "------------------------------------\n",
      "Probability of repost: 1/2\n",
      "\n",
      "MaxIterations: 1\n",
      "Percentage: 0.5305295950155763\n",
      "MaxIterations: 2\n",
      "Percentage: 0.5543391188251001\n",
      "MaxIterations: 3\n",
      "Percentage: 0.5731642189586115\n",
      "MaxIterations: 4\n",
      "Percentage: 0.5875834445927904\n",
      "MaxIterations: 5\n",
      "Percentage: 0.59942145082332\n",
      "MaxIterations: 6\n",
      "Percentage: 0.6094348019581665\n",
      "MaxIterations: 7\n",
      "Percentage: 0.618380062305296\n",
      "MaxIterations: 8\n",
      "Percentage: 0.6257676902536715\n",
      "MaxIterations: 9\n",
      "Percentage: 0.6317311971517579\n",
      "MaxIterations: 10\n",
      "Percentage: 0.6379617267467734\n",
      "------------------------------------\n",
      "Probability of repost: 1/3\n",
      "\n",
      "MaxIterations: 1\n",
      "Percentage: 0.34913217623498\n",
      "MaxIterations: 2\n",
      "Percentage: 0.36328437917222967\n",
      "MaxIterations: 3\n",
      "Percentage: 0.37485536270583\n",
      "MaxIterations: 4\n",
      "Percentage: 0.38420115709835334\n",
      "MaxIterations: 5\n",
      "Percentage: 0.3919893190921228\n",
      "MaxIterations: 6\n",
      "Percentage: 0.39848687138406763\n",
      "MaxIterations: 7\n",
      "Percentage: 0.4048954161103694\n",
      "MaxIterations: 8\n",
      "Percentage: 0.4108589230084557\n",
      "MaxIterations: 9\n",
      "Percentage: 0.4164218958611482\n",
      "MaxIterations: 10\n",
      "Percentage: 0.4212283044058745\n",
      "------------------------------------\n",
      "Probability of repost: 1/4\n",
      "\n",
      "MaxIterations: 1\n",
      "Percentage: 0.2599020916777926\n",
      "MaxIterations: 2\n",
      "Percentage: 0.26978193146417445\n",
      "MaxIterations: 3\n",
      "Percentage: 0.2791722296395194\n",
      "MaxIterations: 4\n",
      "Percentage: 0.28642634623943036\n",
      "MaxIterations: 5\n",
      "Percentage: 0.29230084557187364\n",
      "MaxIterations: 6\n",
      "Percentage: 0.2978638184245661\n",
      "MaxIterations: 7\n",
      "Percentage: 0.3032487761459724\n",
      "MaxIterations: 8\n",
      "Percentage: 0.3079216733422341\n",
      "MaxIterations: 9\n",
      "Percentage: 0.31223854027592346\n",
      "MaxIterations: 10\n",
      "Percentage: 0.31588785046728973\n",
      "------------------------------------\n",
      "Probability of repost: 1/5\n",
      "\n",
      "MaxIterations: 1\n",
      "Percentage: 0.21068090787716956\n",
      "MaxIterations: 2\n",
      "Percentage: 0.2162883845126836\n",
      "MaxIterations: 3\n",
      "Percentage: 0.22149532710280373\n",
      "MaxIterations: 4\n",
      "Percentage: 0.2260347129506008\n",
      "MaxIterations: 5\n",
      "Percentage: 0.22999554962171784\n",
      "MaxIterations: 6\n",
      "Percentage: 0.23377837116154873\n",
      "MaxIterations: 7\n",
      "Percentage: 0.23738317757009345\n",
      "MaxIterations: 8\n",
      "Percentage: 0.24072096128170895\n",
      "MaxIterations: 9\n",
      "Percentage: 0.24396973742768135\n",
      "MaxIterations: 10\n",
      "Percentage: 0.24721851357365376\n"
     ]
    }
   ],
   "source": [
    "for (sampleSize <- 2 to 5) {\n",
    "    println(\"------------------------------------\")\n",
    "    println(s\"Probability of repost: 1/$sampleSize\\n\")\n",
    "    for (maxIterations <- 1 to 10){\n",
    "\n",
    "    val g = Pregel(repostGraph,                                    //  Graph<VD,ED> graph\n",
    "                   true,                                           //  A initialMsg      \n",
    "                   maxIterations,                                              //  int maxIterations,\n",
    "                   activeDirection = EdgeDirection.Out)(           //  EdgeDirection activeDirection,\n",
    "                   (id, value, message) => value || (message && rand.nextInt(sampleSize)==0), //  scala.Function3<Object,VD,A,VD> vprog\n",
    "                   triplet =>                                      //  scala.Function1<EdgeTriplet<VD,ED>,scala.collection.Iterator<scala.Tuple2<Object,A>>> sendMsg,\n",
    "                        Iterator((triplet.dstId, triplet.srcAttr)),\n",
    "                   (a,b) => a && b                          //  mergeMsg\n",
    "                  )              \n",
    "\n",
    "        val postsNumber = g.subgraph(vpred = (v, d) => d).vertices.count\n",
    "        println(s\"MaxIterations: $maxIterations\")\n",
    "        println(\"Percentage: \" + postsNumber / fbGraph.numVertices.toDouble)\n",
    "    }\n",
    "}"
   ]
  },
  {
   "cell_type": "markdown",
   "metadata": {},
   "source": [
    "## 5. Narysować wykres rozkładu stopnia wierzchołków w grafie w skali logarytmicznej. Można skorzystać z funkcji obliczającej histogram dla RDD. Czy sieć jest bezskalowa (scale-free)? https://barabasi.com/f/623.pdf  (2 p.)"
   ]
  },
  {
   "cell_type": "code",
   "execution_count": 79,
   "metadata": {},
   "outputs": [
    {
     "name": "stdout",
     "output_type": "stream",
     "text": [
      "counts = [2658,2307,1843,1516,1359,1114,974,811,731,618,555,494,452,391,380,333,348,316,265,264,233,227,213,193,200,192,149,145,151,127,132,112,130,102,107,107,89,85,70,74,67,70,76,69,59,49,51,52,45,48,54,35,53,34,36,36,37,27,38,37,33,41,19,27,22,21,29,25,32,19,20,15,19,19,16,19,13,13,10,11,12,8,18,9,8,12,13,12,10,13,7,9,8,13,4,7,8,3,13,5,8,5,3,10,11,8,7,5,5,4,3,11,4,6,4,7,5,3,3,7,7,5,3,2,4,2,3,1,3,3,3,3,3,3,1,1,5,2,3,4,4,3,3,4,3,2,4,1,1,1,1,1,3,3,1,1,1,1,1,2,1,1,1,1,1,2,3,1,2,2,2,1,2,1,1,2,1,1,1,2,3,1,1,1,2,1,1,1,1,3,1,1,2,2,1,1,2,1,1,1,1,1,2,1,1,2,1,2,1,1,1,1,1,1,2,1,1,1,1,1,1,1,1,1,1,1,1,1,1,1,1,1,1]\n",
      "degree = [1,2,3,4,5,6,7,8,9,10,11,12,13,14,15,16,17,18,19,20,21,22,23,24,25,26,27,28,29,30,31,32,33,34,35,36,37,38,39,40,41,42,43,44,45,46,47,48,49,50,51,52,53,54,55,56,57,58,59,60,61,62,63,64,65,66,67,68,69,70,71,72,73,74,75,76,77,78,79,80,81,82,83,84,85,86,87,88,89,90,91,92,93,94,95,96,97,98,99,100,101,102,103,104,105,106,107,108,109,110,111,112,113,114,115,116,117,118,119,120,121,122,123,124,125,126,127,128,129,131,132,133,134,135,136,137,138,139,140,141,142,143,144,145,146,147,148,149,150,151,152,153,155,156,157,158,162,163,166,167,168,169,170,171,172,174,177,178,181,182,183,185,188,189,191,193,194,195,196,199,201,203,205,212,214,216,217,218,220,222,224,225,226,229,233,234,236,237,240,241,244,256,257,260,266,275,280,288,290,296,298,320,326,328,330,333,338,341,351,364,370,375,380,387,408,417,448,468,504,650,659,678,709]\n"
     ]
    },
    {
     "data": {
      "text/plain": [
       "degreeCounts: Array[(Int, Int)] = Array((1,2658), (2,2307), (3,1843), (4,1516), (5,1359), (6,1114), (7,974), (8,811), (9,731), (10,618), (11,555), (12,494), (13,452), (14,391), (15,380), (16,333), (17,348), (18,316), (19,265), (20,264), (21,233), (22,227), (23,213), (24,193), (25,200), (26,192), (27,149), (28,145), (29,151), (30,127), (31,132), (32,112), (33,130), (34,102), (35,107), (36,107), (37,89), (38,85), (39,70), (40,74), (41,67), (42,70), (43,76), (44,69), (45,59), (46,49), (47,51), (48,52), (49,45), (50,48), (51,54), (52,35), (53,53), (54,34), (55,36), (56,36), (57,37), (58,27), (59,38), (60,37), (61,33), (62,41), (63,19), (64,27), (65,22), (66,21), (67,29), (68,25), (69,32), (70,19), (71,20), (72,15), (73,19), (74,19), (75,16), (76,19), (77,13), (78,13), (79,10), (80,11), (81,...\r\n"
      ]
     },
     "execution_count": 79,
     "metadata": {},
     "output_type": "execute_result"
    }
   ],
   "source": [
    "val degreeCounts = fbGraph.degrees.groupBy(_._2).map{case (key, values) => (key, values.size)}.collect().sortBy(_._1)\n",
    "\n",
    "println(\"counts = \" + degreeCounts.map(_._2.toString).mkString(\"[\",\",\",\"]\"))\n",
    "println(\"degree = \" + degreeCounts.map(_._1.toString).mkString(\"[\",\",\",\"]\"))"
   ]
  },
  {
   "cell_type": "code",
   "execution_count": 74,
   "metadata": {},
   "outputs": [
    {
     "name": "stdout",
     "output_type": "stream",
     "text": [
      "x = [18595,2465,768,291,145,75,35,23,14,19,8,4,5,5,4,3,2,2,1,1,0,1,0,0,0,0,0,2,1,1]\n",
      "bins = [1.0,24.6,48.2,71.8,95.4,119.0,142.6,166.2,189.8,213.4,237.0,260.6,284.2,307.8,331.4,355.0,378.6,402.2,425.8,449.4,473.0,496.6,520.2,543.8,567.4,591.0,614.6,638.2,661.8,685.4,709.0]\n"
     ]
    },
    {
     "data": {
      "text/plain": [
       "hist: (Array[Double], Array[Long]) = (Array(1.0, 24.6, 48.2, 71.8, 95.4, 119.0, 142.6, 166.2, 189.8, 213.4, 237.0, 260.6, 284.2, 307.8, 331.4, 355.0, 378.6, 402.2, 425.8, 449.4, 473.0, 496.6, 520.2, 543.8, 567.4, 591.0, 614.6, 638.2, 661.8, 685.4, 709.0),Array(18595, 2465, 768, 291, 145, 75, 35, 23, 14, 19, 8, 4, 5, 5, 4, 3, 2, 2, 1, 1, 0, 1, 0, 0, 0, 0, 0, 2, 1, 1))\r\n"
      ]
     },
     "execution_count": 74,
     "metadata": {},
     "output_type": "execute_result"
    }
   ],
   "source": [
    "val hist = fbGraph.degrees.map(_._2).histogram(30)\n",
    "println(\"x = \" + hist._2.map(_.toString).mkString(\"[\", \",\", \"]\"))\n",
    "println(\"bins = \" + hist._1.map(_.toString).mkString(\"[\", \",\", \"]\"))"
   ]
  },
  {
   "cell_type": "code",
   "execution_count": 75,
   "metadata": {},
   "outputs": [],
   "source": [
    "%%python\n",
    "import matplotlib.pyplot as plt\n",
    "import numpy as np\n",
    "\n",
    "x = [18595,2465,768,291,145,75,35,23,14,19,8,4,5,5,4,3,2,2,1,1,0,1,0,0,0,0,0,2,1,1]\n",
    "bins = [1.0,24.6,48.2,71.8,95.4,119.0,142.6,166.2,189.8,213.4,237.0,260.6,284.2,307.8,331.4,355.0,378.6,402.2,425.8,449.4,473.0,496.6,520.2,543.8,567.4,591.0,614.6,638.2,661.8,685.4,709.0]\n",
    "logbins = np.logspace(np.log10(bins[0]), np.log(bins[-1]), len(bins))\n",
    "plt.subplot(212)\n",
    "plt.hist(x, bins=logbins)\n",
    "plt.xscale('log')\n",
    "# plt.show()"
   ]
  },
  {
   "cell_type": "code",
   "execution_count": 76,
   "metadata": {},
   "outputs": [
    {
     "data": {
      "image/png": "[encoded data removed]",
      "text/plain": [
       "<IPython.core.display.Image object>"
      ]
     },
     "execution_count": 76,
     "metadata": {},
     "output_type": "execute_result"
    }
   ],
   "source": [
    "%%python\n",
    "from IPython.display import Image\n",
    "Image(filename='Figure_2.png') "
   ]
  },
  {
   "cell_type": "code",
   "execution_count": 94,
   "metadata": {},
   "outputs": [
    {
     "name": "stdout",
     "output_type": "stream",
     "text": [
      "-1.8737129723472843\n"
     ]
    }
   ],
   "source": [
    "%%python\n",
    "import matplotlib.pyplot as plt\n",
    "from numpy.polynomial.polynomial import polyfit\n",
    "import numpy as np\n",
    "\n",
    "counts = [2658,2307,1843,1516,1359,1114,974,811,731,618,555,494,452,391,380,333,348,316,265,264,233,227,213,193,200,192,149,145,151,127,132,112,130,102,107,107,89,85,70,74,67,70,76,69,59,49,51,52,45,48,54,35,53,34,36,36,37,27,38,37,33,41,19,27,22,21,29,25,32,19,20,15,19,19,16,19,13,13,10,11,12,8,18,9,8,12,13,12,10,13,7,9,8,13,4,7,8,3,13,5,8,5,3,10,11,8,7,5,5,4,3,11,4,6,4,7,5,3,3,7,7,5,3,2,4,2,3,1,3,3,3,3,3,3,1,1,5,2,3,4,4,3,3,4,3,2,4,1,1,1,1,1,3,3,1,1,1,1,1,2,1,1,1,1,1,2,3,1,2,2,2,1,2,1,1,2,1,1,1,2,3,1,1,1,2,1,1,1,1,3,1,1,2,2,1,1,2,1,1,1,1,1,2,1,1,2,1,2,1,1,1,1,1,1,2,1,1,1,1,1,1,1,1,1,1,1,1,1,1,1,1,1,1]\n",
    "degree = [1,2,3,4,5,6,7,8,9,10,11,12,13,14,15,16,17,18,19,20,21,22,23,24,25,26,27,28,29,30,31,32,33,34,35,36,37,38,39,40,41,42,43,44,45,46,47,48,49,50,51,52,53,54,55,56,57,58,59,60,61,62,63,64,65,66,67,68,69,70,71,72,73,74,75,76,77,78,79,80,81,82,83,84,85,86,87,88,89,90,91,92,93,94,95,96,97,98,99,100,101,102,103,104,105,106,107,108,109,110,111,112,113,114,115,116,117,118,119,120,121,122,123,124,125,126,127,128,129,131,132,133,134,135,136,137,138,139,140,141,142,143,144,145,146,147,148,149,150,151,152,153,155,156,157,158,162,163,166,167,168,169,170,171,172,174,177,178,181,182,183,185,188,189,191,193,194,195,196,199,201,203,205,212,214,216,217,218,220,222,224,225,226,229,233,234,236,237,240,241,244,256,257,260,266,275,280,288,290,296,298,320,326,328,330,333,338,341,351,364,370,375,380,387,408,417,448,468,504,650,659,678,709]\n",
    "\n",
    "counts = list(map(lambda x: np.log(x), counts))\n",
    "degree = list(map(lambda x: np.log(x), degree))\n",
    "b, m = polyfit(degree, counts, 1)\n",
    "print(m)\n",
    "\n",
    "plt.plot(degree, counts, '.')\n",
    "plt.plot(x, b + m * np.float64(x), '-')\n",
    "# plt.show()"
   ]
  },
  {
   "cell_type": "code",
   "execution_count": 95,
   "metadata": {},
   "outputs": [
    {
     "data": {
      "image/png": "[encoded data removed]",
      "text/plain": [
       "<IPython.core.display.Image object>"
      ]
     },
     "execution_count": 95,
     "metadata": {},
     "output_type": "execute_result"
    }
   ],
   "source": [
    "%%python\n",
    "from IPython.display import Image\n",
    "Image(filename='Figure_3.png') "
   ]
  },
  {
   "cell_type": "markdown",
   "metadata": {},
   "source": [
    "Współczynnik nie mieści się w przedziale (-2, -3), zatem sieć nie jest scale-free (choć niewiele brakuje). "
   ]
  },
  {
   "cell_type": "markdown",
   "metadata": {},
   "source": [
    "**Wykonał Mikołaj Sikora**"
   ]
  }
 ],
 "metadata": {
  "kernelspec": {
   "display_name": "spylon-kernel",
   "language": "scala",
   "name": "spylon-kernel"
  },
  "language_info": {
   "codemirror_mode": "text/x-scala",
   "file_extension": ".scala",
   "help_links": [
    {
     "text": "MetaKernel Magics",
     "url": "https://metakernel.readthedocs.io/en/latest/source/README.html"
    }
   ],
   "mimetype": "text/x-scala",
   "name": "scala",
   "pygments_lexer": "scala",
   "version": "0.4.1"
  }
 },
 "nbformat": 4,
 "nbformat_minor": 4
}
