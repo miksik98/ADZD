{
  "nbformat": 4,
  "nbformat_minor": 0,
  "metadata": {
    "celltoolbar": "Raw Cell Format",
    "kernelspec": {
      "display_name": "Python 3",
      "language": "python",
      "name": "python3"
    },
    "language_info": {
      "codemirror_mode": {
        "name": "ipython",
        "version": 3
      },
      "file_extension": ".py",
      "mimetype": "text/x-python",
      "name": "python",
      "nbconvert_exporter": "python",
      "pygments_lexer": "ipython3",
      "version": "3.8.5"
    },
    "colab": {
      "name": "ADZD-2-SQL-Intro.ipynb",
      "provenance": [],
      "collapsed_sections": []
    }
  },
  "cells": [
    {
      "cell_type": "markdown",
      "metadata": {
        "id": "AMhXvg562DmK"
      },
      "source": [
        "# Introduction to Spark"
      ]
    },
    {
      "cell_type": "markdown",
      "metadata": {
        "id": "PFqWNRR_2DmS"
      },
      "source": [
        "## Basic initialization"
      ]
    },
    {
      "cell_type": "code",
      "metadata": {
        "id": "8Pe5skOU4mDu"
      },
      "source": [
        "!apt-get install openjdk-8-jdk-headless -qq > /dev/null\n",
        "!wget -q https://archive.apache.org/dist/spark/spark-3.0.0/spark-3.0.0-bin-hadoop3.2.tgz\n",
        "!tar xf spark-3.0.0-bin-hadoop3.2.tgz"
      ],
      "execution_count": 2,
      "outputs": []
    },
    {
      "cell_type": "code",
      "metadata": {
        "id": "GRzYdNPd4uEf",
        "colab": {
          "base_uri": "https://localhost:8080/",
          "height": 603
        },
        "outputId": "0261378d-7807-4388-a7cf-eb640308facf"
      },
      "source": [
        "!pip install -q findspark\n",
        "!pip install https://github.com/matplotlib/basemap/archive/master.zip"
      ],
      "execution_count": 3,
      "outputs": [
        {
          "output_type": "stream",
          "name": "stdout",
          "text": [
            "Collecting https://github.com/matplotlib/basemap/archive/master.zip\n",
            "  Downloading https://github.com/matplotlib/basemap/archive/master.zip\n",
            "\u001b[K     - 133.1 MB 113.9 MB/s\n",
            "\u001b[?25hRequirement already satisfied: matplotlib!=3.0.1,>=1.0.0 in /usr/local/lib/python3.7/dist-packages (from basemap==1.2.2+dev) (3.2.2)\n",
            "Requirement already satisfied: numpy>=1.2.1 in /usr/local/lib/python3.7/dist-packages (from basemap==1.2.2+dev) (1.19.5)\n",
            "Collecting pyproj>=1.9.3\n",
            "  Downloading pyproj-3.2.1-cp37-cp37m-manylinux2010_x86_64.whl (6.3 MB)\n",
            "\u001b[K     |████████████████████████████████| 6.3 MB 12.6 MB/s \n",
            "\u001b[?25hCollecting pyshp>=1.2.0\n",
            "  Downloading pyshp-2.1.3.tar.gz (219 kB)\n",
            "\u001b[K     |████████████████████████████████| 219 kB 68.3 MB/s \n",
            "\u001b[?25hRequirement already satisfied: six in /usr/local/lib/python3.7/dist-packages (from basemap==1.2.2+dev) (1.15.0)\n",
            "Requirement already satisfied: python-dateutil>=2.1 in /usr/local/lib/python3.7/dist-packages (from matplotlib!=3.0.1,>=1.0.0->basemap==1.2.2+dev) (2.8.2)\n",
            "Requirement already satisfied: pyparsing!=2.0.4,!=2.1.2,!=2.1.6,>=2.0.1 in /usr/local/lib/python3.7/dist-packages (from matplotlib!=3.0.1,>=1.0.0->basemap==1.2.2+dev) (2.4.7)\n",
            "Requirement already satisfied: cycler>=0.10 in /usr/local/lib/python3.7/dist-packages (from matplotlib!=3.0.1,>=1.0.0->basemap==1.2.2+dev) (0.10.0)\n",
            "Requirement already satisfied: kiwisolver>=1.0.1 in /usr/local/lib/python3.7/dist-packages (from matplotlib!=3.0.1,>=1.0.0->basemap==1.2.2+dev) (1.3.2)\n",
            "Requirement already satisfied: certifi in /usr/local/lib/python3.7/dist-packages (from pyproj>=1.9.3->basemap==1.2.2+dev) (2021.5.30)\n",
            "Building wheels for collected packages: basemap, pyshp\n",
            "  Building wheel for basemap (setup.py) ... \u001b[?25l\u001b[?25hdone\n",
            "  Created wheel for basemap: filename=basemap-1.2.2+dev-cp37-cp37m-linux_x86_64.whl size=121759592 sha256=e5020bde4d15284d4340f0f982ad8e96a3bf419d8ad85f01a63ac4435f384ad6\n",
            "  Stored in directory: /tmp/pip-ephem-wheel-cache-7vphis8n/wheels/98/1a/9d/de6aa4dee52d726996be77bb4a65cf03865288bfc35e5b24d8\n",
            "  Building wheel for pyshp (setup.py) ... \u001b[?25l\u001b[?25hdone\n",
            "  Created wheel for pyshp: filename=pyshp-2.1.3-py3-none-any.whl size=37325 sha256=7f5b52e17cc41c7b69d77f23f62dbf464dc92126447296ff9a667368b34d33b0\n",
            "  Stored in directory: /root/.cache/pip/wheels/43/f8/87/53c8cd41545ba20e536ea29a8fcb5431b5f477ca50d5dffbbe\n",
            "Successfully built basemap pyshp\n",
            "Installing collected packages: pyshp, pyproj, basemap\n",
            "Successfully installed basemap-1.2.2+dev pyproj-3.2.1 pyshp-2.1.3\n"
          ]
        },
        {
          "output_type": "display_data",
          "data": {
            "application/vnd.colab-display-data+json": {
              "pip_warning": {
                "packages": [
                  "mpl_toolkits"
                ]
              }
            }
          },
          "metadata": {}
        }
      ]
    },
    {
      "cell_type": "code",
      "metadata": {
        "id": "CyHkjCZ54wdz"
      },
      "source": [
        "import os\n",
        "os.environ[\"JAVA_HOME\"] = \"/usr/lib/jvm/java-8-openjdk-amd64\"\n",
        "os.environ[\"SPARK_HOME\"] = \"/content/spark-3.0.0-bin-hadoop3.2\""
      ],
      "execution_count": 4,
      "outputs": []
    },
    {
      "cell_type": "code",
      "metadata": {
        "id": "ZmWbYnWe42lg"
      },
      "source": [
        "import findspark\n",
        "findspark.init()\n",
        "from pyspark.sql import SparkSession\n",
        "spark = SparkSession.builder.getOrCreate()"
      ],
      "execution_count": 5,
      "outputs": []
    },
    {
      "cell_type": "code",
      "metadata": {
        "id": "h6hJO3hB46H6"
      },
      "source": [
        "sc = spark.sparkContext"
      ],
      "execution_count": 6,
      "outputs": []
    },
    {
      "cell_type": "markdown",
      "metadata": {
        "id": "XXBZVMWR2DmT"
      },
      "source": [
        "`SparkSession` is used to connect to the Spark Cluster."
      ]
    },
    {
      "cell_type": "code",
      "metadata": {
        "id": "apNzDbNB2DmV"
      },
      "source": [
        "from pyspark.sql import SparkSession"
      ],
      "execution_count": 7,
      "outputs": []
    },
    {
      "cell_type": "markdown",
      "metadata": {
        "id": "QCjgZy5S2DmY"
      },
      "source": [
        "We will use Pandas to operate on the reduced data in the *driver program*."
      ]
    },
    {
      "cell_type": "code",
      "metadata": {
        "id": "ZH4pT-Ia2DmY"
      },
      "source": [
        "import pandas as pd"
      ],
      "execution_count": 8,
      "outputs": []
    },
    {
      "cell_type": "markdown",
      "metadata": {
        "id": "7a-k5hgn2DmZ"
      },
      "source": [
        "Numpy will be always useful."
      ]
    },
    {
      "cell_type": "code",
      "metadata": {
        "id": "q5Jv16Xe2Dmb"
      },
      "source": [
        "import numpy as np"
      ],
      "execution_count": 9,
      "outputs": []
    },
    {
      "cell_type": "markdown",
      "metadata": {
        "id": "hNk9Zlja2Dmc"
      },
      "source": [
        "Create a new session (or reuse an existing one)."
      ]
    },
    {
      "cell_type": "code",
      "metadata": {
        "id": "dZujS3_42Dme"
      },
      "source": [
        "spark = SparkSession.builder.getOrCreate()"
      ],
      "execution_count": 10,
      "outputs": []
    },
    {
      "cell_type": "code",
      "metadata": {
        "colab": {
          "base_uri": "https://localhost:8080/",
          "height": 222
        },
        "id": "APFH4U2A2Dmh",
        "outputId": "cf4a97fa-f9f4-4a93-acfd-3880dfdef8b4"
      },
      "source": [
        "spark"
      ],
      "execution_count": 11,
      "outputs": [
        {
          "output_type": "execute_result",
          "data": {
            "text/html": [
              "\n",
              "            <div>\n",
              "                <p><b>SparkSession - in-memory</b></p>\n",
              "                \n",
              "        <div>\n",
              "            <p><b>SparkContext</b></p>\n",
              "\n",
              "            <p><a href=\"http://a243b0009f3f:4040\">Spark UI</a></p>\n",
              "\n",
              "            <dl>\n",
              "              <dt>Version</dt>\n",
              "                <dd><code>v3.0.0</code></dd>\n",
              "              <dt>Master</dt>\n",
              "                <dd><code>local[*]</code></dd>\n",
              "              <dt>AppName</dt>\n",
              "                <dd><code>pyspark-shell</code></dd>\n",
              "            </dl>\n",
              "        </div>\n",
              "        \n",
              "            </div>\n",
              "        "
            ],
            "text/plain": [
              "<pyspark.sql.session.SparkSession at 0x7f295ad28190>"
            ]
          },
          "metadata": {},
          "execution_count": 11
        }
      ]
    },
    {
      "cell_type": "markdown",
      "metadata": {
        "id": "9C1azpC32Dml"
      },
      "source": [
        "We can see that the session is established."
      ]
    },
    {
      "cell_type": "markdown",
      "metadata": {
        "id": "elk2oEV92Dmm"
      },
      "source": [
        "## Creating Spark Data Frames from Pandas"
      ]
    },
    {
      "cell_type": "markdown",
      "metadata": {
        "id": "zkHZLeb52Dmm"
      },
      "source": [
        "We can list the tables in our Spark Session, currently empty."
      ]
    },
    {
      "cell_type": "code",
      "metadata": {
        "scrolled": true,
        "colab": {
          "base_uri": "https://localhost:8080/"
        },
        "id": "wooXo8aU2Dmn",
        "outputId": "d0a75940-35e8-4611-9f8e-7cab7fabb465"
      },
      "source": [
        "print(spark.catalog.listTables())"
      ],
      "execution_count": 12,
      "outputs": [
        {
          "output_type": "stream",
          "name": "stdout",
          "text": [
            "[]\n"
          ]
        }
      ]
    },
    {
      "cell_type": "markdown",
      "metadata": {
        "id": "qpOFS-tX2Dmo"
      },
      "source": [
        "We can create a Pandas `DataFrame` with random values."
      ]
    },
    {
      "cell_type": "code",
      "metadata": {
        "id": "CiY7LQD32Dmo"
      },
      "source": [
        "pd_temp = pd.DataFrame(np.random.random(100))"
      ],
      "execution_count": 13,
      "outputs": []
    },
    {
      "cell_type": "markdown",
      "metadata": {
        "id": "3U8kk-7N2Dmp"
      },
      "source": [
        "We can see on the plot that it is really random:"
      ]
    },
    {
      "cell_type": "code",
      "metadata": {
        "id": "YRknvUvX2Dmq"
      },
      "source": [
        "import matplotlib\n",
        "import matplotlib.pyplot as plt\n",
        "matplotlib.style.use('ggplot')"
      ],
      "execution_count": 14,
      "outputs": []
    },
    {
      "cell_type": "code",
      "metadata": {
        "colab": {
          "base_uri": "https://localhost:8080/",
          "height": 284
        },
        "id": "47f20Dn-2Dmr",
        "outputId": "7b4f8ebd-a9f6-44f1-f60f-366ad676f1a3"
      },
      "source": [
        "pd_temp.plot()"
      ],
      "execution_count": 15,
      "outputs": [
        {
          "output_type": "execute_result",
          "data": {
            "text/plain": [
              "<matplotlib.axes._subplots.AxesSubplot at 0x7f295ae46fd0>"
            ]
          },
          "metadata": {},
          "execution_count": 15
        },
        {
          "output_type": "display_data",
          "data": {
            "image/png": "[encoded data removed]",
            "text/plain": [
              "<Figure size 432x288 with 1 Axes>"
            ]
          },
          "metadata": {}
        }
      ]
    },
    {
      "cell_type": "markdown",
      "metadata": {
        "id": "22YOEuH12Dms"
      },
      "source": [
        "Now we can convert it into Spark DataFrame:"
      ]
    },
    {
      "cell_type": "code",
      "metadata": {
        "id": "BJ_tDFH82Dmt"
      },
      "source": [
        "spark_temp = spark.createDataFrame(pd_temp)"
      ],
      "execution_count": 16,
      "outputs": []
    },
    {
      "cell_type": "markdown",
      "metadata": {
        "id": "vyKxjA3s2Dmu"
      },
      "source": [
        "`createOrReplaceTempView` creates (or replaces if that view name already exists) a lazily evaluated \"view\" that you can then use like a table in Spark SQL. \n",
        "\n",
        "It does not persist to memory unless you cache (persist) the dataset that underpins the view."
      ]
    },
    {
      "cell_type": "code",
      "metadata": {
        "id": "SpY3e2dI2Dmv"
      },
      "source": [
        "spark_temp.createOrReplaceTempView(\"temp\")"
      ],
      "execution_count": 17,
      "outputs": []
    },
    {
      "cell_type": "markdown",
      "metadata": {
        "id": "pzRNdAkv2Dmw"
      },
      "source": [
        "The created view is `TEMPORARY` which means it is not persistent."
      ]
    },
    {
      "cell_type": "code",
      "metadata": {
        "colab": {
          "base_uri": "https://localhost:8080/"
        },
        "id": "z6ozxGf72Dmx",
        "outputId": "cc1f410d-f817-42aa-f23e-082bed172d14"
      },
      "source": [
        "print(spark.catalog.listTables())"
      ],
      "execution_count": 18,
      "outputs": [
        {
          "output_type": "stream",
          "name": "stdout",
          "text": [
            "[Table(name='temp', database=None, description=None, tableType='TEMPORARY', isTemporary=True)]\n"
          ]
        }
      ]
    },
    {
      "cell_type": "code",
      "metadata": {
        "colab": {
          "base_uri": "https://localhost:8080/"
        },
        "id": "BOQTbs0c2Dmx",
        "outputId": "2b65db32-1443-47f3-8096-404a4686f9ba"
      },
      "source": [
        "spark_temp.show()"
      ],
      "execution_count": 19,
      "outputs": [
        {
          "output_type": "stream",
          "name": "stdout",
          "text": [
            "+-------------------+\n",
            "|                  0|\n",
            "+-------------------+\n",
            "| 0.7250684186658413|\n",
            "| 0.4080447317505179|\n",
            "| 0.4278460758217374|\n",
            "|0.20639110311862918|\n",
            "| 0.0565544376203716|\n",
            "|0.31155090999975266|\n",
            "| 0.6705728941046881|\n",
            "| 0.4040176387834825|\n",
            "|0.11798345660915366|\n",
            "| 0.7089870480441443|\n",
            "| 0.3515551299602625|\n",
            "| 0.3847675698818067|\n",
            "| 0.6356731450624051|\n",
            "| 0.6539514889993032|\n",
            "| 0.7418318237086909|\n",
            "|0.15511365921111253|\n",
            "| 0.6143327022610134|\n",
            "| 0.6620133368076119|\n",
            "| 0.1023356850282473|\n",
            "| 0.8424342780509355|\n",
            "+-------------------+\n",
            "only showing top 20 rows\n",
            "\n"
          ]
        }
      ]
    },
    {
      "cell_type": "markdown",
      "metadata": {
        "id": "6COjOO9s2Dmy"
      },
      "source": [
        "We can now use transformations on this DataFrame. The transformations are translated (compiled) to RDD transformations."
      ]
    },
    {
      "cell_type": "code",
      "metadata": {
        "id": "glS84EJO2Dmy"
      },
      "source": [
        "from pyspark.sql.functions import col, asc"
      ],
      "execution_count": 20,
      "outputs": []
    },
    {
      "cell_type": "code",
      "metadata": {
        "colab": {
          "base_uri": "https://localhost:8080/"
        },
        "id": "da6lrB_82Dmy",
        "outputId": "5a1e4ada-0e29-406e-d227-2ecc039aa893"
      },
      "source": [
        "spark_temp.filter((col('0') > 0.9)).show()"
      ],
      "execution_count": 21,
      "outputs": [
        {
          "output_type": "stream",
          "name": "stdout",
          "text": [
            "+------------------+\n",
            "|                 0|\n",
            "+------------------+\n",
            "|0.9044819109350353|\n",
            "|0.9354446713733876|\n",
            "|0.9612661266827213|\n",
            "|0.9165776115522918|\n",
            "| 0.958335719186053|\n",
            "| 0.967443691048672|\n",
            "| 0.944193926274769|\n",
            "|0.9376205583387947|\n",
            "|  0.91536861797993|\n",
            "+------------------+\n",
            "\n"
          ]
        }
      ]
    },
    {
      "cell_type": "markdown",
      "metadata": {
        "id": "FjH2TjWv2Dmz"
      },
      "source": [
        "## Creating Spark Data Frames from input files"
      ]
    },
    {
      "cell_type": "code",
      "metadata": {
        "colab": {
          "base_uri": "https://localhost:8080/"
        },
        "id": "UU4XAJHRwIDA",
        "outputId": "377687be-f4ab-4b46-8e87-99e14dd3ce4c"
      },
      "source": [
        "from google.colab import drive\n",
        "drive.mount('/content/drive/')\n",
        "\n",
        "google_drive_path = 'drive/MyDrive/Colab Notebooks/Data/'"
      ],
      "execution_count": 22,
      "outputs": [
        {
          "output_type": "stream",
          "name": "stdout",
          "text": [
            "Mounted at /content/drive/\n"
          ]
        }
      ]
    },
    {
      "cell_type": "code",
      "metadata": {
        "colab": {
          "base_uri": "https://localhost:8080/"
        },
        "id": "hXS6r1Mu2Dm0",
        "outputId": "da9cf1b7-96f7-4857-c715-e97d3b0afdfb"
      },
      "source": [
        "!ls\n",
        "file_path = google_drive_path + \"airports.csv\"\n",
        "\n",
        "# Read in the airports data\n",
        "airports = spark.read.csv(file_path,header=True)\n",
        "\n",
        "# Show the data\n",
        "print(airports.show())"
      ],
      "execution_count": 23,
      "outputs": [
        {
          "output_type": "stream",
          "name": "stdout",
          "text": [
            "drive\t     spark-3.0.0-bin-hadoop3.2\t    spark-warehouse\n",
            "sample_data  spark-3.0.0-bin-hadoop3.2.tgz\n",
            "+---+--------------------+------------------+----------------+---+----+------------------+-------------------+----+---+---+--------------------+-------+-----------+\n",
            "|  1|      Goroka Airport|            Goroka|Papua New Guinea|GKA|AYGA|-6.081689834590001|      145.391998291|5282| 10|  U|Pacific/Port_Moresby|airport|OurAirports|\n",
            "+---+--------------------+------------------+----------------+---+----+------------------+-------------------+----+---+---+--------------------+-------+-----------+\n",
            "|  2|      Madang Airport|            Madang|Papua New Guinea|MAG|AYMD|    -5.20707988739|      145.789001465|  20| 10|  U|Pacific/Port_Moresby|airport|OurAirports|\n",
            "|  3|Mount Hagen Kagam...|       Mount Hagen|Papua New Guinea|HGU|AYMH|-5.826789855957031| 144.29600524902344|5388| 10|  U|Pacific/Port_Moresby|airport|OurAirports|\n",
            "|  4|      Nadzab Airport|            Nadzab|Papua New Guinea|LAE|AYNZ|         -6.569803|         146.725977| 239| 10|  U|Pacific/Port_Moresby|airport|OurAirports|\n",
            "|  5|Port Moresby Jack...|      Port Moresby|Papua New Guinea|POM|AYPY|-9.443380355834961| 147.22000122070312| 146| 10|  U|Pacific/Port_Moresby|airport|OurAirports|\n",
            "|  6|Wewak Internation...|             Wewak|Papua New Guinea|WWK|AYWK|    -3.58383011818|      143.669006348|  19| 10|  U|Pacific/Port_Moresby|airport|OurAirports|\n",
            "|  7|  Narsarsuaq Airport|      Narssarssuaq|       Greenland|UAK|BGBW|     61.1604995728|     -45.4259986877| 112| -3|  E|     America/Godthab|airport|OurAirports|\n",
            "|  8|Godthaab / Nuuk A...|          Godthaab|       Greenland|GOH|BGGH|       64.19090271|     -51.6781005859| 283| -3|  E|     America/Godthab|airport|OurAirports|\n",
            "|  9|Kangerlussuaq Air...|       Sondrestrom|       Greenland|SFJ|BGSF|     67.0122218992|     -50.7116031647| 165| -3|  E|     America/Godthab|airport|OurAirports|\n",
            "| 10|      Thule Air Base|             Thule|       Greenland|THU|BGTL|     76.5311965942|     -68.7032012939| 251| -4|  E|       America/Thule|airport|OurAirports|\n",
            "| 11|    Akureyri Airport|          Akureyri|         Iceland|AEY|BIAR| 65.66000366210938| -18.07270050048828|   6|  0|  N|  Atlantic/Reykjavik|airport|OurAirports|\n",
            "| 12| Egilsstaðir Airport|       Egilsstadir|         Iceland|EGS|BIEG|  65.2833023071289|-14.401399612426758|  76|  0|  N|  Atlantic/Reykjavik|airport|OurAirports|\n",
            "| 13|Hornafjörður Airport|              Hofn|         Iceland|HFN|BIHN|         64.295601|           -15.2272|  24|  0|  N|  Atlantic/Reykjavik|airport|OurAirports|\n",
            "| 14|     Húsavík Airport|           Husavik|         Iceland|HZK|BIHU|         65.952301|         -17.426001|  48|  0|  N|  Atlantic/Reykjavik|airport|OurAirports|\n",
            "| 15|  Ísafjörður Airport|        Isafjordur|         Iceland|IFJ|BIIS| 66.05809783935547|-23.135299682617188|   8|  0|  N|  Atlantic/Reykjavik|airport|OurAirports|\n",
            "| 16|Keflavik Internat...|          Keflavik|         Iceland|KEF|BIKF|   63.985000610352|   -22.605600357056| 171|  0|  N|  Atlantic/Reykjavik|airport|OurAirports|\n",
            "| 17|Patreksfjörður Ai...|    Patreksfjordur|         Iceland|PFJ|BIPA|         65.555801|            -23.965|  11|  0|  N|  Atlantic/Reykjavik|airport|OurAirports|\n",
            "| 18|   Reykjavik Airport|         Reykjavik|         Iceland|RKV|BIRK|     64.1299972534|     -21.9405994415|  48|  0|  N|  Atlantic/Reykjavik|airport|OurAirports|\n",
            "| 19|Siglufjörður Airport|      Siglufjordur|         Iceland|SIJ|BISI|         66.133301|           -18.9167|  10|  0|  N|  Atlantic/Reykjavik|airport|OurAirports|\n",
            "| 20|Vestmannaeyjar Ai...|    Vestmannaeyjar|         Iceland|VEY|BIVM| 63.42430114746094|-20.278900146484375| 326|  0|  N|  Atlantic/Reykjavik|airport|OurAirports|\n",
            "| 21|Sault Ste Marie A...|Sault Sainte Marie|          Canada|YAM|CYAM| 46.48500061035156|  -84.5093994140625| 630| -5|  A|     America/Toronto|airport|OurAirports|\n",
            "+---+--------------------+------------------+----------------+---+----+------------------+-------------------+----+---+---+--------------------+-------+-----------+\n",
            "only showing top 20 rows\n",
            "\n",
            "None\n"
          ]
        }
      ]
    },
    {
      "cell_type": "markdown",
      "metadata": {
        "id": "ppQi3XDL2Dm1"
      },
      "source": [
        "It may be useful to convert them to Pandas for quick browsing. \n",
        "\n",
        "**Warning!** This is not efficient for large datasets, as it requires performing actions on the dataset."
      ]
    },
    {
      "cell_type": "code",
      "metadata": {
        "colab": {
          "base_uri": "https://localhost:8080/",
          "height": 424
        },
        "id": "wDVaD6vq2Dm1",
        "outputId": "0eab6a8c-6173-4e10-c46b-4f1a910adad0"
      },
      "source": [
        "airports.toPandas()"
      ],
      "execution_count": 24,
      "outputs": [
        {
          "output_type": "execute_result",
          "data": {
            "text/html": [
              "<div>\n",
              "<style scoped>\n",
              "    .dataframe tbody tr th:only-of-type {\n",
              "        vertical-align: middle;\n",
              "    }\n",
              "\n",
              "    .dataframe tbody tr th {\n",
              "        vertical-align: top;\n",
              "    }\n",
              "\n",
              "    .dataframe thead th {\n",
              "        text-align: right;\n",
              "    }\n",
              "</style>\n",
              "<table border=\"1\" class=\"dataframe\">\n",
              "  <thead>\n",
              "    <tr style=\"text-align: right;\">\n",
              "      <th></th>\n",
              "      <th>1</th>\n",
              "      <th>Goroka Airport</th>\n",
              "      <th>Goroka</th>\n",
              "      <th>Papua New Guinea</th>\n",
              "      <th>GKA</th>\n",
              "      <th>AYGA</th>\n",
              "      <th>-6.081689834590001</th>\n",
              "      <th>145.391998291</th>\n",
              "      <th>5282</th>\n",
              "      <th>10</th>\n",
              "      <th>U</th>\n",
              "      <th>Pacific/Port_Moresby</th>\n",
              "      <th>airport</th>\n",
              "      <th>OurAirports</th>\n",
              "    </tr>\n",
              "  </thead>\n",
              "  <tbody>\n",
              "    <tr>\n",
              "      <th>0</th>\n",
              "      <td>2</td>\n",
              "      <td>Madang Airport</td>\n",
              "      <td>Madang</td>\n",
              "      <td>Papua New Guinea</td>\n",
              "      <td>MAG</td>\n",
              "      <td>AYMD</td>\n",
              "      <td>-5.20707988739</td>\n",
              "      <td>145.789001465</td>\n",
              "      <td>20</td>\n",
              "      <td>10</td>\n",
              "      <td>U</td>\n",
              "      <td>Pacific/Port_Moresby</td>\n",
              "      <td>airport</td>\n",
              "      <td>OurAirports</td>\n",
              "    </tr>\n",
              "    <tr>\n",
              "      <th>1</th>\n",
              "      <td>3</td>\n",
              "      <td>Mount Hagen Kagamuga Airport</td>\n",
              "      <td>Mount Hagen</td>\n",
              "      <td>Papua New Guinea</td>\n",
              "      <td>HGU</td>\n",
              "      <td>AYMH</td>\n",
              "      <td>-5.826789855957031</td>\n",
              "      <td>144.29600524902344</td>\n",
              "      <td>5388</td>\n",
              "      <td>10</td>\n",
              "      <td>U</td>\n",
              "      <td>Pacific/Port_Moresby</td>\n",
              "      <td>airport</td>\n",
              "      <td>OurAirports</td>\n",
              "    </tr>\n",
              "    <tr>\n",
              "      <th>2</th>\n",
              "      <td>4</td>\n",
              "      <td>Nadzab Airport</td>\n",
              "      <td>Nadzab</td>\n",
              "      <td>Papua New Guinea</td>\n",
              "      <td>LAE</td>\n",
              "      <td>AYNZ</td>\n",
              "      <td>-6.569803</td>\n",
              "      <td>146.725977</td>\n",
              "      <td>239</td>\n",
              "      <td>10</td>\n",
              "      <td>U</td>\n",
              "      <td>Pacific/Port_Moresby</td>\n",
              "      <td>airport</td>\n",
              "      <td>OurAirports</td>\n",
              "    </tr>\n",
              "    <tr>\n",
              "      <th>3</th>\n",
              "      <td>5</td>\n",
              "      <td>Port Moresby Jacksons International Airport</td>\n",
              "      <td>Port Moresby</td>\n",
              "      <td>Papua New Guinea</td>\n",
              "      <td>POM</td>\n",
              "      <td>AYPY</td>\n",
              "      <td>-9.443380355834961</td>\n",
              "      <td>147.22000122070312</td>\n",
              "      <td>146</td>\n",
              "      <td>10</td>\n",
              "      <td>U</td>\n",
              "      <td>Pacific/Port_Moresby</td>\n",
              "      <td>airport</td>\n",
              "      <td>OurAirports</td>\n",
              "    </tr>\n",
              "    <tr>\n",
              "      <th>4</th>\n",
              "      <td>6</td>\n",
              "      <td>Wewak International Airport</td>\n",
              "      <td>Wewak</td>\n",
              "      <td>Papua New Guinea</td>\n",
              "      <td>WWK</td>\n",
              "      <td>AYWK</td>\n",
              "      <td>-3.58383011818</td>\n",
              "      <td>143.669006348</td>\n",
              "      <td>19</td>\n",
              "      <td>10</td>\n",
              "      <td>U</td>\n",
              "      <td>Pacific/Port_Moresby</td>\n",
              "      <td>airport</td>\n",
              "      <td>OurAirports</td>\n",
              "    </tr>\n",
              "    <tr>\n",
              "      <th>...</th>\n",
              "      <td>...</td>\n",
              "      <td>...</td>\n",
              "      <td>...</td>\n",
              "      <td>...</td>\n",
              "      <td>...</td>\n",
              "      <td>...</td>\n",
              "      <td>...</td>\n",
              "      <td>...</td>\n",
              "      <td>...</td>\n",
              "      <td>...</td>\n",
              "      <td>...</td>\n",
              "      <td>...</td>\n",
              "      <td>...</td>\n",
              "      <td>...</td>\n",
              "    </tr>\n",
              "    <tr>\n",
              "      <th>7178</th>\n",
              "      <td>12053</td>\n",
              "      <td>Rugao Air Base</td>\n",
              "      <td>Rugao</td>\n",
              "      <td>China</td>\n",
              "      <td>RUG</td>\n",
              "      <td>ZSRG</td>\n",
              "      <td>32.25788497924805</td>\n",
              "      <td>120.50165557861328</td>\n",
              "      <td>0</td>\n",
              "      <td>\\N</td>\n",
              "      <td>\\N</td>\n",
              "      <td>\\N</td>\n",
              "      <td>airport</td>\n",
              "      <td>OurAirports</td>\n",
              "    </tr>\n",
              "    <tr>\n",
              "      <th>7179</th>\n",
              "      <td>12054</td>\n",
              "      <td>Wuhu Air Base</td>\n",
              "      <td>Wuhu</td>\n",
              "      <td>China</td>\n",
              "      <td>WHU</td>\n",
              "      <td>ZSWU</td>\n",
              "      <td>31.3906</td>\n",
              "      <td>118.408997</td>\n",
              "      <td>0</td>\n",
              "      <td>\\N</td>\n",
              "      <td>\\N</td>\n",
              "      <td>\\N</td>\n",
              "      <td>airport</td>\n",
              "      <td>OurAirports</td>\n",
              "    </tr>\n",
              "    <tr>\n",
              "      <th>7180</th>\n",
              "      <td>12055</td>\n",
              "      <td>Shanshan Airport</td>\n",
              "      <td>Shanshan</td>\n",
              "      <td>China</td>\n",
              "      <td>SXJ</td>\n",
              "      <td>ZWSS</td>\n",
              "      <td>42.91170120239258</td>\n",
              "      <td>90.24749755859375</td>\n",
              "      <td>0</td>\n",
              "      <td>\\N</td>\n",
              "      <td>\\N</td>\n",
              "      <td>\\N</td>\n",
              "      <td>airport</td>\n",
              "      <td>OurAirports</td>\n",
              "    </tr>\n",
              "    <tr>\n",
              "      <th>7181</th>\n",
              "      <td>12056</td>\n",
              "      <td>Yingkou Lanqi Airport</td>\n",
              "      <td>Yingkou</td>\n",
              "      <td>China</td>\n",
              "      <td>YKH</td>\n",
              "      <td>ZYYK</td>\n",
              "      <td>40.542524</td>\n",
              "      <td>122.3586</td>\n",
              "      <td>0</td>\n",
              "      <td>\\N</td>\n",
              "      <td>\\N</td>\n",
              "      <td>\\N</td>\n",
              "      <td>airport</td>\n",
              "      <td>OurAirports</td>\n",
              "    </tr>\n",
              "    <tr>\n",
              "      <th>7182</th>\n",
              "      <td>12057</td>\n",
              "      <td>Shenyang Dongta Airport</td>\n",
              "      <td>Shenyang</td>\n",
              "      <td>China</td>\n",
              "      <td>\\N</td>\n",
              "      <td>ZYYY</td>\n",
              "      <td>41.784400939941406</td>\n",
              "      <td>123.49600219726562</td>\n",
              "      <td>0</td>\n",
              "      <td>\\N</td>\n",
              "      <td>\\N</td>\n",
              "      <td>\\N</td>\n",
              "      <td>airport</td>\n",
              "      <td>OurAirports</td>\n",
              "    </tr>\n",
              "  </tbody>\n",
              "</table>\n",
              "<p>7183 rows × 14 columns</p>\n",
              "</div>"
            ],
            "text/plain": [
              "          1                               Goroka Airport  ...  airport  OurAirports\n",
              "0         2                               Madang Airport  ...  airport  OurAirports\n",
              "1         3                 Mount Hagen Kagamuga Airport  ...  airport  OurAirports\n",
              "2         4                               Nadzab Airport  ...  airport  OurAirports\n",
              "3         5  Port Moresby Jacksons International Airport  ...  airport  OurAirports\n",
              "4         6                  Wewak International Airport  ...  airport  OurAirports\n",
              "...     ...                                          ...  ...      ...          ...\n",
              "7178  12053                               Rugao Air Base  ...  airport  OurAirports\n",
              "7179  12054                                Wuhu Air Base  ...  airport  OurAirports\n",
              "7180  12055                             Shanshan Airport  ...  airport  OurAirports\n",
              "7181  12056                        Yingkou Lanqi Airport  ...  airport  OurAirports\n",
              "7182  12057                      Shenyang Dongta Airport  ...  airport  OurAirports\n",
              "\n",
              "[7183 rows x 14 columns]"
            ]
          },
          "metadata": {},
          "execution_count": 24
        }
      ]
    },
    {
      "cell_type": "markdown",
      "metadata": {
        "id": "LJiiTO172Dm2"
      },
      "source": [
        "### Running SQL queries on dataframes"
      ]
    },
    {
      "cell_type": "code",
      "metadata": {
        "id": "XDAV18ob2Dm2"
      },
      "source": [
        "airports.createOrReplaceTempView(\"airports\")"
      ],
      "execution_count": 25,
      "outputs": []
    },
    {
      "cell_type": "code",
      "metadata": {
        "colab": {
          "base_uri": "https://localhost:8080/"
        },
        "id": "xvvIKXkT2Dm3",
        "outputId": "6b25e882-6a1b-42d4-ae55-fd23558444a4"
      },
      "source": [
        "# Get the first 10 rows of flights\n",
        "query = \"FROM airports SELECT * LIMIT 10\"\n",
        "\n",
        "airports10 = spark.sql(query)\n",
        "\n",
        "# Show the results\n",
        "airports10.show()"
      ],
      "execution_count": 26,
      "outputs": [
        {
          "output_type": "stream",
          "name": "stdout",
          "text": [
            "+---+--------------------+------------+----------------+---+----+------------------+------------------+----+---+---+--------------------+-------+-----------+\n",
            "|  1|      Goroka Airport|      Goroka|Papua New Guinea|GKA|AYGA|-6.081689834590001|     145.391998291|5282| 10|  U|Pacific/Port_Moresby|airport|OurAirports|\n",
            "+---+--------------------+------------+----------------+---+----+------------------+------------------+----+---+---+--------------------+-------+-----------+\n",
            "|  2|      Madang Airport|      Madang|Papua New Guinea|MAG|AYMD|    -5.20707988739|     145.789001465|  20| 10|  U|Pacific/Port_Moresby|airport|OurAirports|\n",
            "|  3|Mount Hagen Kagam...| Mount Hagen|Papua New Guinea|HGU|AYMH|-5.826789855957031|144.29600524902344|5388| 10|  U|Pacific/Port_Moresby|airport|OurAirports|\n",
            "|  4|      Nadzab Airport|      Nadzab|Papua New Guinea|LAE|AYNZ|         -6.569803|        146.725977| 239| 10|  U|Pacific/Port_Moresby|airport|OurAirports|\n",
            "|  5|Port Moresby Jack...|Port Moresby|Papua New Guinea|POM|AYPY|-9.443380355834961|147.22000122070312| 146| 10|  U|Pacific/Port_Moresby|airport|OurAirports|\n",
            "|  6|Wewak Internation...|       Wewak|Papua New Guinea|WWK|AYWK|    -3.58383011818|     143.669006348|  19| 10|  U|Pacific/Port_Moresby|airport|OurAirports|\n",
            "|  7|  Narsarsuaq Airport|Narssarssuaq|       Greenland|UAK|BGBW|     61.1604995728|    -45.4259986877| 112| -3|  E|     America/Godthab|airport|OurAirports|\n",
            "|  8|Godthaab / Nuuk A...|    Godthaab|       Greenland|GOH|BGGH|       64.19090271|    -51.6781005859| 283| -3|  E|     America/Godthab|airport|OurAirports|\n",
            "|  9|Kangerlussuaq Air...| Sondrestrom|       Greenland|SFJ|BGSF|     67.0122218992|    -50.7116031647| 165| -3|  E|     America/Godthab|airport|OurAirports|\n",
            "| 10|      Thule Air Base|       Thule|       Greenland|THU|BGTL|     76.5311965942|    -68.7032012939| 251| -4|  E|       America/Thule|airport|OurAirports|\n",
            "| 11|    Akureyri Airport|    Akureyri|         Iceland|AEY|BIAR| 65.66000366210938|-18.07270050048828|   6|  0|  N|  Atlantic/Reykjavik|airport|OurAirports|\n",
            "+---+--------------------+------------+----------------+---+----+------------------+------------------+----+---+---+--------------------+-------+-----------+\n",
            "\n"
          ]
        }
      ]
    },
    {
      "cell_type": "markdown",
      "metadata": {
        "id": "2mkKh77h2Dm3"
      },
      "source": [
        "### More complex examples \n",
        "\n",
        "Read data from CSV file:\n",
        " * `inferSchema` - to detect which columns are numbers (not strigs!) - useful e.g. for sorting.\n",
        " * `header` - to read the firs line as column names"
      ]
    },
    {
      "cell_type": "code",
      "metadata": {
        "id": "B7kVZTBE2Dm4"
      },
      "source": [
        "countries = spark.read.csv(google_drive_path + \"countries of the world.csv\",inferSchema=True,header=True)"
      ],
      "execution_count": 29,
      "outputs": []
    },
    {
      "cell_type": "code",
      "metadata": {
        "scrolled": false,
        "colab": {
          "base_uri": "https://localhost:8080/",
          "height": 650
        },
        "id": "vATi7zuq2Dm4",
        "outputId": "6a343797-8123-4ce7-d109-7a43c7d363ea"
      },
      "source": [
        "countries.toPandas()"
      ],
      "execution_count": 30,
      "outputs": [
        {
          "output_type": "execute_result",
          "data": {
            "text/html": [
              "<div>\n",
              "<style scoped>\n",
              "    .dataframe tbody tr th:only-of-type {\n",
              "        vertical-align: middle;\n",
              "    }\n",
              "\n",
              "    .dataframe tbody tr th {\n",
              "        vertical-align: top;\n",
              "    }\n",
              "\n",
              "    .dataframe thead th {\n",
              "        text-align: right;\n",
              "    }\n",
              "</style>\n",
              "<table border=\"1\" class=\"dataframe\">\n",
              "  <thead>\n",
              "    <tr style=\"text-align: right;\">\n",
              "      <th></th>\n",
              "      <th>Country</th>\n",
              "      <th>Region</th>\n",
              "      <th>Population</th>\n",
              "      <th>Area (sq. mi.)</th>\n",
              "      <th>Pop. Density (per sq. mi.)</th>\n",
              "      <th>Coastline (coast/area ratio)</th>\n",
              "      <th>Net migration</th>\n",
              "      <th>Infant mortality (per 1000 births)</th>\n",
              "      <th>GDP ($ per capita)</th>\n",
              "      <th>Literacy (%)</th>\n",
              "      <th>Phones (per 1000)</th>\n",
              "      <th>Arable (%)</th>\n",
              "      <th>Crops (%)</th>\n",
              "      <th>Other (%)</th>\n",
              "      <th>Climate</th>\n",
              "      <th>Birthrate</th>\n",
              "      <th>Deathrate</th>\n",
              "      <th>Agriculture</th>\n",
              "      <th>Industry</th>\n",
              "      <th>Service</th>\n",
              "    </tr>\n",
              "  </thead>\n",
              "  <tbody>\n",
              "    <tr>\n",
              "      <th>0</th>\n",
              "      <td>Afghanistan</td>\n",
              "      <td>ASIA (EX. NEAR EAST)</td>\n",
              "      <td>31056997</td>\n",
              "      <td>647500</td>\n",
              "      <td>48,0</td>\n",
              "      <td>0,00</td>\n",
              "      <td>23,06</td>\n",
              "      <td>163,07</td>\n",
              "      <td>700.0</td>\n",
              "      <td>36,0</td>\n",
              "      <td>3,2</td>\n",
              "      <td>12,13</td>\n",
              "      <td>0,22</td>\n",
              "      <td>87,65</td>\n",
              "      <td>1</td>\n",
              "      <td>46,6</td>\n",
              "      <td>20,34</td>\n",
              "      <td>0,38</td>\n",
              "      <td>0,24</td>\n",
              "      <td>0,38</td>\n",
              "    </tr>\n",
              "    <tr>\n",
              "      <th>1</th>\n",
              "      <td>Albania</td>\n",
              "      <td>EASTERN EUROPE</td>\n",
              "      <td>3581655</td>\n",
              "      <td>28748</td>\n",
              "      <td>124,6</td>\n",
              "      <td>1,26</td>\n",
              "      <td>-4,93</td>\n",
              "      <td>21,52</td>\n",
              "      <td>4500.0</td>\n",
              "      <td>86,5</td>\n",
              "      <td>71,2</td>\n",
              "      <td>21,09</td>\n",
              "      <td>4,42</td>\n",
              "      <td>74,49</td>\n",
              "      <td>3</td>\n",
              "      <td>15,11</td>\n",
              "      <td>5,22</td>\n",
              "      <td>0,232</td>\n",
              "      <td>0,188</td>\n",
              "      <td>0,579</td>\n",
              "    </tr>\n",
              "    <tr>\n",
              "      <th>2</th>\n",
              "      <td>Algeria</td>\n",
              "      <td>NORTHERN AFRICA</td>\n",
              "      <td>32930091</td>\n",
              "      <td>2381740</td>\n",
              "      <td>13,8</td>\n",
              "      <td>0,04</td>\n",
              "      <td>-0,39</td>\n",
              "      <td>31</td>\n",
              "      <td>6000.0</td>\n",
              "      <td>70,0</td>\n",
              "      <td>78,1</td>\n",
              "      <td>3,22</td>\n",
              "      <td>0,25</td>\n",
              "      <td>96,53</td>\n",
              "      <td>1</td>\n",
              "      <td>17,14</td>\n",
              "      <td>4,61</td>\n",
              "      <td>0,101</td>\n",
              "      <td>0,6</td>\n",
              "      <td>0,298</td>\n",
              "    </tr>\n",
              "    <tr>\n",
              "      <th>3</th>\n",
              "      <td>American Samoa</td>\n",
              "      <td>OCEANIA</td>\n",
              "      <td>57794</td>\n",
              "      <td>199</td>\n",
              "      <td>290,4</td>\n",
              "      <td>58,29</td>\n",
              "      <td>-20,71</td>\n",
              "      <td>9,27</td>\n",
              "      <td>8000.0</td>\n",
              "      <td>97,0</td>\n",
              "      <td>259,5</td>\n",
              "      <td>10</td>\n",
              "      <td>15</td>\n",
              "      <td>75</td>\n",
              "      <td>2</td>\n",
              "      <td>22,46</td>\n",
              "      <td>3,27</td>\n",
              "      <td>None</td>\n",
              "      <td>None</td>\n",
              "      <td>None</td>\n",
              "    </tr>\n",
              "    <tr>\n",
              "      <th>4</th>\n",
              "      <td>Andorra</td>\n",
              "      <td>WESTERN EUROPE</td>\n",
              "      <td>71201</td>\n",
              "      <td>468</td>\n",
              "      <td>152,1</td>\n",
              "      <td>0,00</td>\n",
              "      <td>6,6</td>\n",
              "      <td>4,05</td>\n",
              "      <td>19000.0</td>\n",
              "      <td>100,0</td>\n",
              "      <td>497,2</td>\n",
              "      <td>2,22</td>\n",
              "      <td>0</td>\n",
              "      <td>97,78</td>\n",
              "      <td>3</td>\n",
              "      <td>8,71</td>\n",
              "      <td>6,25</td>\n",
              "      <td>None</td>\n",
              "      <td>None</td>\n",
              "      <td>None</td>\n",
              "    </tr>\n",
              "    <tr>\n",
              "      <th>...</th>\n",
              "      <td>...</td>\n",
              "      <td>...</td>\n",
              "      <td>...</td>\n",
              "      <td>...</td>\n",
              "      <td>...</td>\n",
              "      <td>...</td>\n",
              "      <td>...</td>\n",
              "      <td>...</td>\n",
              "      <td>...</td>\n",
              "      <td>...</td>\n",
              "      <td>...</td>\n",
              "      <td>...</td>\n",
              "      <td>...</td>\n",
              "      <td>...</td>\n",
              "      <td>...</td>\n",
              "      <td>...</td>\n",
              "      <td>...</td>\n",
              "      <td>...</td>\n",
              "      <td>...</td>\n",
              "      <td>...</td>\n",
              "    </tr>\n",
              "    <tr>\n",
              "      <th>222</th>\n",
              "      <td>West Bank</td>\n",
              "      <td>NEAR EAST</td>\n",
              "      <td>2460492</td>\n",
              "      <td>5860</td>\n",
              "      <td>419,9</td>\n",
              "      <td>0,00</td>\n",
              "      <td>2,98</td>\n",
              "      <td>19,62</td>\n",
              "      <td>800.0</td>\n",
              "      <td>None</td>\n",
              "      <td>145,2</td>\n",
              "      <td>16,9</td>\n",
              "      <td>18,97</td>\n",
              "      <td>64,13</td>\n",
              "      <td>3</td>\n",
              "      <td>31,67</td>\n",
              "      <td>3,92</td>\n",
              "      <td>0,09</td>\n",
              "      <td>0,28</td>\n",
              "      <td>0,63</td>\n",
              "    </tr>\n",
              "    <tr>\n",
              "      <th>223</th>\n",
              "      <td>Western Sahara</td>\n",
              "      <td>NORTHERN AFRICA</td>\n",
              "      <td>273008</td>\n",
              "      <td>266000</td>\n",
              "      <td>1,0</td>\n",
              "      <td>0,42</td>\n",
              "      <td>None</td>\n",
              "      <td>None</td>\n",
              "      <td>NaN</td>\n",
              "      <td>None</td>\n",
              "      <td>None</td>\n",
              "      <td>0,02</td>\n",
              "      <td>0</td>\n",
              "      <td>99,98</td>\n",
              "      <td>1</td>\n",
              "      <td>None</td>\n",
              "      <td>None</td>\n",
              "      <td>None</td>\n",
              "      <td>None</td>\n",
              "      <td>0,4</td>\n",
              "    </tr>\n",
              "    <tr>\n",
              "      <th>224</th>\n",
              "      <td>Yemen</td>\n",
              "      <td>NEAR EAST</td>\n",
              "      <td>21456188</td>\n",
              "      <td>527970</td>\n",
              "      <td>40,6</td>\n",
              "      <td>0,36</td>\n",
              "      <td>0</td>\n",
              "      <td>61,5</td>\n",
              "      <td>800.0</td>\n",
              "      <td>50,2</td>\n",
              "      <td>37,2</td>\n",
              "      <td>2,78</td>\n",
              "      <td>0,24</td>\n",
              "      <td>96,98</td>\n",
              "      <td>1</td>\n",
              "      <td>42,89</td>\n",
              "      <td>8,3</td>\n",
              "      <td>0,135</td>\n",
              "      <td>0,472</td>\n",
              "      <td>0,393</td>\n",
              "    </tr>\n",
              "    <tr>\n",
              "      <th>225</th>\n",
              "      <td>Zambia</td>\n",
              "      <td>SUB-SAHARAN AFRICA</td>\n",
              "      <td>11502010</td>\n",
              "      <td>752614</td>\n",
              "      <td>15,3</td>\n",
              "      <td>0,00</td>\n",
              "      <td>0</td>\n",
              "      <td>88,29</td>\n",
              "      <td>800.0</td>\n",
              "      <td>80,6</td>\n",
              "      <td>8,2</td>\n",
              "      <td>7,08</td>\n",
              "      <td>0,03</td>\n",
              "      <td>92,9</td>\n",
              "      <td>2</td>\n",
              "      <td>41</td>\n",
              "      <td>19,93</td>\n",
              "      <td>0,22</td>\n",
              "      <td>0,29</td>\n",
              "      <td>0,489</td>\n",
              "    </tr>\n",
              "    <tr>\n",
              "      <th>226</th>\n",
              "      <td>Zimbabwe</td>\n",
              "      <td>SUB-SAHARAN AFRICA</td>\n",
              "      <td>12236805</td>\n",
              "      <td>390580</td>\n",
              "      <td>31,3</td>\n",
              "      <td>0,00</td>\n",
              "      <td>0</td>\n",
              "      <td>67,69</td>\n",
              "      <td>1900.0</td>\n",
              "      <td>90,7</td>\n",
              "      <td>26,8</td>\n",
              "      <td>8,32</td>\n",
              "      <td>0,34</td>\n",
              "      <td>91,34</td>\n",
              "      <td>2</td>\n",
              "      <td>28,01</td>\n",
              "      <td>21,84</td>\n",
              "      <td>0,179</td>\n",
              "      <td>0,243</td>\n",
              "      <td>0,579</td>\n",
              "    </tr>\n",
              "  </tbody>\n",
              "</table>\n",
              "<p>227 rows × 20 columns</p>\n",
              "</div>"
            ],
            "text/plain": [
              "             Country                               Region  ...  Industry  Service\n",
              "0       Afghanistan         ASIA (EX. NEAR EAST)           ...      0,24     0,38\n",
              "1           Albania   EASTERN EUROPE                       ...     0,188    0,579\n",
              "2           Algeria   NORTHERN AFRICA                      ...       0,6    0,298\n",
              "3    American Samoa   OCEANIA                              ...      None     None\n",
              "4           Andorra   WESTERN EUROPE                       ...      None     None\n",
              "..               ...                                  ...  ...       ...      ...\n",
              "222       West Bank   NEAR EAST                            ...      0,28     0,63\n",
              "223  Western Sahara   NORTHERN AFRICA                      ...      None      0,4\n",
              "224           Yemen   NEAR EAST                            ...     0,472    0,393\n",
              "225          Zambia   SUB-SAHARAN AFRICA                   ...      0,29    0,489\n",
              "226        Zimbabwe   SUB-SAHARAN AFRICA                   ...     0,243    0,579\n",
              "\n",
              "[227 rows x 20 columns]"
            ]
          },
          "metadata": {},
          "execution_count": 30
        }
      ]
    },
    {
      "cell_type": "markdown",
      "metadata": {
        "id": "sFX5yxWH2Dm5"
      },
      "source": [
        "We can inspect the schema of the DataFrame."
      ]
    },
    {
      "cell_type": "code",
      "metadata": {
        "colab": {
          "base_uri": "https://localhost:8080/"
        },
        "id": "Ab-MTwFm2Dm5",
        "outputId": "345d9047-c1d9-4a67-a10b-e2e1aae9f735"
      },
      "source": [
        "countries.printSchema()"
      ],
      "execution_count": 31,
      "outputs": [
        {
          "output_type": "stream",
          "name": "stdout",
          "text": [
            "root\n",
            " |-- Country: string (nullable = true)\n",
            " |-- Region: string (nullable = true)\n",
            " |-- Population: integer (nullable = true)\n",
            " |-- Area (sq. mi.): integer (nullable = true)\n",
            " |-- Pop. Density (per sq. mi.): string (nullable = true)\n",
            " |-- Coastline (coast/area ratio): string (nullable = true)\n",
            " |-- Net migration: string (nullable = true)\n",
            " |-- Infant mortality (per 1000 births): string (nullable = true)\n",
            " |-- GDP ($ per capita): integer (nullable = true)\n",
            " |-- Literacy (%): string (nullable = true)\n",
            " |-- Phones (per 1000): string (nullable = true)\n",
            " |-- Arable (%): string (nullable = true)\n",
            " |-- Crops (%): string (nullable = true)\n",
            " |-- Other (%): string (nullable = true)\n",
            " |-- Climate: string (nullable = true)\n",
            " |-- Birthrate: string (nullable = true)\n",
            " |-- Deathrate: string (nullable = true)\n",
            " |-- Agriculture: string (nullable = true)\n",
            " |-- Industry: string (nullable = true)\n",
            " |-- Service: string (nullable = true)\n",
            "\n"
          ]
        }
      ]
    },
    {
      "cell_type": "markdown",
      "metadata": {
        "id": "-awBPkGv2Dm6"
      },
      "source": [
        "### Examples of SQL Queries"
      ]
    },
    {
      "cell_type": "code",
      "metadata": {
        "id": "xfGHwjmN2Dm6"
      },
      "source": [
        "countries.createOrReplaceTempView(\"countries\")"
      ],
      "execution_count": 32,
      "outputs": []
    },
    {
      "cell_type": "code",
      "metadata": {
        "colab": {
          "base_uri": "https://localhost:8080/",
          "height": 916
        },
        "id": "q8m_WOng2Dm6",
        "outputId": "a2500ae5-2658-44f0-b60d-70ef286004ca"
      },
      "source": [
        "spark.sql(\"SELECT * FROM countries WHERE Region LIKE '%OCEANIA%'\").toPandas()"
      ],
      "execution_count": 33,
      "outputs": [
        {
          "output_type": "execute_result",
          "data": {
            "text/html": [
              "<div>\n",
              "<style scoped>\n",
              "    .dataframe tbody tr th:only-of-type {\n",
              "        vertical-align: middle;\n",
              "    }\n",
              "\n",
              "    .dataframe tbody tr th {\n",
              "        vertical-align: top;\n",
              "    }\n",
              "\n",
              "    .dataframe thead th {\n",
              "        text-align: right;\n",
              "    }\n",
              "</style>\n",
              "<table border=\"1\" class=\"dataframe\">\n",
              "  <thead>\n",
              "    <tr style=\"text-align: right;\">\n",
              "      <th></th>\n",
              "      <th>Country</th>\n",
              "      <th>Region</th>\n",
              "      <th>Population</th>\n",
              "      <th>Area (sq. mi.)</th>\n",
              "      <th>Pop. Density (per sq. mi.)</th>\n",
              "      <th>Coastline (coast/area ratio)</th>\n",
              "      <th>Net migration</th>\n",
              "      <th>Infant mortality (per 1000 births)</th>\n",
              "      <th>GDP ($ per capita)</th>\n",
              "      <th>Literacy (%)</th>\n",
              "      <th>Phones (per 1000)</th>\n",
              "      <th>Arable (%)</th>\n",
              "      <th>Crops (%)</th>\n",
              "      <th>Other (%)</th>\n",
              "      <th>Climate</th>\n",
              "      <th>Birthrate</th>\n",
              "      <th>Deathrate</th>\n",
              "      <th>Agriculture</th>\n",
              "      <th>Industry</th>\n",
              "      <th>Service</th>\n",
              "    </tr>\n",
              "  </thead>\n",
              "  <tbody>\n",
              "    <tr>\n",
              "      <th>0</th>\n",
              "      <td>American Samoa</td>\n",
              "      <td>OCEANIA</td>\n",
              "      <td>57794</td>\n",
              "      <td>199</td>\n",
              "      <td>290,4</td>\n",
              "      <td>58,29</td>\n",
              "      <td>-20,71</td>\n",
              "      <td>9,27</td>\n",
              "      <td>8000</td>\n",
              "      <td>97,0</td>\n",
              "      <td>259,5</td>\n",
              "      <td>10</td>\n",
              "      <td>15</td>\n",
              "      <td>75</td>\n",
              "      <td>2</td>\n",
              "      <td>22,46</td>\n",
              "      <td>3,27</td>\n",
              "      <td>None</td>\n",
              "      <td>None</td>\n",
              "      <td>None</td>\n",
              "    </tr>\n",
              "    <tr>\n",
              "      <th>1</th>\n",
              "      <td>Australia</td>\n",
              "      <td>OCEANIA</td>\n",
              "      <td>20264082</td>\n",
              "      <td>7686850</td>\n",
              "      <td>2,6</td>\n",
              "      <td>0,34</td>\n",
              "      <td>3,98</td>\n",
              "      <td>4,69</td>\n",
              "      <td>29000</td>\n",
              "      <td>100,0</td>\n",
              "      <td>565,5</td>\n",
              "      <td>6,55</td>\n",
              "      <td>0,04</td>\n",
              "      <td>93,41</td>\n",
              "      <td>1</td>\n",
              "      <td>12,14</td>\n",
              "      <td>7,51</td>\n",
              "      <td>0,038</td>\n",
              "      <td>0,262</td>\n",
              "      <td>0,7</td>\n",
              "    </tr>\n",
              "    <tr>\n",
              "      <th>2</th>\n",
              "      <td>Cook Islands</td>\n",
              "      <td>OCEANIA</td>\n",
              "      <td>21388</td>\n",
              "      <td>240</td>\n",
              "      <td>89,1</td>\n",
              "      <td>50,00</td>\n",
              "      <td>None</td>\n",
              "      <td>None</td>\n",
              "      <td>5000</td>\n",
              "      <td>95,0</td>\n",
              "      <td>289,9</td>\n",
              "      <td>17,39</td>\n",
              "      <td>13,04</td>\n",
              "      <td>69,57</td>\n",
              "      <td>2</td>\n",
              "      <td>21</td>\n",
              "      <td>None</td>\n",
              "      <td>0,151</td>\n",
              "      <td>0,096</td>\n",
              "      <td>0,753</td>\n",
              "    </tr>\n",
              "    <tr>\n",
              "      <th>3</th>\n",
              "      <td>Fiji</td>\n",
              "      <td>OCEANIA</td>\n",
              "      <td>905949</td>\n",
              "      <td>18270</td>\n",
              "      <td>49,6</td>\n",
              "      <td>6,18</td>\n",
              "      <td>-3,14</td>\n",
              "      <td>12,62</td>\n",
              "      <td>5800</td>\n",
              "      <td>93,7</td>\n",
              "      <td>112,6</td>\n",
              "      <td>10,95</td>\n",
              "      <td>4,65</td>\n",
              "      <td>84,4</td>\n",
              "      <td>2</td>\n",
              "      <td>22,55</td>\n",
              "      <td>5,65</td>\n",
              "      <td>0,089</td>\n",
              "      <td>0,135</td>\n",
              "      <td>0,776</td>\n",
              "    </tr>\n",
              "    <tr>\n",
              "      <th>4</th>\n",
              "      <td>French Polynesia</td>\n",
              "      <td>OCEANIA</td>\n",
              "      <td>274578</td>\n",
              "      <td>4167</td>\n",
              "      <td>65,9</td>\n",
              "      <td>60,60</td>\n",
              "      <td>2,94</td>\n",
              "      <td>8,44</td>\n",
              "      <td>17500</td>\n",
              "      <td>98,0</td>\n",
              "      <td>194,5</td>\n",
              "      <td>0,82</td>\n",
              "      <td>5,46</td>\n",
              "      <td>93,72</td>\n",
              "      <td>2</td>\n",
              "      <td>16,68</td>\n",
              "      <td>4,69</td>\n",
              "      <td>0,031</td>\n",
              "      <td>0,19</td>\n",
              "      <td>0,769</td>\n",
              "    </tr>\n",
              "    <tr>\n",
              "      <th>5</th>\n",
              "      <td>Guam</td>\n",
              "      <td>OCEANIA</td>\n",
              "      <td>171019</td>\n",
              "      <td>541</td>\n",
              "      <td>316,1</td>\n",
              "      <td>23,20</td>\n",
              "      <td>0</td>\n",
              "      <td>6,94</td>\n",
              "      <td>21000</td>\n",
              "      <td>99,0</td>\n",
              "      <td>492,0</td>\n",
              "      <td>9,09</td>\n",
              "      <td>16,36</td>\n",
              "      <td>74,55</td>\n",
              "      <td>2</td>\n",
              "      <td>18,79</td>\n",
              "      <td>4,48</td>\n",
              "      <td>None</td>\n",
              "      <td>None</td>\n",
              "      <td>None</td>\n",
              "    </tr>\n",
              "    <tr>\n",
              "      <th>6</th>\n",
              "      <td>Kiribati</td>\n",
              "      <td>OCEANIA</td>\n",
              "      <td>105432</td>\n",
              "      <td>811</td>\n",
              "      <td>130,0</td>\n",
              "      <td>140,94</td>\n",
              "      <td>0</td>\n",
              "      <td>48,52</td>\n",
              "      <td>800</td>\n",
              "      <td>None</td>\n",
              "      <td>42,7</td>\n",
              "      <td>2,74</td>\n",
              "      <td>50,68</td>\n",
              "      <td>46,58</td>\n",
              "      <td>2</td>\n",
              "      <td>30,65</td>\n",
              "      <td>8,26</td>\n",
              "      <td>0,089</td>\n",
              "      <td>0,242</td>\n",
              "      <td>0,668</td>\n",
              "    </tr>\n",
              "    <tr>\n",
              "      <th>7</th>\n",
              "      <td>Marshall Islands</td>\n",
              "      <td>OCEANIA</td>\n",
              "      <td>60422</td>\n",
              "      <td>11854</td>\n",
              "      <td>5,1</td>\n",
              "      <td>3,12</td>\n",
              "      <td>-6,04</td>\n",
              "      <td>29,45</td>\n",
              "      <td>1600</td>\n",
              "      <td>93,7</td>\n",
              "      <td>91,2</td>\n",
              "      <td>16,67</td>\n",
              "      <td>38,89</td>\n",
              "      <td>44,44</td>\n",
              "      <td>2</td>\n",
              "      <td>33,05</td>\n",
              "      <td>4,78</td>\n",
              "      <td>0,317</td>\n",
              "      <td>0,149</td>\n",
              "      <td>0,534</td>\n",
              "    </tr>\n",
              "    <tr>\n",
              "      <th>8</th>\n",
              "      <td>Micronesia, Fed. St.</td>\n",
              "      <td>OCEANIA</td>\n",
              "      <td>108004</td>\n",
              "      <td>702</td>\n",
              "      <td>153,9</td>\n",
              "      <td>870,66</td>\n",
              "      <td>-20,99</td>\n",
              "      <td>30,21</td>\n",
              "      <td>2000</td>\n",
              "      <td>89,0</td>\n",
              "      <td>114,8</td>\n",
              "      <td>5,71</td>\n",
              "      <td>45,71</td>\n",
              "      <td>48,58</td>\n",
              "      <td>2</td>\n",
              "      <td>24,68</td>\n",
              "      <td>4,75</td>\n",
              "      <td>0,289</td>\n",
              "      <td>0,152</td>\n",
              "      <td>0,559</td>\n",
              "    </tr>\n",
              "    <tr>\n",
              "      <th>9</th>\n",
              "      <td>Nauru</td>\n",
              "      <td>OCEANIA</td>\n",
              "      <td>13287</td>\n",
              "      <td>21</td>\n",
              "      <td>632,7</td>\n",
              "      <td>142,86</td>\n",
              "      <td>0</td>\n",
              "      <td>9,95</td>\n",
              "      <td>5000</td>\n",
              "      <td>None</td>\n",
              "      <td>143,0</td>\n",
              "      <td>0</td>\n",
              "      <td>0</td>\n",
              "      <td>100</td>\n",
              "      <td>2</td>\n",
              "      <td>24,76</td>\n",
              "      <td>6,7</td>\n",
              "      <td>None</td>\n",
              "      <td>None</td>\n",
              "      <td>None</td>\n",
              "    </tr>\n",
              "    <tr>\n",
              "      <th>10</th>\n",
              "      <td>New Caledonia</td>\n",
              "      <td>OCEANIA</td>\n",
              "      <td>219246</td>\n",
              "      <td>19060</td>\n",
              "      <td>11,5</td>\n",
              "      <td>11,83</td>\n",
              "      <td>0</td>\n",
              "      <td>7,72</td>\n",
              "      <td>15000</td>\n",
              "      <td>91,0</td>\n",
              "      <td>252,2</td>\n",
              "      <td>0,38</td>\n",
              "      <td>0,33</td>\n",
              "      <td>99,29</td>\n",
              "      <td>2</td>\n",
              "      <td>18,11</td>\n",
              "      <td>5,69</td>\n",
              "      <td>0,15</td>\n",
              "      <td>0,088</td>\n",
              "      <td>0,762</td>\n",
              "    </tr>\n",
              "    <tr>\n",
              "      <th>11</th>\n",
              "      <td>New Zealand</td>\n",
              "      <td>OCEANIA</td>\n",
              "      <td>4076140</td>\n",
              "      <td>268680</td>\n",
              "      <td>15,2</td>\n",
              "      <td>5,63</td>\n",
              "      <td>4,05</td>\n",
              "      <td>5,85</td>\n",
              "      <td>21600</td>\n",
              "      <td>99,0</td>\n",
              "      <td>441,7</td>\n",
              "      <td>5,6</td>\n",
              "      <td>6,99</td>\n",
              "      <td>87,41</td>\n",
              "      <td>3</td>\n",
              "      <td>13,76</td>\n",
              "      <td>7,53</td>\n",
              "      <td>0,043</td>\n",
              "      <td>0,273</td>\n",
              "      <td>0,684</td>\n",
              "    </tr>\n",
              "    <tr>\n",
              "      <th>12</th>\n",
              "      <td>N. Mariana Islands</td>\n",
              "      <td>OCEANIA</td>\n",
              "      <td>82459</td>\n",
              "      <td>477</td>\n",
              "      <td>172,9</td>\n",
              "      <td>310,69</td>\n",
              "      <td>9,61</td>\n",
              "      <td>7,11</td>\n",
              "      <td>12500</td>\n",
              "      <td>97,0</td>\n",
              "      <td>254,7</td>\n",
              "      <td>13,04</td>\n",
              "      <td>4,35</td>\n",
              "      <td>82,61</td>\n",
              "      <td>2</td>\n",
              "      <td>19,43</td>\n",
              "      <td>2,29</td>\n",
              "      <td>None</td>\n",
              "      <td>None</td>\n",
              "      <td>None</td>\n",
              "    </tr>\n",
              "    <tr>\n",
              "      <th>13</th>\n",
              "      <td>Palau</td>\n",
              "      <td>OCEANIA</td>\n",
              "      <td>20579</td>\n",
              "      <td>458</td>\n",
              "      <td>44,9</td>\n",
              "      <td>331,66</td>\n",
              "      <td>2,85</td>\n",
              "      <td>14,84</td>\n",
              "      <td>9000</td>\n",
              "      <td>92,0</td>\n",
              "      <td>325,6</td>\n",
              "      <td>8,7</td>\n",
              "      <td>4,35</td>\n",
              "      <td>86,95</td>\n",
              "      <td>2</td>\n",
              "      <td>18,03</td>\n",
              "      <td>6,8</td>\n",
              "      <td>0,062</td>\n",
              "      <td>0,12</td>\n",
              "      <td>0,818</td>\n",
              "    </tr>\n",
              "    <tr>\n",
              "      <th>14</th>\n",
              "      <td>Papua New Guinea</td>\n",
              "      <td>OCEANIA</td>\n",
              "      <td>5670544</td>\n",
              "      <td>462840</td>\n",
              "      <td>12,3</td>\n",
              "      <td>1,11</td>\n",
              "      <td>0</td>\n",
              "      <td>51,45</td>\n",
              "      <td>2200</td>\n",
              "      <td>64,6</td>\n",
              "      <td>10,9</td>\n",
              "      <td>0,46</td>\n",
              "      <td>1,44</td>\n",
              "      <td>98,1</td>\n",
              "      <td>2</td>\n",
              "      <td>29,36</td>\n",
              "      <td>7,25</td>\n",
              "      <td>0,353</td>\n",
              "      <td>0,381</td>\n",
              "      <td>0,266</td>\n",
              "    </tr>\n",
              "    <tr>\n",
              "      <th>15</th>\n",
              "      <td>Samoa</td>\n",
              "      <td>OCEANIA</td>\n",
              "      <td>176908</td>\n",
              "      <td>2944</td>\n",
              "      <td>60,1</td>\n",
              "      <td>13,69</td>\n",
              "      <td>-11,7</td>\n",
              "      <td>27,71</td>\n",
              "      <td>5600</td>\n",
              "      <td>99,7</td>\n",
              "      <td>75,2</td>\n",
              "      <td>21,2</td>\n",
              "      <td>24,38</td>\n",
              "      <td>54,42</td>\n",
              "      <td>2</td>\n",
              "      <td>16,43</td>\n",
              "      <td>6,62</td>\n",
              "      <td>0,114</td>\n",
              "      <td>0,584</td>\n",
              "      <td>0,302</td>\n",
              "    </tr>\n",
              "    <tr>\n",
              "      <th>16</th>\n",
              "      <td>Solomon Islands</td>\n",
              "      <td>OCEANIA</td>\n",
              "      <td>552438</td>\n",
              "      <td>28450</td>\n",
              "      <td>19,4</td>\n",
              "      <td>18,67</td>\n",
              "      <td>0</td>\n",
              "      <td>21,29</td>\n",
              "      <td>1700</td>\n",
              "      <td>None</td>\n",
              "      <td>13,4</td>\n",
              "      <td>0,64</td>\n",
              "      <td>2</td>\n",
              "      <td>97,36</td>\n",
              "      <td>2</td>\n",
              "      <td>30,01</td>\n",
              "      <td>3,92</td>\n",
              "      <td>0,42</td>\n",
              "      <td>0,11</td>\n",
              "      <td>0,47</td>\n",
              "    </tr>\n",
              "    <tr>\n",
              "      <th>17</th>\n",
              "      <td>Tonga</td>\n",
              "      <td>OCEANIA</td>\n",
              "      <td>114689</td>\n",
              "      <td>748</td>\n",
              "      <td>153,3</td>\n",
              "      <td>56,02</td>\n",
              "      <td>0</td>\n",
              "      <td>12,62</td>\n",
              "      <td>2200</td>\n",
              "      <td>98,5</td>\n",
              "      <td>97,7</td>\n",
              "      <td>23,61</td>\n",
              "      <td>43,06</td>\n",
              "      <td>33,33</td>\n",
              "      <td>2</td>\n",
              "      <td>25,37</td>\n",
              "      <td>5,28</td>\n",
              "      <td>0,23</td>\n",
              "      <td>0,27</td>\n",
              "      <td>0,5</td>\n",
              "    </tr>\n",
              "    <tr>\n",
              "      <th>18</th>\n",
              "      <td>Tuvalu</td>\n",
              "      <td>OCEANIA</td>\n",
              "      <td>11810</td>\n",
              "      <td>26</td>\n",
              "      <td>454,2</td>\n",
              "      <td>92,31</td>\n",
              "      <td>0</td>\n",
              "      <td>20,03</td>\n",
              "      <td>1100</td>\n",
              "      <td>None</td>\n",
              "      <td>59,3</td>\n",
              "      <td>0</td>\n",
              "      <td>0</td>\n",
              "      <td>100</td>\n",
              "      <td>2</td>\n",
              "      <td>22,18</td>\n",
              "      <td>7,11</td>\n",
              "      <td>0,166</td>\n",
              "      <td>0,272</td>\n",
              "      <td>0,562</td>\n",
              "    </tr>\n",
              "    <tr>\n",
              "      <th>19</th>\n",
              "      <td>Vanuatu</td>\n",
              "      <td>OCEANIA</td>\n",
              "      <td>208869</td>\n",
              "      <td>12200</td>\n",
              "      <td>17,1</td>\n",
              "      <td>20,72</td>\n",
              "      <td>0</td>\n",
              "      <td>55,16</td>\n",
              "      <td>2900</td>\n",
              "      <td>53,0</td>\n",
              "      <td>32,6</td>\n",
              "      <td>2,46</td>\n",
              "      <td>7,38</td>\n",
              "      <td>90,16</td>\n",
              "      <td>2</td>\n",
              "      <td>22,72</td>\n",
              "      <td>7,82</td>\n",
              "      <td>0,26</td>\n",
              "      <td>0,12</td>\n",
              "      <td>0,62</td>\n",
              "    </tr>\n",
              "    <tr>\n",
              "      <th>20</th>\n",
              "      <td>Wallis and Futuna</td>\n",
              "      <td>OCEANIA</td>\n",
              "      <td>16025</td>\n",
              "      <td>274</td>\n",
              "      <td>58,5</td>\n",
              "      <td>47,08</td>\n",
              "      <td>None</td>\n",
              "      <td>None</td>\n",
              "      <td>3700</td>\n",
              "      <td>50,0</td>\n",
              "      <td>118,6</td>\n",
              "      <td>5</td>\n",
              "      <td>25</td>\n",
              "      <td>70</td>\n",
              "      <td>2</td>\n",
              "      <td>None</td>\n",
              "      <td>None</td>\n",
              "      <td>None</td>\n",
              "      <td>None</td>\n",
              "      <td>None</td>\n",
              "    </tr>\n",
              "  </tbody>\n",
              "</table>\n",
              "</div>"
            ],
            "text/plain": [
              "                  Country                               Region  ...  Industry  Service\n",
              "0         American Samoa   OCEANIA                              ...      None     None\n",
              "1              Australia   OCEANIA                              ...     0,262      0,7\n",
              "2           Cook Islands   OCEANIA                              ...     0,096    0,753\n",
              "3                   Fiji   OCEANIA                              ...     0,135    0,776\n",
              "4       French Polynesia   OCEANIA                              ...      0,19    0,769\n",
              "5                   Guam   OCEANIA                              ...      None     None\n",
              "6               Kiribati   OCEANIA                              ...     0,242    0,668\n",
              "7       Marshall Islands   OCEANIA                              ...     0,149    0,534\n",
              "8   Micronesia, Fed. St.   OCEANIA                              ...     0,152    0,559\n",
              "9                  Nauru   OCEANIA                              ...      None     None\n",
              "10         New Caledonia   OCEANIA                              ...     0,088    0,762\n",
              "11           New Zealand   OCEANIA                              ...     0,273    0,684\n",
              "12    N. Mariana Islands   OCEANIA                              ...      None     None\n",
              "13                 Palau   OCEANIA                              ...      0,12    0,818\n",
              "14      Papua New Guinea   OCEANIA                              ...     0,381    0,266\n",
              "15                 Samoa   OCEANIA                              ...     0,584    0,302\n",
              "16       Solomon Islands   OCEANIA                              ...      0,11     0,47\n",
              "17                 Tonga   OCEANIA                              ...      0,27      0,5\n",
              "18                Tuvalu   OCEANIA                              ...     0,272    0,562\n",
              "19               Vanuatu   OCEANIA                              ...      0,12     0,62\n",
              "20     Wallis and Futuna   OCEANIA                              ...      None     None\n",
              "\n",
              "[21 rows x 20 columns]"
            ]
          },
          "metadata": {},
          "execution_count": 33
        }
      ]
    },
    {
      "cell_type": "markdown",
      "metadata": {
        "id": "gFEByxsI2Dm8"
      },
      "source": [
        "### Queries using PySpark DSL\n",
        "\n",
        "DSL = Domain Specific Language - API similar to natural or other language, implemented as library in another language."
      ]
    },
    {
      "cell_type": "markdown",
      "metadata": {
        "id": "3nb8ftT42Dm9"
      },
      "source": [
        "List all the countries with the population > 38 million"
      ]
    },
    {
      "cell_type": "code",
      "metadata": {
        "colab": {
          "base_uri": "https://localhost:8080/",
          "height": 1000
        },
        "id": "oqB-CeKa2Dm9",
        "outputId": "aee71dd5-9123-4cb0-9f46-8047664dd237"
      },
      "source": [
        "countries.filter((col(\"Population\") > 38000000)).orderBy(\"Population\").toPandas()"
      ],
      "execution_count": 34,
      "outputs": [
        {
          "output_type": "execute_result",
          "data": {
            "text/html": [
              "<div>\n",
              "<style scoped>\n",
              "    .dataframe tbody tr th:only-of-type {\n",
              "        vertical-align: middle;\n",
              "    }\n",
              "\n",
              "    .dataframe tbody tr th {\n",
              "        vertical-align: top;\n",
              "    }\n",
              "\n",
              "    .dataframe thead th {\n",
              "        text-align: right;\n",
              "    }\n",
              "</style>\n",
              "<table border=\"1\" class=\"dataframe\">\n",
              "  <thead>\n",
              "    <tr style=\"text-align: right;\">\n",
              "      <th></th>\n",
              "      <th>Country</th>\n",
              "      <th>Region</th>\n",
              "      <th>Population</th>\n",
              "      <th>Area (sq. mi.)</th>\n",
              "      <th>Pop. Density (per sq. mi.)</th>\n",
              "      <th>Coastline (coast/area ratio)</th>\n",
              "      <th>Net migration</th>\n",
              "      <th>Infant mortality (per 1000 births)</th>\n",
              "      <th>GDP ($ per capita)</th>\n",
              "      <th>Literacy (%)</th>\n",
              "      <th>Phones (per 1000)</th>\n",
              "      <th>Arable (%)</th>\n",
              "      <th>Crops (%)</th>\n",
              "      <th>Other (%)</th>\n",
              "      <th>Climate</th>\n",
              "      <th>Birthrate</th>\n",
              "      <th>Deathrate</th>\n",
              "      <th>Agriculture</th>\n",
              "      <th>Industry</th>\n",
              "      <th>Service</th>\n",
              "    </tr>\n",
              "  </thead>\n",
              "  <tbody>\n",
              "    <tr>\n",
              "      <th>0</th>\n",
              "      <td>Poland</td>\n",
              "      <td>EASTERN EUROPE</td>\n",
              "      <td>38536869</td>\n",
              "      <td>312685</td>\n",
              "      <td>123,3</td>\n",
              "      <td>0,16</td>\n",
              "      <td>-0,49</td>\n",
              "      <td>8,51</td>\n",
              "      <td>11100</td>\n",
              "      <td>99,8</td>\n",
              "      <td>306,3</td>\n",
              "      <td>45,91</td>\n",
              "      <td>1,12</td>\n",
              "      <td>52,97</td>\n",
              "      <td>3</td>\n",
              "      <td>9,85</td>\n",
              "      <td>9,89</td>\n",
              "      <td>0,05</td>\n",
              "      <td>0,311</td>\n",
              "      <td>0,64</td>\n",
              "    </tr>\n",
              "    <tr>\n",
              "      <th>1</th>\n",
              "      <td>Argentina</td>\n",
              "      <td>LATIN AMER. &amp; CARIB</td>\n",
              "      <td>39921833</td>\n",
              "      <td>2766890</td>\n",
              "      <td>14,4</td>\n",
              "      <td>0,18</td>\n",
              "      <td>0,61</td>\n",
              "      <td>15,18</td>\n",
              "      <td>11200</td>\n",
              "      <td>97,1</td>\n",
              "      <td>220,4</td>\n",
              "      <td>12,31</td>\n",
              "      <td>0,48</td>\n",
              "      <td>87,21</td>\n",
              "      <td>3</td>\n",
              "      <td>16,73</td>\n",
              "      <td>7,55</td>\n",
              "      <td>0,095</td>\n",
              "      <td>0,358</td>\n",
              "      <td>0,547</td>\n",
              "    </tr>\n",
              "    <tr>\n",
              "      <th>2</th>\n",
              "      <td>Spain</td>\n",
              "      <td>WESTERN EUROPE</td>\n",
              "      <td>40397842</td>\n",
              "      <td>504782</td>\n",
              "      <td>80,0</td>\n",
              "      <td>0,98</td>\n",
              "      <td>0,99</td>\n",
              "      <td>4,42</td>\n",
              "      <td>22000</td>\n",
              "      <td>97,9</td>\n",
              "      <td>453,5</td>\n",
              "      <td>26,07</td>\n",
              "      <td>9,87</td>\n",
              "      <td>64,06</td>\n",
              "      <td>3</td>\n",
              "      <td>10,06</td>\n",
              "      <td>9,72</td>\n",
              "      <td>0,04</td>\n",
              "      <td>0,295</td>\n",
              "      <td>0,665</td>\n",
              "    </tr>\n",
              "    <tr>\n",
              "      <th>3</th>\n",
              "      <td>Sudan</td>\n",
              "      <td>SUB-SAHARAN AFRICA</td>\n",
              "      <td>41236378</td>\n",
              "      <td>2505810</td>\n",
              "      <td>16,5</td>\n",
              "      <td>0,03</td>\n",
              "      <td>-0,02</td>\n",
              "      <td>62,5</td>\n",
              "      <td>1900</td>\n",
              "      <td>61,1</td>\n",
              "      <td>16,3</td>\n",
              "      <td>6,83</td>\n",
              "      <td>0,18</td>\n",
              "      <td>92,99</td>\n",
              "      <td>2</td>\n",
              "      <td>34,53</td>\n",
              "      <td>8,97</td>\n",
              "      <td>0,387</td>\n",
              "      <td>0,203</td>\n",
              "      <td>0,41</td>\n",
              "    </tr>\n",
              "    <tr>\n",
              "      <th>4</th>\n",
              "      <td>Colombia</td>\n",
              "      <td>LATIN AMER. &amp; CARIB</td>\n",
              "      <td>43593035</td>\n",
              "      <td>1138910</td>\n",
              "      <td>38,3</td>\n",
              "      <td>0,28</td>\n",
              "      <td>-0,31</td>\n",
              "      <td>20,97</td>\n",
              "      <td>6300</td>\n",
              "      <td>92,5</td>\n",
              "      <td>176,2</td>\n",
              "      <td>2,42</td>\n",
              "      <td>1,67</td>\n",
              "      <td>95,91</td>\n",
              "      <td>2</td>\n",
              "      <td>20,48</td>\n",
              "      <td>5,58</td>\n",
              "      <td>0,125</td>\n",
              "      <td>0,342</td>\n",
              "      <td>0,533</td>\n",
              "    </tr>\n",
              "    <tr>\n",
              "      <th>5</th>\n",
              "      <td>South Africa</td>\n",
              "      <td>SUB-SAHARAN AFRICA</td>\n",
              "      <td>44187637</td>\n",
              "      <td>1219912</td>\n",
              "      <td>36,2</td>\n",
              "      <td>0,23</td>\n",
              "      <td>-0,29</td>\n",
              "      <td>61,81</td>\n",
              "      <td>10700</td>\n",
              "      <td>86,4</td>\n",
              "      <td>107,0</td>\n",
              "      <td>12,08</td>\n",
              "      <td>0,79</td>\n",
              "      <td>87,13</td>\n",
              "      <td>1</td>\n",
              "      <td>18,2</td>\n",
              "      <td>22</td>\n",
              "      <td>0,025</td>\n",
              "      <td>0,303</td>\n",
              "      <td>0,671</td>\n",
              "    </tr>\n",
              "    <tr>\n",
              "      <th>6</th>\n",
              "      <td>Ukraine</td>\n",
              "      <td>C.W. OF IND. STATES</td>\n",
              "      <td>46710816</td>\n",
              "      <td>603700</td>\n",
              "      <td>77,4</td>\n",
              "      <td>0,46</td>\n",
              "      <td>-0,39</td>\n",
              "      <td>20,34</td>\n",
              "      <td>5400</td>\n",
              "      <td>99,7</td>\n",
              "      <td>259,9</td>\n",
              "      <td>56,21</td>\n",
              "      <td>1,61</td>\n",
              "      <td>42,18</td>\n",
              "      <td>3</td>\n",
              "      <td>8,82</td>\n",
              "      <td>14,39</td>\n",
              "      <td>0,187</td>\n",
              "      <td>0,452</td>\n",
              "      <td>0,361</td>\n",
              "    </tr>\n",
              "    <tr>\n",
              "      <th>7</th>\n",
              "      <td>Burma</td>\n",
              "      <td>ASIA (EX. NEAR EAST)</td>\n",
              "      <td>47382633</td>\n",
              "      <td>678500</td>\n",
              "      <td>69,8</td>\n",
              "      <td>0,28</td>\n",
              "      <td>-1,8</td>\n",
              "      <td>67,24</td>\n",
              "      <td>1800</td>\n",
              "      <td>85,3</td>\n",
              "      <td>10,1</td>\n",
              "      <td>15,19</td>\n",
              "      <td>0,97</td>\n",
              "      <td>83,84</td>\n",
              "      <td>2</td>\n",
              "      <td>17,91</td>\n",
              "      <td>9,83</td>\n",
              "      <td>0,564</td>\n",
              "      <td>0,082</td>\n",
              "      <td>0,353</td>\n",
              "    </tr>\n",
              "    <tr>\n",
              "      <th>8</th>\n",
              "      <td>Korea, South</td>\n",
              "      <td>ASIA (EX. NEAR EAST)</td>\n",
              "      <td>48846823</td>\n",
              "      <td>98480</td>\n",
              "      <td>496,0</td>\n",
              "      <td>2,45</td>\n",
              "      <td>0</td>\n",
              "      <td>7,05</td>\n",
              "      <td>17800</td>\n",
              "      <td>97,9</td>\n",
              "      <td>486,1</td>\n",
              "      <td>17,18</td>\n",
              "      <td>1,95</td>\n",
              "      <td>80,87</td>\n",
              "      <td>3</td>\n",
              "      <td>10</td>\n",
              "      <td>5,85</td>\n",
              "      <td>0,033</td>\n",
              "      <td>0,403</td>\n",
              "      <td>0,563</td>\n",
              "    </tr>\n",
              "    <tr>\n",
              "      <th>9</th>\n",
              "      <td>Italy</td>\n",
              "      <td>WESTERN EUROPE</td>\n",
              "      <td>58133509</td>\n",
              "      <td>301230</td>\n",
              "      <td>193,0</td>\n",
              "      <td>2,52</td>\n",
              "      <td>2,07</td>\n",
              "      <td>5,94</td>\n",
              "      <td>26700</td>\n",
              "      <td>98,6</td>\n",
              "      <td>430,9</td>\n",
              "      <td>27,79</td>\n",
              "      <td>9,53</td>\n",
              "      <td>62,68</td>\n",
              "      <td>None</td>\n",
              "      <td>8,72</td>\n",
              "      <td>10,4</td>\n",
              "      <td>0,021</td>\n",
              "      <td>0,291</td>\n",
              "      <td>0,688</td>\n",
              "    </tr>\n",
              "    <tr>\n",
              "      <th>10</th>\n",
              "      <td>United Kingdom</td>\n",
              "      <td>WESTERN EUROPE</td>\n",
              "      <td>60609153</td>\n",
              "      <td>244820</td>\n",
              "      <td>247,6</td>\n",
              "      <td>5,08</td>\n",
              "      <td>2,19</td>\n",
              "      <td>5,16</td>\n",
              "      <td>27700</td>\n",
              "      <td>99,0</td>\n",
              "      <td>543,5</td>\n",
              "      <td>23,46</td>\n",
              "      <td>0,21</td>\n",
              "      <td>76,33</td>\n",
              "      <td>3</td>\n",
              "      <td>10,71</td>\n",
              "      <td>10,13</td>\n",
              "      <td>0,005</td>\n",
              "      <td>0,237</td>\n",
              "      <td>0,758</td>\n",
              "    </tr>\n",
              "    <tr>\n",
              "      <th>11</th>\n",
              "      <td>France</td>\n",
              "      <td>WESTERN EUROPE</td>\n",
              "      <td>60876136</td>\n",
              "      <td>547030</td>\n",
              "      <td>111,3</td>\n",
              "      <td>0,63</td>\n",
              "      <td>0,66</td>\n",
              "      <td>4,26</td>\n",
              "      <td>27600</td>\n",
              "      <td>99,0</td>\n",
              "      <td>586,4</td>\n",
              "      <td>33,53</td>\n",
              "      <td>2,07</td>\n",
              "      <td>64,4</td>\n",
              "      <td>4</td>\n",
              "      <td>11,99</td>\n",
              "      <td>9,14</td>\n",
              "      <td>0,022</td>\n",
              "      <td>0,214</td>\n",
              "      <td>0,764</td>\n",
              "    </tr>\n",
              "    <tr>\n",
              "      <th>12</th>\n",
              "      <td>Congo, Dem. Rep.</td>\n",
              "      <td>SUB-SAHARAN AFRICA</td>\n",
              "      <td>62660551</td>\n",
              "      <td>2345410</td>\n",
              "      <td>26,7</td>\n",
              "      <td>0,00</td>\n",
              "      <td>0</td>\n",
              "      <td>94,69</td>\n",
              "      <td>700</td>\n",
              "      <td>65,5</td>\n",
              "      <td>0,2</td>\n",
              "      <td>2,96</td>\n",
              "      <td>0,52</td>\n",
              "      <td>96,52</td>\n",
              "      <td>2</td>\n",
              "      <td>43,69</td>\n",
              "      <td>13,27</td>\n",
              "      <td>0,55</td>\n",
              "      <td>0,11</td>\n",
              "      <td>0,34</td>\n",
              "    </tr>\n",
              "    <tr>\n",
              "      <th>13</th>\n",
              "      <td>Thailand</td>\n",
              "      <td>ASIA (EX. NEAR EAST)</td>\n",
              "      <td>64631595</td>\n",
              "      <td>514000</td>\n",
              "      <td>125,7</td>\n",
              "      <td>0,63</td>\n",
              "      <td>0</td>\n",
              "      <td>20,48</td>\n",
              "      <td>7400</td>\n",
              "      <td>92,6</td>\n",
              "      <td>108,9</td>\n",
              "      <td>29,36</td>\n",
              "      <td>6,46</td>\n",
              "      <td>64,18</td>\n",
              "      <td>2</td>\n",
              "      <td>13,87</td>\n",
              "      <td>7,04</td>\n",
              "      <td>0,099</td>\n",
              "      <td>0,441</td>\n",
              "      <td>0,46</td>\n",
              "    </tr>\n",
              "    <tr>\n",
              "      <th>14</th>\n",
              "      <td>Iran</td>\n",
              "      <td>ASIA (EX. NEAR EAST)</td>\n",
              "      <td>68688433</td>\n",
              "      <td>1648000</td>\n",
              "      <td>41,7</td>\n",
              "      <td>0,15</td>\n",
              "      <td>-0,84</td>\n",
              "      <td>41,58</td>\n",
              "      <td>7000</td>\n",
              "      <td>79,4</td>\n",
              "      <td>276,4</td>\n",
              "      <td>8,72</td>\n",
              "      <td>1,39</td>\n",
              "      <td>89,89</td>\n",
              "      <td>1</td>\n",
              "      <td>17</td>\n",
              "      <td>5,55</td>\n",
              "      <td>0,116</td>\n",
              "      <td>0,424</td>\n",
              "      <td>0,46</td>\n",
              "    </tr>\n",
              "    <tr>\n",
              "      <th>15</th>\n",
              "      <td>Turkey</td>\n",
              "      <td>NEAR EAST</td>\n",
              "      <td>70413958</td>\n",
              "      <td>780580</td>\n",
              "      <td>90,2</td>\n",
              "      <td>0,92</td>\n",
              "      <td>0</td>\n",
              "      <td>41,04</td>\n",
              "      <td>6700</td>\n",
              "      <td>86,5</td>\n",
              "      <td>269,5</td>\n",
              "      <td>30,93</td>\n",
              "      <td>3,31</td>\n",
              "      <td>65,76</td>\n",
              "      <td>3</td>\n",
              "      <td>16,62</td>\n",
              "      <td>5,97</td>\n",
              "      <td>0,117</td>\n",
              "      <td>0,298</td>\n",
              "      <td>0,585</td>\n",
              "    </tr>\n",
              "    <tr>\n",
              "      <th>16</th>\n",
              "      <td>Ethiopia</td>\n",
              "      <td>SUB-SAHARAN AFRICA</td>\n",
              "      <td>74777981</td>\n",
              "      <td>1127127</td>\n",
              "      <td>66,3</td>\n",
              "      <td>0,00</td>\n",
              "      <td>0</td>\n",
              "      <td>95,32</td>\n",
              "      <td>700</td>\n",
              "      <td>42,7</td>\n",
              "      <td>8,2</td>\n",
              "      <td>10,71</td>\n",
              "      <td>0,75</td>\n",
              "      <td>88,54</td>\n",
              "      <td>2</td>\n",
              "      <td>37,98</td>\n",
              "      <td>14,86</td>\n",
              "      <td>0,475</td>\n",
              "      <td>0,099</td>\n",
              "      <td>0,426</td>\n",
              "    </tr>\n",
              "    <tr>\n",
              "      <th>17</th>\n",
              "      <td>Egypt</td>\n",
              "      <td>NORTHERN AFRICA</td>\n",
              "      <td>78887007</td>\n",
              "      <td>1001450</td>\n",
              "      <td>78,8</td>\n",
              "      <td>0,24</td>\n",
              "      <td>-0,22</td>\n",
              "      <td>32,59</td>\n",
              "      <td>4000</td>\n",
              "      <td>57,7</td>\n",
              "      <td>131,8</td>\n",
              "      <td>2,87</td>\n",
              "      <td>0,48</td>\n",
              "      <td>96,65</td>\n",
              "      <td>1</td>\n",
              "      <td>22,94</td>\n",
              "      <td>5,23</td>\n",
              "      <td>0,149</td>\n",
              "      <td>0,357</td>\n",
              "      <td>0,493</td>\n",
              "    </tr>\n",
              "    <tr>\n",
              "      <th>18</th>\n",
              "      <td>Germany</td>\n",
              "      <td>WESTERN EUROPE</td>\n",
              "      <td>82422299</td>\n",
              "      <td>357021</td>\n",
              "      <td>230,9</td>\n",
              "      <td>0,67</td>\n",
              "      <td>2,18</td>\n",
              "      <td>4,16</td>\n",
              "      <td>27600</td>\n",
              "      <td>99,0</td>\n",
              "      <td>667,9</td>\n",
              "      <td>33,85</td>\n",
              "      <td>0,59</td>\n",
              "      <td>65,56</td>\n",
              "      <td>3</td>\n",
              "      <td>8,25</td>\n",
              "      <td>10,62</td>\n",
              "      <td>0,009</td>\n",
              "      <td>0,296</td>\n",
              "      <td>0,695</td>\n",
              "    </tr>\n",
              "    <tr>\n",
              "      <th>19</th>\n",
              "      <td>Vietnam</td>\n",
              "      <td>ASIA (EX. NEAR EAST)</td>\n",
              "      <td>84402966</td>\n",
              "      <td>329560</td>\n",
              "      <td>256,1</td>\n",
              "      <td>1,05</td>\n",
              "      <td>-0,45</td>\n",
              "      <td>25,95</td>\n",
              "      <td>2500</td>\n",
              "      <td>90,3</td>\n",
              "      <td>187,7</td>\n",
              "      <td>19,97</td>\n",
              "      <td>5,95</td>\n",
              "      <td>74,08</td>\n",
              "      <td>2</td>\n",
              "      <td>16,86</td>\n",
              "      <td>6,22</td>\n",
              "      <td>0,209</td>\n",
              "      <td>0,41</td>\n",
              "      <td>0,381</td>\n",
              "    </tr>\n",
              "    <tr>\n",
              "      <th>20</th>\n",
              "      <td>Philippines</td>\n",
              "      <td>ASIA (EX. NEAR EAST)</td>\n",
              "      <td>89468677</td>\n",
              "      <td>300000</td>\n",
              "      <td>298,2</td>\n",
              "      <td>12,10</td>\n",
              "      <td>-1,5</td>\n",
              "      <td>23,51</td>\n",
              "      <td>4600</td>\n",
              "      <td>92,6</td>\n",
              "      <td>38,4</td>\n",
              "      <td>18,95</td>\n",
              "      <td>16,77</td>\n",
              "      <td>64,28</td>\n",
              "      <td>2</td>\n",
              "      <td>24,89</td>\n",
              "      <td>5,41</td>\n",
              "      <td>0,144</td>\n",
              "      <td>0,326</td>\n",
              "      <td>0,53</td>\n",
              "    </tr>\n",
              "    <tr>\n",
              "      <th>21</th>\n",
              "      <td>Mexico</td>\n",
              "      <td>LATIN AMER. &amp; CARIB</td>\n",
              "      <td>107449525</td>\n",
              "      <td>1972550</td>\n",
              "      <td>54,5</td>\n",
              "      <td>0,47</td>\n",
              "      <td>-4,87</td>\n",
              "      <td>20,91</td>\n",
              "      <td>9000</td>\n",
              "      <td>92,2</td>\n",
              "      <td>181,6</td>\n",
              "      <td>12,99</td>\n",
              "      <td>1,31</td>\n",
              "      <td>85,7</td>\n",
              "      <td>1,5</td>\n",
              "      <td>20,69</td>\n",
              "      <td>4,74</td>\n",
              "      <td>0,038</td>\n",
              "      <td>0,259</td>\n",
              "      <td>0,702</td>\n",
              "    </tr>\n",
              "    <tr>\n",
              "      <th>22</th>\n",
              "      <td>Japan</td>\n",
              "      <td>ASIA (EX. NEAR EAST)</td>\n",
              "      <td>127463611</td>\n",
              "      <td>377835</td>\n",
              "      <td>337,4</td>\n",
              "      <td>7,87</td>\n",
              "      <td>0</td>\n",
              "      <td>3,26</td>\n",
              "      <td>28200</td>\n",
              "      <td>99,0</td>\n",
              "      <td>461,2</td>\n",
              "      <td>12,19</td>\n",
              "      <td>0,96</td>\n",
              "      <td>86,85</td>\n",
              "      <td>3</td>\n",
              "      <td>9,37</td>\n",
              "      <td>9,16</td>\n",
              "      <td>0,017</td>\n",
              "      <td>0,258</td>\n",
              "      <td>0,725</td>\n",
              "    </tr>\n",
              "    <tr>\n",
              "      <th>23</th>\n",
              "      <td>Nigeria</td>\n",
              "      <td>SUB-SAHARAN AFRICA</td>\n",
              "      <td>131859731</td>\n",
              "      <td>923768</td>\n",
              "      <td>142,7</td>\n",
              "      <td>0,09</td>\n",
              "      <td>0,26</td>\n",
              "      <td>98,8</td>\n",
              "      <td>900</td>\n",
              "      <td>68,0</td>\n",
              "      <td>9,3</td>\n",
              "      <td>31,29</td>\n",
              "      <td>2,96</td>\n",
              "      <td>65,75</td>\n",
              "      <td>1,5</td>\n",
              "      <td>40,43</td>\n",
              "      <td>16,94</td>\n",
              "      <td>0,269</td>\n",
              "      <td>0,487</td>\n",
              "      <td>0,244</td>\n",
              "    </tr>\n",
              "    <tr>\n",
              "      <th>24</th>\n",
              "      <td>Russia</td>\n",
              "      <td>C.W. OF IND. STATES</td>\n",
              "      <td>142893540</td>\n",
              "      <td>17075200</td>\n",
              "      <td>8,4</td>\n",
              "      <td>0,22</td>\n",
              "      <td>1,02</td>\n",
              "      <td>15,39</td>\n",
              "      <td>8900</td>\n",
              "      <td>99,6</td>\n",
              "      <td>280,6</td>\n",
              "      <td>7,33</td>\n",
              "      <td>0,11</td>\n",
              "      <td>92,56</td>\n",
              "      <td>None</td>\n",
              "      <td>9,95</td>\n",
              "      <td>14,65</td>\n",
              "      <td>0,054</td>\n",
              "      <td>0,371</td>\n",
              "      <td>0,575</td>\n",
              "    </tr>\n",
              "    <tr>\n",
              "      <th>25</th>\n",
              "      <td>Bangladesh</td>\n",
              "      <td>ASIA (EX. NEAR EAST)</td>\n",
              "      <td>147365352</td>\n",
              "      <td>144000</td>\n",
              "      <td>1023,4</td>\n",
              "      <td>0,40</td>\n",
              "      <td>-0,71</td>\n",
              "      <td>62,6</td>\n",
              "      <td>1900</td>\n",
              "      <td>43,1</td>\n",
              "      <td>7,3</td>\n",
              "      <td>62,11</td>\n",
              "      <td>3,07</td>\n",
              "      <td>34,82</td>\n",
              "      <td>2</td>\n",
              "      <td>29,8</td>\n",
              "      <td>8,27</td>\n",
              "      <td>0,199</td>\n",
              "      <td>0,198</td>\n",
              "      <td>0,603</td>\n",
              "    </tr>\n",
              "    <tr>\n",
              "      <th>26</th>\n",
              "      <td>Pakistan</td>\n",
              "      <td>ASIA (EX. NEAR EAST)</td>\n",
              "      <td>165803560</td>\n",
              "      <td>803940</td>\n",
              "      <td>206,2</td>\n",
              "      <td>0,13</td>\n",
              "      <td>-2,77</td>\n",
              "      <td>72,44</td>\n",
              "      <td>2100</td>\n",
              "      <td>45,7</td>\n",
              "      <td>31,8</td>\n",
              "      <td>27,87</td>\n",
              "      <td>0,87</td>\n",
              "      <td>71,26</td>\n",
              "      <td>1</td>\n",
              "      <td>29,74</td>\n",
              "      <td>8,23</td>\n",
              "      <td>0,216</td>\n",
              "      <td>0,251</td>\n",
              "      <td>0,533</td>\n",
              "    </tr>\n",
              "    <tr>\n",
              "      <th>27</th>\n",
              "      <td>Brazil</td>\n",
              "      <td>LATIN AMER. &amp; CARIB</td>\n",
              "      <td>188078227</td>\n",
              "      <td>8511965</td>\n",
              "      <td>22,1</td>\n",
              "      <td>0,09</td>\n",
              "      <td>-0,03</td>\n",
              "      <td>29,61</td>\n",
              "      <td>7600</td>\n",
              "      <td>86,4</td>\n",
              "      <td>225,3</td>\n",
              "      <td>6,96</td>\n",
              "      <td>0,9</td>\n",
              "      <td>92,15</td>\n",
              "      <td>2</td>\n",
              "      <td>16,56</td>\n",
              "      <td>6,17</td>\n",
              "      <td>0,084</td>\n",
              "      <td>0,4</td>\n",
              "      <td>0,516</td>\n",
              "    </tr>\n",
              "    <tr>\n",
              "      <th>28</th>\n",
              "      <td>Indonesia</td>\n",
              "      <td>ASIA (EX. NEAR EAST)</td>\n",
              "      <td>245452739</td>\n",
              "      <td>1919440</td>\n",
              "      <td>127,9</td>\n",
              "      <td>2,85</td>\n",
              "      <td>0</td>\n",
              "      <td>35,6</td>\n",
              "      <td>3200</td>\n",
              "      <td>87,9</td>\n",
              "      <td>52,0</td>\n",
              "      <td>11,32</td>\n",
              "      <td>7,23</td>\n",
              "      <td>81,45</td>\n",
              "      <td>2</td>\n",
              "      <td>20,34</td>\n",
              "      <td>6,25</td>\n",
              "      <td>0,134</td>\n",
              "      <td>0,458</td>\n",
              "      <td>0,408</td>\n",
              "    </tr>\n",
              "    <tr>\n",
              "      <th>29</th>\n",
              "      <td>United States</td>\n",
              "      <td>NORTHERN AMERICA</td>\n",
              "      <td>298444215</td>\n",
              "      <td>9631420</td>\n",
              "      <td>31,0</td>\n",
              "      <td>0,21</td>\n",
              "      <td>3,41</td>\n",
              "      <td>6,5</td>\n",
              "      <td>37800</td>\n",
              "      <td>97,0</td>\n",
              "      <td>898,0</td>\n",
              "      <td>19,13</td>\n",
              "      <td>0,22</td>\n",
              "      <td>80,65</td>\n",
              "      <td>3</td>\n",
              "      <td>14,14</td>\n",
              "      <td>8,26</td>\n",
              "      <td>0,01</td>\n",
              "      <td>0,204</td>\n",
              "      <td>0,787</td>\n",
              "    </tr>\n",
              "    <tr>\n",
              "      <th>30</th>\n",
              "      <td>India</td>\n",
              "      <td>ASIA (EX. NEAR EAST)</td>\n",
              "      <td>1095351995</td>\n",
              "      <td>3287590</td>\n",
              "      <td>333,2</td>\n",
              "      <td>0,21</td>\n",
              "      <td>-0,07</td>\n",
              "      <td>56,29</td>\n",
              "      <td>2900</td>\n",
              "      <td>59,5</td>\n",
              "      <td>45,4</td>\n",
              "      <td>54,4</td>\n",
              "      <td>2,74</td>\n",
              "      <td>42,86</td>\n",
              "      <td>2,5</td>\n",
              "      <td>22,01</td>\n",
              "      <td>8,18</td>\n",
              "      <td>0,186</td>\n",
              "      <td>0,276</td>\n",
              "      <td>0,538</td>\n",
              "    </tr>\n",
              "    <tr>\n",
              "      <th>31</th>\n",
              "      <td>China</td>\n",
              "      <td>ASIA (EX. NEAR EAST)</td>\n",
              "      <td>1313973713</td>\n",
              "      <td>9596960</td>\n",
              "      <td>136,9</td>\n",
              "      <td>0,15</td>\n",
              "      <td>-0,4</td>\n",
              "      <td>24,18</td>\n",
              "      <td>5000</td>\n",
              "      <td>90,9</td>\n",
              "      <td>266,7</td>\n",
              "      <td>15,4</td>\n",
              "      <td>1,25</td>\n",
              "      <td>83,35</td>\n",
              "      <td>1,5</td>\n",
              "      <td>13,25</td>\n",
              "      <td>6,97</td>\n",
              "      <td>0,125</td>\n",
              "      <td>0,473</td>\n",
              "      <td>0,403</td>\n",
              "    </tr>\n",
              "  </tbody>\n",
              "</table>\n",
              "</div>"
            ],
            "text/plain": [
              "              Country                               Region  ...  Industry  Service\n",
              "0             Poland   EASTERN EUROPE                       ...     0,311     0,64\n",
              "1          Argentina               LATIN AMER. & CARIB      ...     0,358    0,547\n",
              "2              Spain   WESTERN EUROPE                       ...     0,295    0,665\n",
              "3              Sudan   SUB-SAHARAN AFRICA                   ...     0,203     0,41\n",
              "4           Colombia               LATIN AMER. & CARIB      ...     0,342    0,533\n",
              "5       South Africa   SUB-SAHARAN AFRICA                   ...     0,303    0,671\n",
              "6            Ukraine                  C.W. OF IND. STATES   ...     0,452    0,361\n",
              "7              Burma         ASIA (EX. NEAR EAST)           ...     0,082    0,353\n",
              "8       Korea, South         ASIA (EX. NEAR EAST)           ...     0,403    0,563\n",
              "9              Italy   WESTERN EUROPE                       ...     0,291    0,688\n",
              "10    United Kingdom   WESTERN EUROPE                       ...     0,237    0,758\n",
              "11            France   WESTERN EUROPE                       ...     0,214    0,764\n",
              "12  Congo, Dem. Rep.   SUB-SAHARAN AFRICA                   ...      0,11     0,34\n",
              "13          Thailand         ASIA (EX. NEAR EAST)           ...     0,441     0,46\n",
              "14              Iran         ASIA (EX. NEAR EAST)           ...     0,424     0,46\n",
              "15            Turkey   NEAR EAST                            ...     0,298    0,585\n",
              "16          Ethiopia   SUB-SAHARAN AFRICA                   ...     0,099    0,426\n",
              "17             Egypt   NORTHERN AFRICA                      ...     0,357    0,493\n",
              "18           Germany   WESTERN EUROPE                       ...     0,296    0,695\n",
              "19           Vietnam         ASIA (EX. NEAR EAST)           ...      0,41    0,381\n",
              "20       Philippines         ASIA (EX. NEAR EAST)           ...     0,326     0,53\n",
              "21            Mexico               LATIN AMER. & CARIB      ...     0,259    0,702\n",
              "22             Japan         ASIA (EX. NEAR EAST)           ...     0,258    0,725\n",
              "23           Nigeria   SUB-SAHARAN AFRICA                   ...     0,487    0,244\n",
              "24            Russia                  C.W. OF IND. STATES   ...     0,371    0,575\n",
              "25        Bangladesh         ASIA (EX. NEAR EAST)           ...     0,198    0,603\n",
              "26          Pakistan         ASIA (EX. NEAR EAST)           ...     0,251    0,533\n",
              "27            Brazil               LATIN AMER. & CARIB      ...       0,4    0,516\n",
              "28         Indonesia         ASIA (EX. NEAR EAST)           ...     0,458    0,408\n",
              "29     United States   NORTHERN AMERICA                     ...     0,204    0,787\n",
              "30             India         ASIA (EX. NEAR EAST)           ...     0,276    0,538\n",
              "31             China         ASIA (EX. NEAR EAST)           ...     0,473    0,403\n",
              "\n",
              "[32 rows x 20 columns]"
            ]
          },
          "metadata": {},
          "execution_count": 34
        }
      ]
    },
    {
      "cell_type": "markdown",
      "metadata": {
        "id": "S0qRXu882Dm9"
      },
      "source": [
        "Select all the countries from Europe"
      ]
    },
    {
      "cell_type": "code",
      "metadata": {
        "colab": {
          "base_uri": "https://localhost:8080/"
        },
        "id": "T4LYY4w82Dm-",
        "outputId": "e62cc15b-affc-4c24-e76a-8405254ccdb4"
      },
      "source": [
        "countries.select(\"Country\", \"Population\").where(col(\"Region\").like(\"%EUROPE%\")).show()"
      ],
      "execution_count": 35,
      "outputs": [
        {
          "output_type": "stream",
          "name": "stdout",
          "text": [
            "+--------------------+----------+\n",
            "|             Country|Population|\n",
            "+--------------------+----------+\n",
            "|            Albania |   3581655|\n",
            "|            Andorra |     71201|\n",
            "|            Austria |   8192880|\n",
            "|            Belgium |  10379067|\n",
            "|Bosnia & Herzegov...|   4498976|\n",
            "|           Bulgaria |   7385367|\n",
            "|            Croatia |   4494749|\n",
            "|     Czech Republic |  10235455|\n",
            "|            Denmark |   5450661|\n",
            "|      Faroe Islands |     47246|\n",
            "|            Finland |   5231372|\n",
            "|             France |  60876136|\n",
            "|            Germany |  82422299|\n",
            "|          Gibraltar |     27928|\n",
            "|             Greece |  10688058|\n",
            "|           Guernsey |     65409|\n",
            "|            Hungary |   9981334|\n",
            "|            Iceland |    299388|\n",
            "|            Ireland |   4062235|\n",
            "|        Isle of Man |     75441|\n",
            "+--------------------+----------+\n",
            "only showing top 20 rows\n",
            "\n"
          ]
        }
      ]
    },
    {
      "cell_type": "markdown",
      "metadata": {
        "id": "xMNFSYts2Dm-"
      },
      "source": [
        "Conditions in `where` clause can contain logical expressions."
      ]
    },
    {
      "cell_type": "code",
      "metadata": {
        "colab": {
          "base_uri": "https://localhost:8080/"
        },
        "id": "PNSidFrl2Dm-",
        "outputId": "68dd8d49-24ab-4daa-a9eb-2093a3d7d0e0"
      },
      "source": [
        "countries.select(\"Country\", \"Population\")\\\n",
        ".where((col(\"Region\").like(\"%EUROPE%\")) & (col(\"Population\")> 10000000)).show()"
      ],
      "execution_count": 36,
      "outputs": [
        {
          "output_type": "stream",
          "name": "stdout",
          "text": [
            "+---------------+----------+\n",
            "|        Country|Population|\n",
            "+---------------+----------+\n",
            "|       Belgium |  10379067|\n",
            "|Czech Republic |  10235455|\n",
            "|        France |  60876136|\n",
            "|       Germany |  82422299|\n",
            "|        Greece |  10688058|\n",
            "|         Italy |  58133509|\n",
            "|   Netherlands |  16491461|\n",
            "|        Poland |  38536869|\n",
            "|      Portugal |  10605870|\n",
            "|       Romania |  22303552|\n",
            "|         Spain |  40397842|\n",
            "|United Kingdom |  60609153|\n",
            "+---------------+----------+\n",
            "\n"
          ]
        }
      ]
    },
    {
      "cell_type": "markdown",
      "metadata": {
        "id": "WIvWfIhe2Dm_"
      },
      "source": [
        "### Aggregation\n",
        "\n",
        "We can run aggregations with predefined functions (faster!):"
      ]
    },
    {
      "cell_type": "code",
      "metadata": {
        "id": "BJ1yAElP2Dm_"
      },
      "source": [
        "from pyspark.sql.functions import sum"
      ],
      "execution_count": 37,
      "outputs": []
    },
    {
      "cell_type": "code",
      "metadata": {
        "id": "6baKZGQ82Dm_"
      },
      "source": [
        "pd_countries = countries.select(\"Region\", \"Population\").groupBy(\"Region\").agg(sum(\"Population\")).toPandas()"
      ],
      "execution_count": 38,
      "outputs": []
    },
    {
      "cell_type": "code",
      "metadata": {
        "colab": {
          "base_uri": "https://localhost:8080/",
          "height": 394
        },
        "id": "faF2wIvW2DnA",
        "outputId": "c5556c7b-dfff-49a7-ca17-86462a1d3ec8"
      },
      "source": [
        "pd_countries"
      ],
      "execution_count": 39,
      "outputs": [
        {
          "output_type": "execute_result",
          "data": {
            "text/html": [
              "<div>\n",
              "<style scoped>\n",
              "    .dataframe tbody tr th:only-of-type {\n",
              "        vertical-align: middle;\n",
              "    }\n",
              "\n",
              "    .dataframe tbody tr th {\n",
              "        vertical-align: top;\n",
              "    }\n",
              "\n",
              "    .dataframe thead th {\n",
              "        text-align: right;\n",
              "    }\n",
              "</style>\n",
              "<table border=\"1\" class=\"dataframe\">\n",
              "  <thead>\n",
              "    <tr style=\"text-align: right;\">\n",
              "      <th></th>\n",
              "      <th>Region</th>\n",
              "      <th>sum(Population)</th>\n",
              "    </tr>\n",
              "  </thead>\n",
              "  <tbody>\n",
              "    <tr>\n",
              "      <th>0</th>\n",
              "      <td>BALTICS</td>\n",
              "      <td>7184974</td>\n",
              "    </tr>\n",
              "    <tr>\n",
              "      <th>1</th>\n",
              "      <td>C.W. OF IND. STATES</td>\n",
              "      <td>280081548</td>\n",
              "    </tr>\n",
              "    <tr>\n",
              "      <th>2</th>\n",
              "      <td>ASIA (EX. NEAR EAST)</td>\n",
              "      <td>3687982236</td>\n",
              "    </tr>\n",
              "    <tr>\n",
              "      <th>3</th>\n",
              "      <td>WESTERN EUROPE</td>\n",
              "      <td>396339998</td>\n",
              "    </tr>\n",
              "    <tr>\n",
              "      <th>4</th>\n",
              "      <td>NORTHERN AMERICA</td>\n",
              "      <td>331672307</td>\n",
              "    </tr>\n",
              "    <tr>\n",
              "      <th>5</th>\n",
              "      <td>NEAR EAST</td>\n",
              "      <td>195068377</td>\n",
              "    </tr>\n",
              "    <tr>\n",
              "      <th>6</th>\n",
              "      <td>EASTERN EUROPE</td>\n",
              "      <td>119914717</td>\n",
              "    </tr>\n",
              "    <tr>\n",
              "      <th>7</th>\n",
              "      <td>OCEANIA</td>\n",
              "      <td>33131662</td>\n",
              "    </tr>\n",
              "    <tr>\n",
              "      <th>8</th>\n",
              "      <td>SUB-SAHARAN AFRICA</td>\n",
              "      <td>749437000</td>\n",
              "    </tr>\n",
              "    <tr>\n",
              "      <th>9</th>\n",
              "      <td>NORTHERN AFRICA</td>\n",
              "      <td>161407133</td>\n",
              "    </tr>\n",
              "    <tr>\n",
              "      <th>10</th>\n",
              "      <td>LATIN AMER. &amp; CARIB</td>\n",
              "      <td>561824599</td>\n",
              "    </tr>\n",
              "  </tbody>\n",
              "</table>\n",
              "</div>"
            ],
            "text/plain": [
              "                                 Region  sum(Population)\n",
              "0   BALTICS                                      7184974\n",
              "1                  C.W. OF IND. STATES         280081548\n",
              "2         ASIA (EX. NEAR EAST)                3687982236\n",
              "3   WESTERN EUROPE                             396339998\n",
              "4   NORTHERN AMERICA                           331672307\n",
              "5   NEAR EAST                                  195068377\n",
              "6   EASTERN EUROPE                             119914717\n",
              "7   OCEANIA                                     33131662\n",
              "8   SUB-SAHARAN AFRICA                         749437000\n",
              "9   NORTHERN AFRICA                            161407133\n",
              "10              LATIN AMER. & CARIB            561824599"
            ]
          },
          "metadata": {},
          "execution_count": 39
        }
      ]
    },
    {
      "cell_type": "markdown",
      "metadata": {
        "id": "Aw4ZFd3K2DnA"
      },
      "source": [
        "We can make the column name look better, by using `alias`:"
      ]
    },
    {
      "cell_type": "code",
      "metadata": {
        "id": "kxsGB2Lc2DnA"
      },
      "source": [
        "pd_countries = countries.select(\"Region\", \"Population\").groupBy(\"Region\").agg(sum(\"Population\").alias('Total')).toPandas()"
      ],
      "execution_count": 40,
      "outputs": []
    },
    {
      "cell_type": "code",
      "metadata": {
        "colab": {
          "base_uri": "https://localhost:8080/",
          "height": 394
        },
        "id": "KdLI1kJ62DnB",
        "outputId": "04bb2a8c-3482-4567-b045-26525471e9f6"
      },
      "source": [
        "pd_countries"
      ],
      "execution_count": 41,
      "outputs": [
        {
          "output_type": "execute_result",
          "data": {
            "text/html": [
              "<div>\n",
              "<style scoped>\n",
              "    .dataframe tbody tr th:only-of-type {\n",
              "        vertical-align: middle;\n",
              "    }\n",
              "\n",
              "    .dataframe tbody tr th {\n",
              "        vertical-align: top;\n",
              "    }\n",
              "\n",
              "    .dataframe thead th {\n",
              "        text-align: right;\n",
              "    }\n",
              "</style>\n",
              "<table border=\"1\" class=\"dataframe\">\n",
              "  <thead>\n",
              "    <tr style=\"text-align: right;\">\n",
              "      <th></th>\n",
              "      <th>Region</th>\n",
              "      <th>Total</th>\n",
              "    </tr>\n",
              "  </thead>\n",
              "  <tbody>\n",
              "    <tr>\n",
              "      <th>0</th>\n",
              "      <td>BALTICS</td>\n",
              "      <td>7184974</td>\n",
              "    </tr>\n",
              "    <tr>\n",
              "      <th>1</th>\n",
              "      <td>C.W. OF IND. STATES</td>\n",
              "      <td>280081548</td>\n",
              "    </tr>\n",
              "    <tr>\n",
              "      <th>2</th>\n",
              "      <td>ASIA (EX. NEAR EAST)</td>\n",
              "      <td>3687982236</td>\n",
              "    </tr>\n",
              "    <tr>\n",
              "      <th>3</th>\n",
              "      <td>WESTERN EUROPE</td>\n",
              "      <td>396339998</td>\n",
              "    </tr>\n",
              "    <tr>\n",
              "      <th>4</th>\n",
              "      <td>NORTHERN AMERICA</td>\n",
              "      <td>331672307</td>\n",
              "    </tr>\n",
              "    <tr>\n",
              "      <th>5</th>\n",
              "      <td>NEAR EAST</td>\n",
              "      <td>195068377</td>\n",
              "    </tr>\n",
              "    <tr>\n",
              "      <th>6</th>\n",
              "      <td>EASTERN EUROPE</td>\n",
              "      <td>119914717</td>\n",
              "    </tr>\n",
              "    <tr>\n",
              "      <th>7</th>\n",
              "      <td>OCEANIA</td>\n",
              "      <td>33131662</td>\n",
              "    </tr>\n",
              "    <tr>\n",
              "      <th>8</th>\n",
              "      <td>SUB-SAHARAN AFRICA</td>\n",
              "      <td>749437000</td>\n",
              "    </tr>\n",
              "    <tr>\n",
              "      <th>9</th>\n",
              "      <td>NORTHERN AFRICA</td>\n",
              "      <td>161407133</td>\n",
              "    </tr>\n",
              "    <tr>\n",
              "      <th>10</th>\n",
              "      <td>LATIN AMER. &amp; CARIB</td>\n",
              "      <td>561824599</td>\n",
              "    </tr>\n",
              "  </tbody>\n",
              "</table>\n",
              "</div>"
            ],
            "text/plain": [
              "                                 Region       Total\n",
              "0   BALTICS                                 7184974\n",
              "1                  C.W. OF IND. STATES    280081548\n",
              "2         ASIA (EX. NEAR EAST)           3687982236\n",
              "3   WESTERN EUROPE                        396339998\n",
              "4   NORTHERN AMERICA                      331672307\n",
              "5   NEAR EAST                             195068377\n",
              "6   EASTERN EUROPE                        119914717\n",
              "7   OCEANIA                                33131662\n",
              "8   SUB-SAHARAN AFRICA                    749437000\n",
              "9   NORTHERN AFRICA                       161407133\n",
              "10              LATIN AMER. & CARIB       561824599"
            ]
          },
          "metadata": {},
          "execution_count": 41
        }
      ]
    },
    {
      "cell_type": "markdown",
      "metadata": {
        "id": "U-4uh4Ai2DnB"
      },
      "source": [
        "### Plot examples \n",
        "Pandas DataFrames are useful for plotting using MatPlotLib:"
      ]
    },
    {
      "cell_type": "code",
      "metadata": {
        "colab": {
          "base_uri": "https://localhost:8080/",
          "height": 575
        },
        "id": "YjoYs_tz2DnB",
        "outputId": "2963d259-f765-482b-980c-564826d335ca"
      },
      "source": [
        "pd_countries.plot(x='Region', y='Total',kind='bar', figsize=(10, 6))"
      ],
      "execution_count": 42,
      "outputs": [
        {
          "output_type": "execute_result",
          "data": {
            "text/plain": [
              "<matplotlib.axes._subplots.AxesSubplot at 0x7f295a425050>"
            ]
          },
          "metadata": {},
          "execution_count": 42
        },
        {
          "output_type": "display_data",
          "data": {
            "image/png": "[encoded data removed]",
            "text/plain": [
              "<Figure size 720x432 with 1 Axes>"
            ]
          },
          "metadata": {}
        }
      ]
    },
    {
      "cell_type": "markdown",
      "metadata": {
        "id": "hCKOcdZY2DnC"
      },
      "source": [
        "## User defined functions for data manipulation\n",
        "Our `countries` DataFrame has some problems:\n",
        " * missing values\n",
        " * some numbers use comma instead of point as floating point separator (e.g. Literacy  = 99,4)\n",
        " \n",
        "We can clean the data using User Defined Functions (UDF)"
      ]
    },
    {
      "cell_type": "code",
      "metadata": {
        "id": "RofVyBIq2DnC"
      },
      "source": [
        "from pyspark.sql.types import FloatType\n",
        "from pyspark.sql.functions import udf"
      ],
      "execution_count": 43,
      "outputs": []
    },
    {
      "cell_type": "markdown",
      "metadata": {
        "id": "XlKLki2c2DnC"
      },
      "source": [
        "Define a Python function which coverts numbers with commas to `float`"
      ]
    },
    {
      "cell_type": "code",
      "metadata": {
        "id": "NQtrhgcD2DnD"
      },
      "source": [
        "def to_float (s) :\n",
        "   return float(s.replace(',','.'))"
      ],
      "execution_count": 44,
      "outputs": []
    },
    {
      "cell_type": "markdown",
      "metadata": {
        "id": "ueJtLUq52DnD"
      },
      "source": [
        "Test that it works:"
      ]
    },
    {
      "cell_type": "code",
      "metadata": {
        "colab": {
          "base_uri": "https://localhost:8080/"
        },
        "id": "4vdpgDqX2DnE",
        "outputId": "f8bcebf9-ef5d-4f4e-c568-3b2c53c2ae53"
      },
      "source": [
        "to_float('0,99')"
      ],
      "execution_count": 45,
      "outputs": [
        {
          "output_type": "execute_result",
          "data": {
            "text/plain": [
              "0.99"
            ]
          },
          "metadata": {},
          "execution_count": 45
        }
      ]
    },
    {
      "cell_type": "markdown",
      "metadata": {
        "id": "xSWlwt7N2DnF"
      },
      "source": [
        "Now define a Spark UDF:"
      ]
    },
    {
      "cell_type": "code",
      "metadata": {
        "id": "krrrAhD62DnF"
      },
      "source": [
        "float_udf = udf(to_float , FloatType())"
      ],
      "execution_count": 46,
      "outputs": []
    },
    {
      "cell_type": "markdown",
      "metadata": {
        "id": "9cRDk6LE2DnG"
      },
      "source": [
        "Test it on a Data Frame"
      ]
    },
    {
      "cell_type": "code",
      "metadata": {
        "colab": {
          "base_uri": "https://localhost:8080/"
        },
        "id": "i3tmiaDn2DnG",
        "outputId": "00d0d84c-0083-4b73-8a7a-813b8e9f8237"
      },
      "source": [
        "countries.withColumn(\"Literacy\", float_udf(\"Literacy (%)\"))"
      ],
      "execution_count": 47,
      "outputs": [
        {
          "output_type": "execute_result",
          "data": {
            "text/plain": [
              "DataFrame[Country: string, Region: string, Population: int, Area (sq. mi.): int, Pop. Density (per sq. mi.): string, Coastline (coast/area ratio): string, Net migration: string, Infant mortality (per 1000 births): string, GDP ($ per capita): int, Literacy (%): string, Phones (per 1000): string, Arable (%): string, Crops (%): string, Other (%): string, Climate: string, Birthrate: string, Deathrate: string, Agriculture: string, Industry: string, Service: string, Literacy: float]"
            ]
          },
          "metadata": {},
          "execution_count": 47
        }
      ]
    },
    {
      "cell_type": "markdown",
      "metadata": {
        "id": "G00LkV1c2DnG"
      },
      "source": [
        "OK, we can see that the `Literacy` is now `float`"
      ]
    },
    {
      "cell_type": "code",
      "metadata": {
        "colab": {
          "base_uri": "https://localhost:8080/"
        },
        "id": "hkrc4yra2DnH",
        "outputId": "9b24b22e-5335-456e-87fb-e2861dad8913"
      },
      "source": [
        "countries.show(50)"
      ],
      "execution_count": 48,
      "outputs": [
        {
          "output_type": "stream",
          "name": "stdout",
          "text": [
            "+--------------------+--------------------+----------+--------------+--------------------------+----------------------------+-------------+----------------------------------+------------------+------------+-----------------+----------+---------+---------+-------+---------+---------+-----------+--------+-------+\n",
            "|             Country|              Region|Population|Area (sq. mi.)|Pop. Density (per sq. mi.)|Coastline (coast/area ratio)|Net migration|Infant mortality (per 1000 births)|GDP ($ per capita)|Literacy (%)|Phones (per 1000)|Arable (%)|Crops (%)|Other (%)|Climate|Birthrate|Deathrate|Agriculture|Industry|Service|\n",
            "+--------------------+--------------------+----------+--------------+--------------------------+----------------------------+-------------+----------------------------------+------------------+------------+-----------------+----------+---------+---------+-------+---------+---------+-----------+--------+-------+\n",
            "|        Afghanistan |ASIA (EX. NEAR EA...|  31056997|        647500|                      48,0|                        0,00|        23,06|                            163,07|               700|        36,0|              3,2|     12,13|     0,22|    87,65|      1|     46,6|    20,34|       0,38|    0,24|   0,38|\n",
            "|            Albania |EASTERN EUROPE   ...|   3581655|         28748|                     124,6|                        1,26|        -4,93|                             21,52|              4500|        86,5|             71,2|     21,09|     4,42|    74,49|      3|    15,11|     5,22|      0,232|   0,188|  0,579|\n",
            "|            Algeria |NORTHERN AFRICA  ...|  32930091|       2381740|                      13,8|                        0,04|        -0,39|                                31|              6000|        70,0|             78,1|      3,22|     0,25|    96,53|      1|    17,14|     4,61|      0,101|     0,6|  0,298|\n",
            "|     American Samoa |OCEANIA          ...|     57794|           199|                     290,4|                       58,29|       -20,71|                              9,27|              8000|        97,0|            259,5|        10|       15|       75|      2|    22,46|     3,27|       null|    null|   null|\n",
            "|            Andorra |WESTERN EUROPE   ...|     71201|           468|                     152,1|                        0,00|          6,6|                              4,05|             19000|       100,0|            497,2|      2,22|        0|    97,78|      3|     8,71|     6,25|       null|    null|   null|\n",
            "|             Angola |SUB-SAHARAN AFRIC...|  12127071|       1246700|                       9,7|                        0,13|            0|                            191,19|              1900|        42,0|              7,8|      2,41|     0,24|    97,35|   null|    45,11|     24,2|      0,096|   0,658|  0,246|\n",
            "|           Anguilla |LATIN AMER. & CAR...|     13477|           102|                     132,1|                       59,80|        10,76|                             21,03|              8600|        95,0|            460,0|         0|        0|      100|      2|    14,17|     5,34|       0,04|    0,18|   0,78|\n",
            "|  Antigua & Barbuda |LATIN AMER. & CAR...|     69108|           443|                     156,0|                       34,54|        -6,15|                             19,46|             11000|        89,0|            549,9|     18,18|     4,55|    77,27|      2|    16,93|     5,37|      0,038|    0,22|  0,743|\n",
            "|          Argentina |LATIN AMER. & CAR...|  39921833|       2766890|                      14,4|                        0,18|         0,61|                             15,18|             11200|        97,1|            220,4|     12,31|     0,48|    87,21|      3|    16,73|     7,55|      0,095|   0,358|  0,547|\n",
            "|            Armenia |C.W. OF IND. STATES |   2976372|         29800|                      99,9|                        0,00|        -6,47|                             23,28|              3500|        98,6|            195,7|     17,55|      2,3|    80,15|      4|    12,07|     8,23|      0,239|   0,343|  0,418|\n",
            "|              Aruba |LATIN AMER. & CAR...|     71891|           193|                     372,5|                       35,49|            0|                              5,89|             28000|        97,0|            516,1|     10,53|        0|    89,47|      2|    11,03|     6,68|      0,004|   0,333|  0,663|\n",
            "|          Australia |OCEANIA          ...|  20264082|       7686850|                       2,6|                        0,34|         3,98|                              4,69|             29000|       100,0|            565,5|      6,55|     0,04|    93,41|      1|    12,14|     7,51|      0,038|   0,262|    0,7|\n",
            "|            Austria |WESTERN EUROPE   ...|   8192880|         83870|                      97,7|                        0,00|            2|                              4,66|             30000|        98,0|            452,2|     16,91|     0,86|    82,23|      3|     8,74|     9,76|      0,018|   0,304|  0,678|\n",
            "|         Azerbaijan |C.W. OF IND. STATES |   7961619|         86600|                      91,9|                        0,00|         -4,9|                             81,74|              3400|        97,0|            137,1|     19,63|     2,71|    77,66|      1|    20,74|     9,75|      0,141|   0,457|  0,402|\n",
            "|       Bahamas, The |LATIN AMER. & CAR...|    303770|         13940|                      21,8|                       25,41|         -2,2|                             25,21|             16700|        95,6|            460,6|       0,8|      0,4|     98,8|      2|    17,57|     9,05|       0,03|    0,07|    0,9|\n",
            "|            Bahrain |NEAR EAST        ...|    698585|           665|                    1050,5|                       24,21|         1,05|                             17,27|             16900|        89,1|            281,3|      2,82|     5,63|    91,55|      1|     17,8|     4,14|      0,005|   0,387|  0,608|\n",
            "|         Bangladesh |ASIA (EX. NEAR EA...| 147365352|        144000|                    1023,4|                        0,40|        -0,71|                              62,6|              1900|        43,1|              7,3|     62,11|     3,07|    34,82|      2|     29,8|     8,27|      0,199|   0,198|  0,603|\n",
            "|           Barbados |LATIN AMER. & CAR...|    279912|           431|                     649,5|                       22,51|        -0,31|                              12,5|             15700|        97,4|            481,9|     37,21|     2,33|    60,46|      2|    12,71|     8,67|       0,06|    0,16|   0,78|\n",
            "|            Belarus |C.W. OF IND. STATES |  10293011|        207600|                      49,6|                        0,00|         2,54|                             13,37|              6100|        99,6|            319,1|     29,55|      0,6|    69,85|      4|    11,16|    14,02|      0,093|   0,316|  0,591|\n",
            "|            Belgium |WESTERN EUROPE   ...|  10379067|         30528|                     340,0|                        0,22|         1,23|                              4,68|             29100|        98,0|            462,6|     23,28|      0,4|    76,32|      3|    10,38|    10,27|       0,01|    0,24|  0,749|\n",
            "|             Belize |LATIN AMER. & CAR...|    287730|         22966|                      12,5|                        1,68|            0|                             25,69|              4900|        94,1|            115,7|      2,85|     1,71|    95,44|      2|    28,84|     5,72|      0,142|   0,152|  0,612|\n",
            "|              Benin |SUB-SAHARAN AFRIC...|   7862944|        112620|                      69,8|                        0,11|            0|                                85|              1100|        40,9|              9,7|     18,08|      2,4|    79,52|      2|    38,85|    12,22|      0,316|   0,138|  0,546|\n",
            "|            Bermuda |NORTHERN AMERICA ...|     65773|            53|                    1241,0|                      194,34|         2,49|                              8,53|             36000|        98,0|            851,4|        20|        0|       80|      2|     11,4|     7,74|       0,01|     0,1|   0,89|\n",
            "|             Bhutan |ASIA (EX. NEAR EA...|   2279723|         47000|                      48,5|                        0,00|            0|                            100,44|              1300|        42,2|             14,3|      3,09|     0,43|    96,48|      2|    33,65|     12,7|      0,258|   0,379|  0,363|\n",
            "|            Bolivia |LATIN AMER. & CAR...|   8989046|       1098580|                       8,2|                        0,00|        -1,32|                             53,11|              2400|        87,2|             71,9|      2,67|     0,19|    97,14|    1,5|     23,3|     7,53|      0,128|   0,352|   0,52|\n",
            "|Bosnia & Herzegov...|EASTERN EUROPE   ...|   4498976|         51129|                      88,0|                        0,04|         0,31|                             21,05|              6100|        null|            215,4|      13,6|     2,96|    83,44|      4|     8,77|     8,27|      0,142|   0,308|   0,55|\n",
            "|           Botswana |SUB-SAHARAN AFRIC...|   1639833|        600370|                       2,7|                        0,00|            0|                             54,58|              9000|        79,8|             80,5|      0,65|     0,01|    99,34|      1|    23,08|     29,5|      0,024|   0,469|  0,507|\n",
            "|             Brazil |LATIN AMER. & CAR...| 188078227|       8511965|                      22,1|                        0,09|        -0,03|                             29,61|              7600|        86,4|            225,3|      6,96|      0,9|    92,15|      2|    16,56|     6,17|      0,084|     0,4|  0,516|\n",
            "| British Virgin Is. |LATIN AMER. & CAR...|     23098|           153|                     151,0|                       52,29|        10,01|                             18,05|             16000|        97,8|            506,5|        20|     6,67|    73,33|      2|    14,89|     4,42|      0,018|   0,062|   0,92|\n",
            "|             Brunei |ASIA (EX. NEAR EA...|    379444|          5770|                      65,8|                        2,79|         3,59|                             12,61|             18600|        93,9|            237,2|      0,57|     0,76|    98,67|      2|    18,79|     3,45|      0,036|   0,561|  0,403|\n",
            "|           Bulgaria |EASTERN EUROPE   ...|   7385367|        110910|                      66,6|                        0,32|        -4,58|                             20,55|              7600|        98,6|            336,3|     40,02|     1,92|    58,06|      3|     9,65|    14,27|      0,093|   0,304|  0,603|\n",
            "|       Burkina Faso |SUB-SAHARAN AFRIC...|  13902972|        274200|                      50,7|                        0,00|            0|                             97,57|              1100|        26,6|              7,0|     14,43|     0,19|    85,38|      2|    45,62|     15,6|      0,322|   0,196|  0,482|\n",
            "|              Burma |ASIA (EX. NEAR EA...|  47382633|        678500|                      69,8|                        0,28|         -1,8|                             67,24|              1800|        85,3|             10,1|     15,19|     0,97|    83,84|      2|    17,91|     9,83|      0,564|   0,082|  0,353|\n",
            "|            Burundi |SUB-SAHARAN AFRIC...|   8090068|         27830|                     290,7|                        0,00|        -0,06|                             69,29|               600|        51,6|              3,4|     35,05|    14,02|    50,93|      2|    42,22|    13,46|      0,463|   0,203|  0,334|\n",
            "|           Cambodia |ASIA (EX. NEAR EA...|  13881427|        181040|                      76,7|                        0,24|            0|                             71,48|              1900|        69,4|              2,6|     20,96|     0,61|    78,43|      2|     26,9|     9,06|       0,35|     0,3|   0,35|\n",
            "|           Cameroon |SUB-SAHARAN AFRIC...|  17340702|        475440|                      36,5|                        0,08|            0|                             68,26|              1800|        79,0|              5,7|     12,81|     2,58|    84,61|    1,5|    33,89|    13,47|      0,448|    0,17|  0,382|\n",
            "|             Canada |NORTHERN AMERICA ...|  33098932|       9984670|                       3,3|                        2,02|         5,96|                              4,75|             29800|        97,0|            552,2|      4,96|     0,02|    95,02|   null|    10,78|      7,8|      0,022|   0,294|  0,684|\n",
            "|         Cape Verde |SUB-SAHARAN AFRIC...|    420979|          4033|                     104,4|                       23,93|       -12,07|                             47,77|              1400|        76,6|            169,6|      9,68|      0,5|    89,82|      3|    24,87|     6,55|      0,121|   0,219|   0,66|\n",
            "|     Cayman Islands |LATIN AMER. & CAR...|     45436|           262|                     173,4|                       61,07|        18,75|                              8,19|             35000|        98,0|            836,3|      3,85|        0|    96,15|      2|    12,74|     4,89|      0,014|   0,032|  0,954|\n",
            "|Central African R...|SUB-SAHARAN AFRIC...|   4303356|        622984|                       6,9|                        0,00|            0|                                91|              1100|        51,0|              2,3|       3,1|     0,14|    96,76|      2|    33,91|    18,65|       0,55|     0,2|   0,25|\n",
            "|               Chad |SUB-SAHARAN AFRIC...|   9944201|       1284000|                       7,7|                        0,00|        -0,11|                             93,82|              1200|        47,5|              1,3|      2,86|     0,02|    97,12|      2|    45,73|    16,38|      0,335|   0,259|  0,406|\n",
            "|              Chile |LATIN AMER. & CAR...|  16134219|        756950|                      21,3|                        0,85|            0|                               8,8|              9900|        96,2|            213,0|      2,65|     0,42|    96,93|      3|    15,23|     5,81|       0,06|   0,493|  0,447|\n",
            "|              China |ASIA (EX. NEAR EA...|1313973713|       9596960|                     136,9|                        0,15|         -0,4|                             24,18|              5000|        90,9|            266,7|      15,4|     1,25|    83,35|    1,5|    13,25|     6,97|      0,125|   0,473|  0,403|\n",
            "|           Colombia |LATIN AMER. & CAR...|  43593035|       1138910|                      38,3|                        0,28|        -0,31|                             20,97|              6300|        92,5|            176,2|      2,42|     1,67|    95,91|      2|    20,48|     5,58|      0,125|   0,342|  0,533|\n",
            "|            Comoros |SUB-SAHARAN AFRIC...|    690948|          2170|                     318,4|                       15,67|            0|                             74,93|               700|        56,5|             24,5|     35,87|    23,32|    40,81|      2|    36,93|      8,2|        0,4|    0,04|   0,56|\n",
            "|   Congo, Dem. Rep. |SUB-SAHARAN AFRIC...|  62660551|       2345410|                      26,7|                        0,00|            0|                             94,69|               700|        65,5|              0,2|      2,96|     0,52|    96,52|      2|    43,69|    13,27|       0,55|    0,11|   0,34|\n",
            "|Congo, Repub. of ...|SUB-SAHARAN AFRIC...|   3702314|        342000|                      10,8|                        0,05|        -0,17|                             93,86|               700|        83,8|              3,7|      0,51|     0,13|    99,36|      2|    42,57|    12,93|      0,062|    0,57|  0,369|\n",
            "|       Cook Islands |OCEANIA          ...|     21388|           240|                      89,1|                       50,00|         null|                              null|              5000|        95,0|            289,9|     17,39|    13,04|    69,57|      2|       21|     null|      0,151|   0,096|  0,753|\n",
            "|         Costa Rica |LATIN AMER. & CAR...|   4075261|         51100|                      79,8|                        2,52|         0,51|                              9,95|              9100|        96,0|            340,7|      4,41|     5,88|    89,71|      2|    18,32|     4,36|      0,088|   0,299|  0,614|\n",
            "|      Cote d'Ivoire |SUB-SAHARAN AFRIC...|  17654843|        322460|                      54,8|                        0,16|        -0,07|                             90,83|              1400|        50,9|             14,6|      9,75|    13,84|    76,41|      2|    35,11|    14,84|      0,279|   0,171|   0,55|\n",
            "+--------------------+--------------------+----------+--------------+--------------------------+----------------------------+-------------+----------------------------------+------------------+------------+-----------------+----------+---------+---------+-------+---------+---------+-----------+--------+-------+\n",
            "only showing top 50 rows\n",
            "\n"
          ]
        }
      ]
    },
    {
      "cell_type": "code",
      "metadata": {
        "colab": {
          "base_uri": "https://localhost:8080/",
          "height": 306
        },
        "id": "f28tg4vZ2DnK",
        "outputId": "ddaaf20f-1618-4330-c792-212bf8fbe2cb"
      },
      "source": [
        "countries.where((col(\"Literacy\") < 50) & (col(\"GDP ($ per capita)\") > 700)).show()"
      ],
      "execution_count": 49,
      "outputs": [
        {
          "output_type": "error",
          "ename": "AnalysisException",
          "evalue": "ignored",
          "traceback": [
            "\u001b[0;31m---------------------------------------------------------------------------\u001b[0m",
            "\u001b[0;31mAnalysisException\u001b[0m                         Traceback (most recent call last)",
            "\u001b[0;32m<ipython-input-49-691580c0a6c2>\u001b[0m in \u001b[0;36m<module>\u001b[0;34m()\u001b[0m\n\u001b[0;32m----> 1\u001b[0;31m \u001b[0mcountries\u001b[0m\u001b[0;34m.\u001b[0m\u001b[0mwhere\u001b[0m\u001b[0;34m(\u001b[0m\u001b[0;34m(\u001b[0m\u001b[0mcol\u001b[0m\u001b[0;34m(\u001b[0m\u001b[0;34m\"Literacy\"\u001b[0m\u001b[0;34m)\u001b[0m \u001b[0;34m<\u001b[0m \u001b[0;36m50\u001b[0m\u001b[0;34m)\u001b[0m \u001b[0;34m&\u001b[0m \u001b[0;34m(\u001b[0m\u001b[0mcol\u001b[0m\u001b[0;34m(\u001b[0m\u001b[0;34m\"GDP ($ per capita)\"\u001b[0m\u001b[0;34m)\u001b[0m \u001b[0;34m>\u001b[0m \u001b[0;36m700\u001b[0m\u001b[0;34m)\u001b[0m\u001b[0;34m)\u001b[0m\u001b[0;34m.\u001b[0m\u001b[0mshow\u001b[0m\u001b[0;34m(\u001b[0m\u001b[0;34m)\u001b[0m\u001b[0;34m\u001b[0m\u001b[0;34m\u001b[0m\u001b[0m\n\u001b[0m",
            "\u001b[0;32m/content/spark-3.0.0-bin-hadoop3.2/python/pyspark/sql/dataframe.py\u001b[0m in \u001b[0;36mfilter\u001b[0;34m(self, condition)\u001b[0m\n\u001b[1;32m   1459\u001b[0m             \u001b[0mjdf\u001b[0m \u001b[0;34m=\u001b[0m \u001b[0mself\u001b[0m\u001b[0;34m.\u001b[0m\u001b[0m_jdf\u001b[0m\u001b[0;34m.\u001b[0m\u001b[0mfilter\u001b[0m\u001b[0;34m(\u001b[0m\u001b[0mcondition\u001b[0m\u001b[0;34m)\u001b[0m\u001b[0;34m\u001b[0m\u001b[0;34m\u001b[0m\u001b[0m\n\u001b[1;32m   1460\u001b[0m         \u001b[0;32melif\u001b[0m \u001b[0misinstance\u001b[0m\u001b[0;34m(\u001b[0m\u001b[0mcondition\u001b[0m\u001b[0;34m,\u001b[0m \u001b[0mColumn\u001b[0m\u001b[0;34m)\u001b[0m\u001b[0;34m:\u001b[0m\u001b[0;34m\u001b[0m\u001b[0;34m\u001b[0m\u001b[0m\n\u001b[0;32m-> 1461\u001b[0;31m             \u001b[0mjdf\u001b[0m \u001b[0;34m=\u001b[0m \u001b[0mself\u001b[0m\u001b[0;34m.\u001b[0m\u001b[0m_jdf\u001b[0m\u001b[0;34m.\u001b[0m\u001b[0mfilter\u001b[0m\u001b[0;34m(\u001b[0m\u001b[0mcondition\u001b[0m\u001b[0;34m.\u001b[0m\u001b[0m_jc\u001b[0m\u001b[0;34m)\u001b[0m\u001b[0;34m\u001b[0m\u001b[0;34m\u001b[0m\u001b[0m\n\u001b[0m\u001b[1;32m   1462\u001b[0m         \u001b[0;32melse\u001b[0m\u001b[0;34m:\u001b[0m\u001b[0;34m\u001b[0m\u001b[0;34m\u001b[0m\u001b[0m\n\u001b[1;32m   1463\u001b[0m             \u001b[0;32mraise\u001b[0m \u001b[0mTypeError\u001b[0m\u001b[0;34m(\u001b[0m\u001b[0;34m\"condition should be string or Column\"\u001b[0m\u001b[0;34m)\u001b[0m\u001b[0;34m\u001b[0m\u001b[0;34m\u001b[0m\u001b[0m\n",
            "\u001b[0;32m/content/spark-3.0.0-bin-hadoop3.2/python/lib/py4j-0.10.9-src.zip/py4j/java_gateway.py\u001b[0m in \u001b[0;36m__call__\u001b[0;34m(self, *args)\u001b[0m\n\u001b[1;32m   1303\u001b[0m         \u001b[0manswer\u001b[0m \u001b[0;34m=\u001b[0m \u001b[0mself\u001b[0m\u001b[0;34m.\u001b[0m\u001b[0mgateway_client\u001b[0m\u001b[0;34m.\u001b[0m\u001b[0msend_command\u001b[0m\u001b[0;34m(\u001b[0m\u001b[0mcommand\u001b[0m\u001b[0;34m)\u001b[0m\u001b[0;34m\u001b[0m\u001b[0;34m\u001b[0m\u001b[0m\n\u001b[1;32m   1304\u001b[0m         return_value = get_return_value(\n\u001b[0;32m-> 1305\u001b[0;31m             answer, self.gateway_client, self.target_id, self.name)\n\u001b[0m\u001b[1;32m   1306\u001b[0m \u001b[0;34m\u001b[0m\u001b[0m\n\u001b[1;32m   1307\u001b[0m         \u001b[0;32mfor\u001b[0m \u001b[0mtemp_arg\u001b[0m \u001b[0;32min\u001b[0m \u001b[0mtemp_args\u001b[0m\u001b[0;34m:\u001b[0m\u001b[0;34m\u001b[0m\u001b[0;34m\u001b[0m\u001b[0m\n",
            "\u001b[0;32m/content/spark-3.0.0-bin-hadoop3.2/python/pyspark/sql/utils.py\u001b[0m in \u001b[0;36mdeco\u001b[0;34m(*a, **kw)\u001b[0m\n\u001b[1;32m    135\u001b[0m                 \u001b[0;31m# Hide where the exception came from that shows a non-Pythonic\u001b[0m\u001b[0;34m\u001b[0m\u001b[0;34m\u001b[0m\u001b[0;34m\u001b[0m\u001b[0m\n\u001b[1;32m    136\u001b[0m                 \u001b[0;31m# JVM exception message.\u001b[0m\u001b[0;34m\u001b[0m\u001b[0;34m\u001b[0m\u001b[0;34m\u001b[0m\u001b[0m\n\u001b[0;32m--> 137\u001b[0;31m                 \u001b[0mraise_from\u001b[0m\u001b[0;34m(\u001b[0m\u001b[0mconverted\u001b[0m\u001b[0;34m)\u001b[0m\u001b[0;34m\u001b[0m\u001b[0;34m\u001b[0m\u001b[0m\n\u001b[0m\u001b[1;32m    138\u001b[0m             \u001b[0;32melse\u001b[0m\u001b[0;34m:\u001b[0m\u001b[0;34m\u001b[0m\u001b[0;34m\u001b[0m\u001b[0m\n\u001b[1;32m    139\u001b[0m                 \u001b[0;32mraise\u001b[0m\u001b[0;34m\u001b[0m\u001b[0;34m\u001b[0m\u001b[0m\n",
            "\u001b[0;32m/content/spark-3.0.0-bin-hadoop3.2/python/pyspark/sql/utils.py\u001b[0m in \u001b[0;36mraise_from\u001b[0;34m(e)\u001b[0m\n",
            "\u001b[0;31mAnalysisException\u001b[0m: cannot resolve '`Literacy`' given input columns: [Agriculture, Arable (%), Area (sq. mi.), Birthrate, Climate, Coastline (coast/area ratio), Country, Crops (%), Deathrate, GDP ($ per capita), Industry, Infant mortality (per 1000 births), Literacy (%), Net migration, Other (%), Phones (per 1000), Pop. Density (per sq. mi.), Population, Region, Service];;\n'Filter (('Literacy < 50) AND (GDP ($ per capita)#338 > 700))\n+- Relation[Country#330,Region#331,Population#332,Area (sq. mi.)#333,Pop. Density (per sq. mi.)#334,Coastline (coast/area ratio)#335,Net migration#336,Infant mortality (per 1000 births)#337,GDP ($ per capita)#338,Literacy (%)#339,Phones (per 1000)#340,Arable (%)#341,Crops (%)#342,Other (%)#343,Climate#344,Birthrate#345,Deathrate#346,Agriculture#347,Industry#348,Service#349] csv\n"
          ]
        }
      ]
    },
    {
      "cell_type": "markdown",
      "metadata": {
        "id": "gpi9h3hB2DnL"
      },
      "source": [
        "Oops, what does it mean???\n",
        "\n",
        "- some rows have empty values!\n",
        "\n",
        "Before we can use the table, we need to remove empty rows. Otherwise our UDF will fail."
      ]
    },
    {
      "cell_type": "code",
      "metadata": {
        "id": "hsbafdL52DnL"
      },
      "source": [
        "full_countries = countries.select('Country', 'Population', 'Literacy (%)', 'GDP ($ per capita)').na.drop()"
      ],
      "execution_count": 51,
      "outputs": []
    },
    {
      "cell_type": "markdown",
      "metadata": {
        "id": "xgdtYcj82DnL"
      },
      "source": [
        "We can now apply the new UDF to the Data Frame:"
      ]
    },
    {
      "cell_type": "code",
      "metadata": {
        "id": "8R5VnZsX2DnM"
      },
      "source": [
        "full_countries = full_countries.withColumn(\"Literacy\", float_udf(\"Literacy (%)\"))"
      ],
      "execution_count": 52,
      "outputs": []
    },
    {
      "cell_type": "code",
      "metadata": {
        "colab": {
          "base_uri": "https://localhost:8080/"
        },
        "id": "VpXWSMXB2DnM",
        "outputId": "f9bbeeba-fcce-44a9-bf72-0a397a435cca"
      },
      "source": [
        "full_countries.show(50)"
      ],
      "execution_count": 53,
      "outputs": [
        {
          "output_type": "stream",
          "name": "stdout",
          "text": [
            "+--------------------+----------+------------+------------------+--------+\n",
            "|             Country|Population|Literacy (%)|GDP ($ per capita)|Literacy|\n",
            "+--------------------+----------+------------+------------------+--------+\n",
            "|        Afghanistan |  31056997|        36,0|               700|    36.0|\n",
            "|            Albania |   3581655|        86,5|              4500|    86.5|\n",
            "|            Algeria |  32930091|        70,0|              6000|    70.0|\n",
            "|     American Samoa |     57794|        97,0|              8000|    97.0|\n",
            "|            Andorra |     71201|       100,0|             19000|   100.0|\n",
            "|             Angola |  12127071|        42,0|              1900|    42.0|\n",
            "|           Anguilla |     13477|        95,0|              8600|    95.0|\n",
            "|  Antigua & Barbuda |     69108|        89,0|             11000|    89.0|\n",
            "|          Argentina |  39921833|        97,1|             11200|    97.1|\n",
            "|            Armenia |   2976372|        98,6|              3500|    98.6|\n",
            "|              Aruba |     71891|        97,0|             28000|    97.0|\n",
            "|          Australia |  20264082|       100,0|             29000|   100.0|\n",
            "|            Austria |   8192880|        98,0|             30000|    98.0|\n",
            "|         Azerbaijan |   7961619|        97,0|              3400|    97.0|\n",
            "|       Bahamas, The |    303770|        95,6|             16700|    95.6|\n",
            "|            Bahrain |    698585|        89,1|             16900|    89.1|\n",
            "|         Bangladesh | 147365352|        43,1|              1900|    43.1|\n",
            "|           Barbados |    279912|        97,4|             15700|    97.4|\n",
            "|            Belarus |  10293011|        99,6|              6100|    99.6|\n",
            "|            Belgium |  10379067|        98,0|             29100|    98.0|\n",
            "|             Belize |    287730|        94,1|              4900|    94.1|\n",
            "|              Benin |   7862944|        40,9|              1100|    40.9|\n",
            "|            Bermuda |     65773|        98,0|             36000|    98.0|\n",
            "|             Bhutan |   2279723|        42,2|              1300|    42.2|\n",
            "|            Bolivia |   8989046|        87,2|              2400|    87.2|\n",
            "|           Botswana |   1639833|        79,8|              9000|    79.8|\n",
            "|             Brazil | 188078227|        86,4|              7600|    86.4|\n",
            "| British Virgin Is. |     23098|        97,8|             16000|    97.8|\n",
            "|             Brunei |    379444|        93,9|             18600|    93.9|\n",
            "|           Bulgaria |   7385367|        98,6|              7600|    98.6|\n",
            "|       Burkina Faso |  13902972|        26,6|              1100|    26.6|\n",
            "|              Burma |  47382633|        85,3|              1800|    85.3|\n",
            "|            Burundi |   8090068|        51,6|               600|    51.6|\n",
            "|           Cambodia |  13881427|        69,4|              1900|    69.4|\n",
            "|           Cameroon |  17340702|        79,0|              1800|    79.0|\n",
            "|             Canada |  33098932|        97,0|             29800|    97.0|\n",
            "|         Cape Verde |    420979|        76,6|              1400|    76.6|\n",
            "|     Cayman Islands |     45436|        98,0|             35000|    98.0|\n",
            "|Central African R...|   4303356|        51,0|              1100|    51.0|\n",
            "|               Chad |   9944201|        47,5|              1200|    47.5|\n",
            "|              Chile |  16134219|        96,2|              9900|    96.2|\n",
            "|              China |1313973713|        90,9|              5000|    90.9|\n",
            "|           Colombia |  43593035|        92,5|              6300|    92.5|\n",
            "|            Comoros |    690948|        56,5|               700|    56.5|\n",
            "|   Congo, Dem. Rep. |  62660551|        65,5|               700|    65.5|\n",
            "|Congo, Repub. of ...|   3702314|        83,8|               700|    83.8|\n",
            "|       Cook Islands |     21388|        95,0|              5000|    95.0|\n",
            "|         Costa Rica |   4075261|        96,0|              9100|    96.0|\n",
            "|      Cote d'Ivoire |  17654843|        50,9|              1400|    50.9|\n",
            "|            Croatia |   4494749|        98,5|             10600|    98.5|\n",
            "+--------------------+----------+------------+------------------+--------+\n",
            "only showing top 50 rows\n",
            "\n"
          ]
        }
      ]
    },
    {
      "cell_type": "code",
      "metadata": {
        "colab": {
          "base_uri": "https://localhost:8080/"
        },
        "id": "Nj_-pfrs2DnM",
        "outputId": "6479aa9b-5f77-4c12-95d6-49f5e435f7d7"
      },
      "source": [
        "full_countries.where((col(\"Literacy\") < 50) & (col(\"GDP ($ per capita)\") > 700)).show()"
      ],
      "execution_count": 54,
      "outputs": [
        {
          "output_type": "stream",
          "name": "stdout",
          "text": [
            "+--------------+----------+------------+------------------+--------+\n",
            "|       Country|Population|Literacy (%)|GDP ($ per capita)|Literacy|\n",
            "+--------------+----------+------------+------------------+--------+\n",
            "|       Angola |  12127071|        42,0|              1900|    42.0|\n",
            "|   Bangladesh | 147365352|        43,1|              1900|    43.1|\n",
            "|        Benin |   7862944|        40,9|              1100|    40.9|\n",
            "|       Bhutan |   2279723|        42,2|              1300|    42.2|\n",
            "| Burkina Faso |  13902972|        26,6|              1100|    26.6|\n",
            "|         Chad |   9944201|        47,5|              1200|    47.5|\n",
            "|  Gambia, The |   1641564|        40,1|              1700|    40.1|\n",
            "|       Guinea |   9690222|        35,9|              2100|    35.9|\n",
            "|Guinea-Bissau |   1442029|        42,4|               800|    42.4|\n",
            "|         Iraq |  26783383|        40,4|              1500|    40.4|\n",
            "|         Mali |  11716829|        46,4|               900|    46.4|\n",
            "|   Mauritania |   3177388|        41,7|              1800|    41.7|\n",
            "|   Mozambique |  19686505|        47,8|              1200|    47.8|\n",
            "|        Nepal |  28287147|        45,2|              1400|    45.2|\n",
            "|        Niger |  12525094|        17,6|               800|    17.6|\n",
            "|     Pakistan | 165803560|        45,7|              2100|    45.7|\n",
            "|      Senegal |  11987121|        40,2|              1600|    40.2|\n",
            "+--------------+----------+------------+------------------+--------+\n",
            "\n"
          ]
        }
      ]
    },
    {
      "cell_type": "code",
      "metadata": {
        "colab": {
          "base_uri": "https://localhost:8080/",
          "height": 409
        },
        "id": "2gHapvKX2DnN",
        "outputId": "7da47ee4-0f1d-4070-a1e9-ecb5a4f1c646"
      },
      "source": [
        "full_countries.toPandas().plot(x=\"Literacy\",y=\"GDP ($ per capita)\",kind=\"scatter\",figsize=(10, 6))"
      ],
      "execution_count": 55,
      "outputs": [
        {
          "output_type": "execute_result",
          "data": {
            "text/plain": [
              "<matplotlib.axes._subplots.AxesSubplot at 0x7f295a0e5c50>"
            ]
          },
          "metadata": {},
          "execution_count": 55
        },
        {
          "output_type": "display_data",
          "data": {
            "image/png": "[encoded data removed]",
            "text/plain": [
              "<Figure size 720x432 with 1 Axes>"
            ]
          },
          "metadata": {}
        }
      ]
    },
    {
      "cell_type": "markdown",
      "metadata": {
        "id": "Hb1jFt032DnN"
      },
      "source": [
        "# Useful information\n",
        "\n",
        " * https://spark.apache.org/docs/latest/quick-start.html\n",
        " * https://spark.apache.org/docs/latest/sql-programming-guide.html\n",
        " * https://pandas.pydata.org/pandas-docs/stable/visualization.html"
      ]
    },
    {
      "cell_type": "markdown",
      "metadata": {
        "id": "kSJzY8D9RFO-"
      },
      "source": [
        "# Zadanie domowe"
      ]
    },
    {
      "cell_type": "markdown",
      "metadata": {
        "id": "3VDMIO7U7xvD"
      },
      "source": [
        "## Zadanie 1\n",
        "Narysuj wykres zależności kolumn Plot Infant mortality vs. Literacy dla 30 najbogatszych i 30 najbiedniejszych krajów."
      ]
    },
    {
      "cell_type": "code",
      "metadata": {
        "id": "3071hBhl74fO"
      },
      "source": [
        "countries_infant_vs_literacy = countries.select(\"Country\",\"Infant mortality (per 1000 births)\",\"Literacy (%)\",\"GDP ($ per capita)\").na.drop()\n",
        "countries_infant_vs_literacy = countries_infant_vs_literacy.withColumn(\"Literacy\", float_udf(\"Literacy (%)\")).withColumn(\"Infant mortality\", float_udf(\"Infant mortality (per 1000 births)\"))"
      ],
      "execution_count": 56,
      "outputs": []
    },
    {
      "cell_type": "code",
      "metadata": {
        "id": "ykkhU75H96Qg"
      },
      "source": [
        "from pyspark.sql.functions import desc\n",
        "\n",
        "countries_infant_vs_literacy_best = countries_infant_vs_literacy.orderBy(desc(\"GDP ($ per capita)\")).limit(30)\n",
        "countries_infant_vs_literacy_worst = countries_infant_vs_literacy.orderBy(\"GDP ($ per capita)\").limit(30)"
      ],
      "execution_count": 57,
      "outputs": []
    },
    {
      "cell_type": "code",
      "metadata": {
        "colab": {
          "base_uri": "https://localhost:8080/",
          "height": 817
        },
        "id": "o1oamKR1_5ix",
        "outputId": "54a608a6-8f55-4fc6-8539-ecb6cf8d1e3a"
      },
      "source": [
        "countries_infant_vs_literacy_best.toPandas().plot(x=\"Infant mortality\",y=\"Literacy\",kind=\"scatter\",figsize=(10, 6),title=\"Infant mortality vs. Literacy for 30 richest countries\")\n",
        "countries_infant_vs_literacy_worst.toPandas().plot(x=\"Infant mortality\",y=\"Literacy\",kind=\"scatter\",figsize=(10, 6),title=\"Infant mortality vs. Literacy for 30 poorest countries\")"
      ],
      "execution_count": 58,
      "outputs": [
        {
          "output_type": "execute_result",
          "data": {
            "text/plain": [
              "<matplotlib.axes._subplots.AxesSubplot at 0x7f2959f8b550>"
            ]
          },
          "metadata": {},
          "execution_count": 58
        },
        {
          "output_type": "display_data",
          "data": {
            "image/png": "[encoded data removed]",
            "text/plain": [
              "<Figure size 720x432 with 1 Axes>"
            ]
          },
          "metadata": {}
        },
        {
          "output_type": "display_data",
          "data": {
            "image/png": "[encoded data removed]",
            "text/plain": [
              "<Figure size 720x432 with 1 Axes>"
            ]
          },
          "metadata": {}
        }
      ]
    },
    {
      "cell_type": "markdown",
      "metadata": {
        "id": "beaw_tsQBZ_8"
      },
      "source": [
        "## Zadanie 2\n",
        "Wczytaj zbiór danych \"airports.csv\" ze strony https://www.kaggle.com/jonatancr/airports (zawiera on dane na temat lotnisk z całego świata). Ponieważ w zbiorze tym nie ma nagłówka, nadaj własne nazwy kolumnom, korzystając z opisu pliku na stronie https://openflights.org/data.html. Narysuj na wykresie (mapie) położenia wszystkich/wybranych lotnisk.1"
      ]
    },
    {
      "cell_type": "code",
      "metadata": {
        "colab": {
          "base_uri": "https://localhost:8080/"
        },
        "id": "5vhe_0AIBg87",
        "outputId": "cfdb7bc0-2ca7-4b04-933b-81951f0e5ec1"
      },
      "source": [
        "from pyspark.sql.types import StructType, StructField, IntegerType, StringType, FloatType\n",
        "\n",
        "file_path = google_drive_path + \"airports.csv\"\n",
        "\n",
        "schema = StructType([\n",
        "    StructField(\"Airport ID\", IntegerType(), True),\n",
        "    StructField(\"Name\", StringType(), True),\n",
        "    StructField(\"City\", StringType(), True),\n",
        "    StructField(\"Country\", StringType(), True),\n",
        "    StructField(\"IATA\", StringType(), True),\n",
        "    StructField(\"ICAO\", StringType(), True),\n",
        "    StructField(\"Latitude\", FloatType(), True),\n",
        "    StructField(\"Longitude\", FloatType(), True),\n",
        "    StructField(\"Altitude\", StringType(), True),\n",
        "    StructField(\"Timezone\", StringType(), True),\n",
        "    StructField(\"DST\", StringType(), True),\n",
        "    StructField(\"Tz database time zone\", StringType(), True),\n",
        "    StructField(\"Type\", StringType(), True),\n",
        "    StructField(\"Source\", StringType(), True)])\n",
        "\n",
        "airports = spark.read.csv(file_path,header=False,schema=schema)\n",
        "\n",
        "airports.show()"
      ],
      "execution_count": 137,
      "outputs": [
        {
          "output_type": "stream",
          "name": "stdout",
          "text": [
            "+----------+--------------------+--------------+----------------+----+----+---------+----------+--------+--------+---+---------------------+-------+-----------+\n",
            "|Airport ID|                Name|          City|         Country|IATA|ICAO| Latitude| Longitude|Altitude|Timezone|DST|Tz database time zone|   Type|     Source|\n",
            "+----------+--------------------+--------------+----------------+----+----+---------+----------+--------+--------+---+---------------------+-------+-----------+\n",
            "|         1|      Goroka Airport|        Goroka|Papua New Guinea| GKA|AYGA| -6.08169|   145.392|    5282|      10|  U| Pacific/Port_Moresby|airport|OurAirports|\n",
            "|         2|      Madang Airport|        Madang|Papua New Guinea| MAG|AYMD| -5.20708|   145.789|      20|      10|  U| Pacific/Port_Moresby|airport|OurAirports|\n",
            "|         3|Mount Hagen Kagam...|   Mount Hagen|Papua New Guinea| HGU|AYMH| -5.82679|   144.296|    5388|      10|  U| Pacific/Port_Moresby|airport|OurAirports|\n",
            "|         4|      Nadzab Airport|        Nadzab|Papua New Guinea| LAE|AYNZ|-6.569803| 146.72598|     239|      10|  U| Pacific/Port_Moresby|airport|OurAirports|\n",
            "|         5|Port Moresby Jack...|  Port Moresby|Papua New Guinea| POM|AYPY| -9.44338|    147.22|     146|      10|  U| Pacific/Port_Moresby|airport|OurAirports|\n",
            "|         6|Wewak Internation...|         Wewak|Papua New Guinea| WWK|AYWK| -3.58383|   143.669|      19|      10|  U| Pacific/Port_Moresby|airport|OurAirports|\n",
            "|         7|  Narsarsuaq Airport|  Narssarssuaq|       Greenland| UAK|BGBW|  61.1605|   -45.426|     112|      -3|  E|      America/Godthab|airport|OurAirports|\n",
            "|         8|Godthaab / Nuuk A...|      Godthaab|       Greenland| GOH|BGGH|  64.1909|  -51.6781|     283|      -3|  E|      America/Godthab|airport|OurAirports|\n",
            "|         9|Kangerlussuaq Air...|   Sondrestrom|       Greenland| SFJ|BGSF| 67.01222|-50.711605|     165|      -3|  E|      America/Godthab|airport|OurAirports|\n",
            "|        10|      Thule Air Base|         Thule|       Greenland| THU|BGTL|  76.5312|  -68.7032|     251|      -4|  E|        America/Thule|airport|OurAirports|\n",
            "|        11|    Akureyri Airport|      Akureyri|         Iceland| AEY|BIAR|    65.66|  -18.0727|       6|       0|  N|   Atlantic/Reykjavik|airport|OurAirports|\n",
            "|        12| Egilsstaðir Airport|   Egilsstadir|         Iceland| EGS|BIEG|  65.2833|  -14.4014|      76|       0|  N|   Atlantic/Reykjavik|airport|OurAirports|\n",
            "|        13|Hornafjörður Airport|          Hofn|         Iceland| HFN|BIHN|  64.2956|  -15.2272|      24|       0|  N|   Atlantic/Reykjavik|airport|OurAirports|\n",
            "|        14|     Húsavík Airport|       Husavik|         Iceland| HZK|BIHU|  65.9523|   -17.426|      48|       0|  N|   Atlantic/Reykjavik|airport|OurAirports|\n",
            "|        15|  Ísafjörður Airport|    Isafjordur|         Iceland| IFJ|BIIS|  66.0581|  -23.1353|       8|       0|  N|   Atlantic/Reykjavik|airport|OurAirports|\n",
            "|        16|Keflavik Internat...|      Keflavik|         Iceland| KEF|BIKF|   63.985|  -22.6056|     171|       0|  N|   Atlantic/Reykjavik|airport|OurAirports|\n",
            "|        17|Patreksfjörður Ai...|Patreksfjordur|         Iceland| PFJ|BIPA|  65.5558|   -23.965|      11|       0|  N|   Atlantic/Reykjavik|airport|OurAirports|\n",
            "|        18|   Reykjavik Airport|     Reykjavik|         Iceland| RKV|BIRK|    64.13|  -21.9406|      48|       0|  N|   Atlantic/Reykjavik|airport|OurAirports|\n",
            "|        19|Siglufjörður Airport|  Siglufjordur|         Iceland| SIJ|BISI|  66.1333|  -18.9167|      10|       0|  N|   Atlantic/Reykjavik|airport|OurAirports|\n",
            "|        20|Vestmannaeyjar Ai...|Vestmannaeyjar|         Iceland| VEY|BIVM|  63.4243|  -20.2789|     326|       0|  N|   Atlantic/Reykjavik|airport|OurAirports|\n",
            "+----------+--------------------+--------------+----------------+----+----+---------+----------+--------+--------+---+---------------------+-------+-----------+\n",
            "only showing top 20 rows\n",
            "\n"
          ]
        }
      ]
    },
    {
      "cell_type": "code",
      "metadata": {
        "colab": {
          "base_uri": "https://localhost:8080/",
          "height": 258
        },
        "id": "MfAbbmCBavsR",
        "outputId": "96ce1fb5-0b0d-4c43-bd8a-2e657b9b9ff2"
      },
      "source": [
        "import matplotlib as mlt\n",
        "from mpl_toolkits.basemap import Basemap\n",
        "import numpy as np\n",
        "\n",
        "from itertools import chain\n",
        "\n",
        "def draw_map(m, scale=0.2):\n",
        "    # draw a shaded-relief image\n",
        "    m.shadedrelief(scale=scale)\n",
        "    \n",
        "    # lats and longs are returned as a dictionary\n",
        "    lats = m.drawparallels(np.linspace(-90, 90, 13))\n",
        "    lons = m.drawmeridians(np.linspace(-180, 180, 13))\n",
        "\n",
        "    # keys contain the plt.Line2D instances\n",
        "    lat_lines = chain(*(tup[1][0] for tup in lats.items()))\n",
        "    lon_lines = chain(*(tup[1][0] for tup in lons.items()))\n",
        "    all_lines = chain(lat_lines, lon_lines)\n",
        "    \n",
        "    # cycle through these lines and set the desired style\n",
        "    for line in all_lines:\n",
        "        line.set(linestyle='-', alpha=0.3, color='w')\n",
        "\n",
        "\n",
        "fig = plt.figure(figsize=(8, 6), edgecolor='w')\n",
        "m = Basemap(projection='cyl', resolution=None )\n",
        "draw_map(m)\n",
        "\n",
        "results = airports.select(\"Latitude\", \"Longitude\")\n",
        "\n",
        "for airport in results.rdd.collect():\n",
        "  x, y = airport.Longitude, airport.Latitude\n",
        "  plt.plot(x, y, 'ok', markersize=1)"
      ],
      "execution_count": 60,
      "outputs": [
        {
          "output_type": "display_data",
          "data": {
            "image/png": "[encoded data removed]",
            "text/plain": [
              "<Figure size 576x432 with 1 Axes>"
            ]
          },
          "metadata": {}
        }
      ]
    },
    {
      "cell_type": "markdown",
      "metadata": {
        "id": "fe1xf_8acJP8"
      },
      "source": [
        "## Zadanie 3\n",
        "\n",
        "Utwórz dwie nowe kolumny w ramce \"Countries\", w których powierzchnia i gęstość zaludnienia wyrażone sa odpowiednio w milach kwadratowych i osobach na milę kwadratową\n",
        "Nazwy nowych kolumn proszę ustawić odpowiednio na 'Area (sq mi)' oraz 'Pop Density (per sq mi)'\n",
        "\n",
        "Uwaga: Typami nowych kolumn mają być odpowiednio integer (powierzchnia) i float (gęstość). Zaokrąglanie do integer: \"int(x)\""
      ]
    },
    {
      "cell_type": "code",
      "metadata": {
        "colab": {
          "base_uri": "https://localhost:8080/"
        },
        "id": "khGeEbNKcMhx",
        "outputId": "0a47987b-d979-4c74-a478-c2d66e6a1e14"
      },
      "source": [
        "def to_mile2(x):\n",
        "  return int(x*0.38613796)\n",
        "\n",
        "area_udf = udf(to_mile2 , IntegerType())\n",
        "\n",
        "countries_enriched = countries.withColumn(\"Area (sq mi)\", area_udf(\"`Area (sq. mi.)`\"))\n",
        "countries_enriched.select(\"Area (sq mi)\",\"`Area (sq. mi.)`\").show()"
      ],
      "execution_count": 61,
      "outputs": [
        {
          "output_type": "stream",
          "name": "stdout",
          "text": [
            "+------------+--------------+\n",
            "|Area (sq mi)|Area (sq. mi.)|\n",
            "+------------+--------------+\n",
            "|      250024|        647500|\n",
            "|       11100|         28748|\n",
            "|      919680|       2381740|\n",
            "|          76|           199|\n",
            "|         180|           468|\n",
            "|      481398|       1246700|\n",
            "|          39|           102|\n",
            "|         171|           443|\n",
            "|     1068401|       2766890|\n",
            "|       11506|         29800|\n",
            "|          74|           193|\n",
            "|     2968184|       7686850|\n",
            "|       32385|         83870|\n",
            "|       33439|         86600|\n",
            "|        5382|         13940|\n",
            "|         256|           665|\n",
            "|       55603|        144000|\n",
            "|         166|           431|\n",
            "|       80162|        207600|\n",
            "|       11788|         30528|\n",
            "+------------+--------------+\n",
            "only showing top 20 rows\n",
            "\n"
          ]
        }
      ]
    },
    {
      "cell_type": "code",
      "metadata": {
        "colab": {
          "base_uri": "https://localhost:8080/"
        },
        "id": "rFU1Ll34enqo",
        "outputId": "dda191ea-3128-4635-da44-30f0daa0b96f"
      },
      "source": [
        "def to_pop_density_mile(x):\n",
        "  return to_float(x)*2.58974797505\n",
        "\n",
        "density_udf = udf(to_pop_density_mile , FloatType())\n",
        "\n",
        "countries_enriched = countries.withColumn(\"Pop Density (per sq mi)\", density_udf(\"`Pop. Density (per sq. mi.)`\"))\n",
        "countries_enriched.select(\"Pop Density (per sq mi)\",\"`Pop. Density (per sq. mi.)`\").show()"
      ],
      "execution_count": 62,
      "outputs": [
        {
          "output_type": "stream",
          "name": "stdout",
          "text": [
            "+-----------------------+--------------------------+\n",
            "|Pop Density (per sq mi)|Pop. Density (per sq. mi.)|\n",
            "+-----------------------+--------------------------+\n",
            "|               124.3079|                      48,0|\n",
            "|               322.6826|                     124,6|\n",
            "|               35.73852|                      13,8|\n",
            "|               752.0628|                     290,4|\n",
            "|              393.90067|                     152,1|\n",
            "|              25.120556|                       9,7|\n",
            "|               342.1057|                     132,1|\n",
            "|              404.00067|                     156,0|\n",
            "|               37.29237|                      14,4|\n",
            "|              258.71582|                      99,9|\n",
            "|               964.6811|                     372,5|\n",
            "|              6.7333446|                       2,6|\n",
            "|              253.01837|                      97,7|\n",
            "|              237.99783|                      91,9|\n",
            "|              56.456505|                      21,8|\n",
            "|              2720.5303|                    1050,5|\n",
            "|              2650.3481|                    1023,4|\n",
            "|              1682.0413|                     649,5|\n",
            "|              128.45149|                      49,6|\n",
            "|               880.5143|                     340,0|\n",
            "+-----------------------+--------------------------+\n",
            "only showing top 20 rows\n",
            "\n"
          ]
        }
      ]
    },
    {
      "cell_type": "markdown",
      "metadata": {
        "id": "u4Dn30o7f93D"
      },
      "source": [
        "## Zadanie 4\n",
        "Na wykresie scatterplot narysuj zależność liczby lotnisk od powierzchni kraju.\n",
        "\n",
        "*   Dane potrzebne do wykresu są w dwóch ramkach (Countries i Airports), konieczne więc będzie ich złączenie (join).\n",
        "*   Nie zawsze nazwy tych samych krajów będą identyczne w obu ramkach, co może stanowić problem (złączenie nie powstanie). Zastanów się jak przy pomocy mechanizmu złączeń wykryć, które nazwy się różnią. Stwórz odpowiednią ramkę, która zawiera takie nazwy.\n",
        "*   Następnie zmień nazwy kilku największych państw w jednej z ramek, tak żeby ujednolicić nazwy. Można to zrobić funkcją replace."
      ]
    },
    {
      "cell_type": "code",
      "metadata": {
        "id": "1PUr2C-UgJte",
        "colab": {
          "base_uri": "https://localhost:8080/"
        },
        "outputId": "311dba38-85fc-40f7-886e-8405ab3de3ac"
      },
      "source": [
        "import re\n",
        "\n",
        "def airport_country_name(x):\n",
        "  x = re.sub('Is(\\.|\\\\b)', 'Islands', x[:-1])\n",
        "  if x == 'Gaza Strip':\n",
        "    return 'Palestine'\n",
        "  if x.startswith('Korea'):\n",
        "    y = x.split(', ')\n",
        "    return y[1] + \" \" + y[0]\n",
        "  if x.startswith('Congo'):\n",
        "    if 'Dem' in x:\n",
        "      return 'Congo (Kinshasa)'\n",
        "    else:\n",
        "      return  'Congo (Brazzaville)'  \n",
        "  return x.replace('&', 'and').replace('Rep.', 'Republic').replace(', The', '').replace('N.', 'Northern').replace('St ', 'Saint ')\n",
        "\n",
        "countries_names = set(map(lambda x: x.Country, airports.select('Country').distinct().rdd.collect()))\n",
        "airports_countries = set(map(lambda x: airport_country_name(x.Country), countries.select('Country').distinct().rdd.collect()))\n",
        "airports_countries - countries_names"
      ],
      "execution_count": 139,
      "outputs": [
        {
          "output_type": "execute_result",
          "data": {
            "text/plain": [
              "{'Andorra', 'Liechtenstein', 'Micronesia, Fed. St.', 'Monaco', 'San Marino'}"
            ]
          },
          "metadata": {},
          "execution_count": 139
        }
      ]
    },
    {
      "cell_type": "code",
      "metadata": {
        "colab": {
          "base_uri": "https://localhost:8080/"
        },
        "id": "6VfEZ04K7-j9",
        "outputId": "95ad13a5-bb7f-4a1d-f4bd-2db50babb5c8"
      },
      "source": [
        "country_udf = udf(airport_country_name , StringType())\n",
        "countries_stand = countries.withColumn('Country_standarized', country_udf('Country'))\n",
        "countries_stand.select('Country','Country_standarized').show()"
      ],
      "execution_count": 140,
      "outputs": [
        {
          "output_type": "stream",
          "name": "stdout",
          "text": [
            "+------------------+-------------------+\n",
            "|           Country|Country_standarized|\n",
            "+------------------+-------------------+\n",
            "|      Afghanistan |        Afghanistan|\n",
            "|          Albania |            Albania|\n",
            "|          Algeria |            Algeria|\n",
            "|   American Samoa |     American Samoa|\n",
            "|          Andorra |            Andorra|\n",
            "|           Angola |             Angola|\n",
            "|         Anguilla |           Anguilla|\n",
            "|Antigua & Barbuda |Antigua and Barbuda|\n",
            "|        Argentina |          Argentina|\n",
            "|          Armenia |            Armenia|\n",
            "|            Aruba |              Aruba|\n",
            "|        Australia |          Australia|\n",
            "|          Austria |            Austria|\n",
            "|       Azerbaijan |         Azerbaijan|\n",
            "|     Bahamas, The |            Bahamas|\n",
            "|          Bahrain |            Bahrain|\n",
            "|       Bangladesh |         Bangladesh|\n",
            "|         Barbados |           Barbados|\n",
            "|          Belarus |            Belarus|\n",
            "|          Belgium |            Belgium|\n",
            "+------------------+-------------------+\n",
            "only showing top 20 rows\n",
            "\n"
          ]
        }
      ]
    },
    {
      "cell_type": "code",
      "metadata": {
        "colab": {
          "base_uri": "https://localhost:8080/",
          "height": 424
        },
        "id": "o_LRtJwrBY94",
        "outputId": "92c98167-3341-4652-d466-1d42f3b95a22"
      },
      "source": [
        "countries_airports = airports.join(countries_stand, airports.Country == countries_stand.Country_standarized, 'left')\n",
        "df = countries_airports.select(\"Country_standarized\",\"`Area (sq. mi.)`\").groupBy(\"Country_standarized\",\"`Area (sq. mi.)`\").count().toPandas()\n",
        "df.sort_values(by=['count'])"
      ],
      "execution_count": 141,
      "outputs": [
        {
          "output_type": "execute_result",
          "data": {
            "text/html": [
              "<div>\n",
              "<style scoped>\n",
              "    .dataframe tbody tr th:only-of-type {\n",
              "        vertical-align: middle;\n",
              "    }\n",
              "\n",
              "    .dataframe tbody tr th {\n",
              "        vertical-align: top;\n",
              "    }\n",
              "\n",
              "    .dataframe thead th {\n",
              "        text-align: right;\n",
              "    }\n",
              "</style>\n",
              "<table border=\"1\" class=\"dataframe\">\n",
              "  <thead>\n",
              "    <tr style=\"text-align: right;\">\n",
              "      <th></th>\n",
              "      <th>Country_standarized</th>\n",
              "      <th>Area (sq. mi.)</th>\n",
              "      <th>count</th>\n",
              "    </tr>\n",
              "  </thead>\n",
              "  <tbody>\n",
              "    <tr>\n",
              "      <th>104</th>\n",
              "      <td>Saint Helena</td>\n",
              "      <td>413.0</td>\n",
              "      <td>1</td>\n",
              "    </tr>\n",
              "    <tr>\n",
              "      <th>99</th>\n",
              "      <td>Barbados</td>\n",
              "      <td>431.0</td>\n",
              "      <td>1</td>\n",
              "    </tr>\n",
              "    <tr>\n",
              "      <th>161</th>\n",
              "      <td>Gambia</td>\n",
              "      <td>11300.0</td>\n",
              "      <td>1</td>\n",
              "    </tr>\n",
              "    <tr>\n",
              "      <th>136</th>\n",
              "      <td>Swaziland</td>\n",
              "      <td>17363.0</td>\n",
              "      <td>1</td>\n",
              "    </tr>\n",
              "    <tr>\n",
              "      <th>21</th>\n",
              "      <td>Mayotte</td>\n",
              "      <td>374.0</td>\n",
              "      <td>1</td>\n",
              "    </tr>\n",
              "    <tr>\n",
              "      <th>...</th>\n",
              "      <td>...</td>\n",
              "      <td>...</td>\n",
              "      <td>...</td>\n",
              "    </tr>\n",
              "    <tr>\n",
              "      <th>96</th>\n",
              "      <td>Russia</td>\n",
              "      <td>17075200.0</td>\n",
              "      <td>238</td>\n",
              "    </tr>\n",
              "    <tr>\n",
              "      <th>160</th>\n",
              "      <td>Germany</td>\n",
              "      <td>357021.0</td>\n",
              "      <td>241</td>\n",
              "    </tr>\n",
              "    <tr>\n",
              "      <th>59</th>\n",
              "      <td>Australia</td>\n",
              "      <td>7686850.0</td>\n",
              "      <td>296</td>\n",
              "    </tr>\n",
              "    <tr>\n",
              "      <th>16</th>\n",
              "      <td>Canada</td>\n",
              "      <td>9984670.0</td>\n",
              "      <td>417</td>\n",
              "    </tr>\n",
              "    <tr>\n",
              "      <th>206</th>\n",
              "      <td>United States</td>\n",
              "      <td>9631420.0</td>\n",
              "      <td>1435</td>\n",
              "    </tr>\n",
              "  </tbody>\n",
              "</table>\n",
              "<p>223 rows × 3 columns</p>\n",
              "</div>"
            ],
            "text/plain": [
              "    Country_standarized  Area (sq. mi.)  count\n",
              "104        Saint Helena           413.0      1\n",
              "99             Barbados           431.0      1\n",
              "161              Gambia         11300.0      1\n",
              "136           Swaziland         17363.0      1\n",
              "21              Mayotte           374.0      1\n",
              "..                  ...             ...    ...\n",
              "96               Russia      17075200.0    238\n",
              "160             Germany        357021.0    241\n",
              "59            Australia       7686850.0    296\n",
              "16               Canada       9984670.0    417\n",
              "206       United States       9631420.0   1435\n",
              "\n",
              "[223 rows x 3 columns]"
            ]
          },
          "metadata": {},
          "execution_count": 141
        }
      ]
    },
    {
      "cell_type": "code",
      "metadata": {
        "colab": {
          "base_uri": "https://localhost:8080/",
          "height": 711
        },
        "id": "kCT_aJXTENeI",
        "outputId": "9fc88233-3131-4585-d116-dbb90d2ae555"
      },
      "source": [
        "plt.scatter(df['Area (sq. mi.)'], df['count'])\n",
        "plt.rcParams.update({'figure.figsize':(10,8), 'figure.dpi':100})\n",
        "plt.title('Area of country vs. count of airports')\n",
        "plt.xlabel('Area [km2]')\n",
        "plt.ylabel('Count of airports')\n",
        "plt.show()"
      ],
      "execution_count": 142,
      "outputs": [
        {
          "output_type": "display_data",
          "data": {
            "image/png": "[encoded data removed]",
            "text/plain": [
              "<Figure size 1000x800 with 1 Axes>"
            ]
          },
          "metadata": {}
        }
      ]
    },
    {
      "cell_type": "markdown",
      "metadata": {
        "id": "Fo77ZdiRFUcK"
      },
      "source": [
        "## Zadanie 5 \n",
        "Oblicz, ile lotnisk jest na poszczególnych kontynentach. To zadanie również wymaga złączenia ramek \"Countries\" i \"Airports\". Wynik przedstaw na wykresie słupkowym.\n",
        "*      Do ramki \"Countries\" dodaj nową kolumnę \"Continent\" (według klasyfikacji Africa, Asia, Europe, North America, South America, Antarctica, Australia/Oceania).\n",
        "*      Skorzystaj z kolumny \"Region\" i pomocniczej funkcji (UDF) mapującej region na kontynent.\n"
      ]
    },
    {
      "cell_type": "code",
      "metadata": {
        "colab": {
          "base_uri": "https://localhost:8080/"
        },
        "id": "ICRs_l5dKK-v",
        "outputId": "1222eed1-0200-4304-f304-c2992ae14616"
      },
      "source": [
        "countries_airports.filter(countries_airports.ICAO == 'NZSP').show()"
      ],
      "execution_count": 94,
      "outputs": [
        {
          "output_type": "stream",
          "name": "stdout",
          "text": [
            "+----------+--------------------+----------------+----------+----+----+--------+---------+--------+--------+---+---------------------+-------+-----------+-------+------+----------+--------------+--------------------------+----------------------------+-------------+----------------------------------+------------------+------------+-----------------+----------+---------+---------+-------+---------+---------+-----------+--------+-------+-------------------+\n",
            "|Airport ID|                Name|            City|   Country|IATA|ICAO|Latitude|Longitude|Altitude|Timezone|DST|Tz database time zone|   Type|     Source|Country|Region|Population|Area (sq. mi.)|Pop. Density (per sq. mi.)|Coastline (coast/area ratio)|Net migration|Infant mortality (per 1000 births)|GDP ($ per capita)|Literacy (%)|Phones (per 1000)|Arable (%)|Crops (%)|Other (%)|Climate|Birthrate|Deathrate|Agriculture|Industry|Service|Country_standarized|\n",
            "+----------+--------------------+----------------+----------+----+----+--------+---------+--------+--------+---+---------------------+-------+-----------+-------+------+----------+--------------+--------------------------+----------------------------+-------------+----------------------------------+------------------+------------+-----------------+----------+---------+---------+-------+---------+---------+-----------+--------+-------+-------------------+\n",
            "|      2033|South Pole Statio...|Stephen's Island|Antarctica|  \\N|NZSP|   -90.0|      0.0|    9300|      12|  U| Antarctica/South_...|airport|OurAirports|   null|  null|      null|          null|                      null|                        null|         null|                              null|              null|        null|             null|      null|     null|     null|   null|     null|     null|       null|    null|   null|               null|\n",
            "+----------+--------------------+----------------+----------+----+----+--------+---------+--------+--------+---+---------------------+-------+-----------+-------+------+----------+--------------+--------------------------+----------------------------+-------------+----------------------------------+------------------+------------+-----------------+----------+---------+---------+-------+---------+---------+-----------+--------+-------+-------------------+\n",
            "\n"
          ]
        }
      ]
    },
    {
      "cell_type": "code",
      "metadata": {
        "colab": {
          "base_uri": "https://localhost:8080/"
        },
        "id": "qbA725EmFnfh",
        "outputId": "e74641af-e77f-4864-f319-a5ee69e97bcd"
      },
      "source": [
        "from pyspark.sql.functions import lit\n",
        "\n",
        "def get_continent(region):\n",
        "  region = region.strip()\n",
        "  if 'ASIA' in region:\n",
        "    return 'Asia'\n",
        "  elif region == 'BALTICS':\n",
        "    return 'Europe'\n",
        "  elif 'EUROPE' in region:\n",
        "    return 'Europe'\n",
        "  elif 'AFRICA' in region:\n",
        "    return 'Africa'   \n",
        "  elif region == 'NORTHERN AMERICA':\n",
        "    return 'North America'\n",
        "  elif region == 'C.W. OF IND. STATES':\n",
        "    return 'Asia'\n",
        "  elif region == 'NEAR EAST':\n",
        "    return 'Asia'\n",
        "  elif region == 'OCEANIA':\n",
        "    return 'Autralia/Oceania' \n",
        "  elif region == 'LATIN AMER. & CARIB':\n",
        "    return 'South America'       \n",
        "  elif region == 'ANTARCTICA':\n",
        "    return 'Antarctica'\n",
        "\n",
        "continent_udf = udf(get_continent , StringType())    \n",
        "\n",
        "set(map(lambda x: get_continent(x.Region), countries.select('Region').rdd.collect()))\n",
        "\n",
        "countries_enriched = countries.union(spark.createDataFrame([['Antarctica ','ANTARCTICA',0,0,'','','','',0,'','','','','','','','','','','']]))\n",
        "countries_enriched = countries_enriched.withColumn(\"Continent\", continent_udf(\"Region\"))\n",
        "countries_enriched = countries_enriched.withColumn('Country_standarized', country_udf('Country'))\n",
        "countries_enriched.filter(countries_enriched.Continent == 'Antarctica').show()"
      ],
      "execution_count": 131,
      "outputs": [
        {
          "output_type": "stream",
          "name": "stdout",
          "text": [
            "+-----------+----------+----------+--------------+--------------------------+----------------------------+-------------+----------------------------------+------------------+------------+-----------------+----------+---------+---------+-------+---------+---------+-----------+--------+-------+----------+-------------------+\n",
            "|    Country|    Region|Population|Area (sq. mi.)|Pop. Density (per sq. mi.)|Coastline (coast/area ratio)|Net migration|Infant mortality (per 1000 births)|GDP ($ per capita)|Literacy (%)|Phones (per 1000)|Arable (%)|Crops (%)|Other (%)|Climate|Birthrate|Deathrate|Agriculture|Industry|Service| Continent|Country_standarized|\n",
            "+-----------+----------+----------+--------------+--------------------------+----------------------------+-------------+----------------------------------+------------------+------------+-----------------+----------+---------+---------+-------+---------+---------+-----------+--------+-------+----------+-------------------+\n",
            "|Antarctica |ANTARCTICA|         0|             0|                          |                            |             |                                  |                 0|            |                 |          |         |         |       |         |         |           |        |       |Antarctica|         Antarctica|\n",
            "+-----------+----------+----------+--------------+--------------------------+----------------------------+-------------+----------------------------------+------------------+------------+-----------------+----------+---------+---------+-------+---------+---------+-----------+--------+-------+----------+-------------------+\n",
            "\n"
          ]
        }
      ]
    },
    {
      "cell_type": "code",
      "metadata": {
        "colab": {
          "base_uri": "https://localhost:8080/"
        },
        "id": "lJBQ579cIXj6",
        "outputId": "49ba5a0a-84aa-45c2-9a10-91883300d366"
      },
      "source": [
        "countries_airports = airports.join(countries_enriched, airports.Country == countries_enriched.Country_standarized, 'left')\n",
        "countries_airports.show()"
      ],
      "execution_count": 132,
      "outputs": [
        {
          "output_type": "stream",
          "name": "stdout",
          "text": [
            "+----------+--------------------+--------------------+--------+----+----+----------+----------+--------+--------+---+---------------------+-------+-----------+---------+--------------------+----------+--------------+--------------------------+----------------------------+-------------+----------------------------------+------------------+------------+-----------------+----------+---------+---------+-------+---------+---------+-----------+--------+-------+-------------+-------------------+\n",
            "|Airport ID|                Name|                City| Country|IATA|ICAO|  Latitude| Longitude|Altitude|Timezone|DST|Tz database time zone|   Type|     Source|  Country|              Region|Population|Area (sq. mi.)|Pop. Density (per sq. mi.)|Coastline (coast/area ratio)|Net migration|Infant mortality (per 1000 births)|GDP ($ per capita)|Literacy (%)|Phones (per 1000)|Arable (%)|Crops (%)|Other (%)|Climate|Birthrate|Deathrate|Agriculture|Industry|Service|    Continent|Country_standarized|\n",
            "+----------+--------------------+--------------------+--------+----+----+----------+----------+--------+--------+---+---------------------+-------+-----------+---------+--------------------+----------+--------------+--------------------------+----------------------------+-------------+----------------------------------+------------------+------------+-----------------+----------+---------+---------+-------+---------+---------+-----------+--------+-------+-------------+-------------------+\n",
            "|       997|      Abeche Airport|              Abeche|    Chad| AEH|FTTC|    13.847|   20.8443|    1788|       1|  N|      Africa/Ndjamena|airport|OurAirports|    Chad |SUB-SAHARAN AFRIC...|   9944201|       1284000|                       7,7|                        0,00|        -0,11|                             93,82|              1200|        47,5|              1,3|      2,86|     0,02|    97,12|      2|    45,73|    16,38|      0,335|   0,259|  0,406|       Africa|               Chad|\n",
            "|       998|     Moundou Airport|             Moundou|    Chad| MQQ|FTTD|   8.62441|   16.0714|    1407|       1|  N|      Africa/Ndjamena|airport|OurAirports|    Chad |SUB-SAHARAN AFRIC...|   9944201|       1284000|                       7,7|                        0,00|        -0,11|                             93,82|              1200|        47,5|              1,3|      2,86|     0,02|    97,12|      2|    45,73|    16,38|      0,335|   0,259|  0,406|       Africa|               Chad|\n",
            "|       999|N'Djamena Interna...|           N'djamena|    Chad| NDJ|FTTJ|   12.1337|    15.034|     968|       1|  N|      Africa/Ndjamena|airport|OurAirports|    Chad |SUB-SAHARAN AFRIC...|   9944201|       1284000|                       7,7|                        0,00|        -0,11|                             93,82|              1200|        47,5|              1,3|      2,86|     0,02|    97,12|      2|    45,73|    16,38|      0,335|   0,259|  0,406|       Africa|               Chad|\n",
            "|      1000|Faya Largeau Airport|        Faya-largeau|    Chad| FYT|FTTY|   17.9171|   19.1111|     771|       1|  N|      Africa/Ndjamena|airport|OurAirports|    Chad |SUB-SAHARAN AFRIC...|   9944201|       1284000|                       7,7|                        0,00|        -0,11|                             93,82|              1200|        47,5|              1,3|      2,86|     0,02|    97,12|      2|    45,73|    16,38|      0,335|   0,259|  0,406|       Africa|               Chad|\n",
            "|      5639|        Sarh Airport|                Sarh|    Chad| SRH|FTTA|   9.14444|   18.3744|    1198|       1|  N|      Africa/Ndjamena|airport|OurAirports|    Chad |SUB-SAHARAN AFRIC...|   9944201|       1284000|                       7,7|                        0,00|        -0,11|                             93,82|              1200|        47,5|              1,3|      2,86|     0,02|    97,12|      2|    45,73|    16,38|      0,335|   0,259|  0,406|       Africa|               Chad|\n",
            "|      7413|    Am Timan Airport|            Am Timan|    Chad| AMC|FTTN|    11.034|    20.274|    1420|       1|  U|      Africa/Ndjamena|airport|OurAirports|    Chad |SUB-SAHARAN AFRIC...|   9944201|       1284000|                       7,7|                        0,00|        -0,11|                             93,82|              1200|        47,5|              1,3|      2,86|     0,02|    97,12|      2|    45,73|    16,38|      0,335|   0,259|  0,406|       Africa|               Chad|\n",
            "|      2900|   Wallblake Airport|          The Valley|Anguilla| AXA|TQPF|   18.2048|  -63.0551|     127|      -4|  U|     America/Anguilla|airport|OurAirports|Anguilla |LATIN AMER. & CAR...|     13477|           102|                     132,1|                       59,80|        10,76|                             21,03|              8600|        95,0|            460,0|         0|        0|      100|      2|    14,17|     5,34|       0,04|    0,18|   0,78|South America|           Anguilla|\n",
            "|      2699|Silvio Pettirossi...|            Asuncion|Paraguay| ASU|SGAS|    -25.24|    -57.52|     292|      -4|  S|     America/Asuncion|airport|OurAirports|Paraguay |LATIN AMER. & CAR...|   6506464|        406750|                      16,0|                        0,00|        -0,08|                             25,63|              4700|        94,0|             49,2|       7,6|     0,23|    92,17|      2|     29,1|     4,49|      0,224|   0,207|  0,569|South America|           Paraguay|\n",
            "|      2700|Juan De Ayolas Ai...|              Ayolas|Paraguay|  \\N|SGAY|-27.370554|-56.854065|     223|      -4|  S|     America/Asuncion|airport|OurAirports|Paraguay |LATIN AMER. & CAR...|   6506464|        406750|                      16,0|                        0,00|        -0,08|                             25,63|              4700|        94,0|             49,2|       7,6|     0,23|    92,17|      2|     29,1|     4,49|      0,224|   0,207|  0,569|South America|           Paraguay|\n",
            "|      2701|Teniente Col Carm...|          Conception|Paraguay| CIO|SGCO|-23.442364|-57.427254|     253|      -4|  S|     America/Asuncion|airport|OurAirports|Paraguay |LATIN AMER. & CAR...|   6506464|        406750|                      16,0|                        0,00|        -0,08|                             25,63|              4700|        94,0|             49,2|       7,6|     0,23|    92,17|      2|     29,1|     4,49|      0,224|   0,207|  0,569|South America|           Paraguay|\n",
            "|      2702|      Itaipú Airport|              Itaipu|Paraguay|  \\N|SGIB|-25.407518|-54.619377|     762|      -4|  S|     America/Asuncion|airport|OurAirports|Paraguay |LATIN AMER. & CAR...|   6506464|        406750|                      16,0|                        0,00|        -0,08|                             25,63|              4700|        94,0|             49,2|       7,6|     0,23|    92,17|      2|     29,1|     4,49|      0,224|   0,207|  0,569|South America|           Paraguay|\n",
            "|      2703|Dr. Luis Maria Ar...|Mariscal Estigarr...|Paraguay|  \\N|SGME|    -22.05|    -60.62|     553|      -4|  S|     America/Asuncion|airport|OurAirports|Paraguay |LATIN AMER. & CAR...|   6506464|        406750|                      16,0|                        0,00|        -0,08|                             25,63|              4700|        94,0|             49,2|       7,6|     0,23|    92,17|      2|     29,1|     4,49|      0,224|   0,207|  0,569|South America|           Paraguay|\n",
            "|      2704|Carlos Miguel Gim...|               Pilar|Paraguay|  \\N|SGPI|-26.881224|-58.318027|     249|      -4|  S|     America/Asuncion|airport|OurAirports|Paraguay |LATIN AMER. & CAR...|   6506464|        406750|                      16,0|                        0,00|        -0,08|                             25,63|              4700|        94,0|             49,2|       7,6|     0,23|    92,17|      2|     29,1|     4,49|      0,224|   0,207|  0,569|South America|           Paraguay|\n",
            "|      4305|Guarani Internati...|     Ciudad del Este|Paraguay| AGT|SGES|-25.454515| -54.84268|     846|      -4|  S|     America/Asuncion|airport|OurAirports|Paraguay |LATIN AMER. & CAR...|   6506464|        406750|                      16,0|                        0,00|        -0,08|                             25,63|              4700|        94,0|             49,2|       7,6|     0,23|    92,17|      2|     29,1|     4,49|      0,224|   0,207|  0,569|South America|           Paraguay|\n",
            "|      7353|Dr Augusto Robert...|Pedro Juan Caballero|Paraguay| PJC|SGPJ|    -22.64|    -55.83|    1873|      -4|  U|     America/Asuncion|airport|OurAirports|Paraguay |LATIN AMER. & CAR...|   6506464|        406750|                      16,0|                        0,00|        -0,08|                             25,63|              4700|        94,0|             49,2|       7,6|     0,23|    92,17|      2|     29,1|     4,49|      0,224|   0,207|  0,569|South America|           Paraguay|\n",
            "|      2923|     Yakutsk Airport|             Yakutsk|  Russia| YKS|UEEE|   62.0933|   129.771|     325|       9|  N|         Asia/Yakutsk|airport|OurAirports|  Russia |C.W. OF IND. STATES | 142893540|      17075200|                       8,4|                        0,22|         1,02|                             15,39|              8900|        99,6|            280,6|      7,33|     0,11|    92,56|   null|     9,95|    14,65|      0,054|   0,371|  0,575|         Asia|             Russia|\n",
            "|      2925|       Mirny Airport|              Mirnyj|  Russia| MJZ|UERR|   62.5347|   114.039|    1156|       9|  N|         Asia/Yakutsk|airport|OurAirports|  Russia |C.W. OF IND. STATES | 142893540|      17075200|                       8,4|                        0,22|         1,02|                             15,39|              8900|        99,6|            280,6|      7,33|     0,11|    92,56|   null|     9,95|    14,65|      0,054|   0,371|  0,575|         Asia|             Russia|\n",
            "|      2926|   Ignatyevo Airport|      Blagoveschensk|  Russia| BQS|UHBB|   50.4254|   127.412|     638|       9|  N|         Asia/Yakutsk|airport|OurAirports|  Russia |C.W. OF IND. STATES | 142893540|      17075200|                       8,4|                        0,22|         1,02|                             15,39|              8900|        99,6|            280,6|      7,33|     0,11|    92,56|   null|     9,95|    14,65|      0,054|   0,371|  0,575|         Asia|             Russia|\n",
            "|      2927|Khabarovsk-Novy A...|          Khabarovsk|  Russia| KHV|UHHH|    48.528|   135.188|     244|      10|  N|     Asia/Vladivostok|airport|OurAirports|  Russia |C.W. OF IND. STATES | 142893540|      17075200|                       8,4|                        0,22|         1,02|                             15,39|              8900|        99,6|            280,6|      7,33|     0,11|    92,56|   null|     9,95|    14,65|      0,054|   0,371|  0,575|         Asia|             Russia|\n",
            "|      2929|Provideniya Bay A...|     Provideniya Bay|  Russia| PVS|UHMD|   64.3781|  -173.243|      72|      12|  N|          Asia/Anadyr|airport|OurAirports|  Russia |C.W. OF IND. STATES | 142893540|      17075200|                       8,4|                        0,22|         1,02|                             15,39|              8900|        99,6|            280,6|      7,33|     0,11|    92,56|   null|     9,95|    14,65|      0,054|   0,371|  0,575|         Asia|             Russia|\n",
            "+----------+--------------------+--------------------+--------+----+----+----------+----------+--------+--------+---+---------------------+-------+-----------+---------+--------------------+----------+--------------+--------------------------+----------------------------+-------------+----------------------------------+------------------+------------+-----------------+----------+---------+---------+-------+---------+---------+-----------+--------+-------+-------------+-------------------+\n",
            "only showing top 20 rows\n",
            "\n"
          ]
        }
      ]
    },
    {
      "cell_type": "code",
      "metadata": {
        "colab": {
          "base_uri": "https://localhost:8080/",
          "height": 269
        },
        "id": "ObxJWb0sJAvV",
        "outputId": "0511f38f-958e-45c2-95e7-0aab5ea428cb"
      },
      "source": [
        "df = countries_airports.select(\"Continent\").filter(countries_airports.Continent.isNotNull()).groupBy(\"Continent\").count().toPandas().sort_values(by=['count'])\n",
        "df"
      ],
      "execution_count": 135,
      "outputs": [
        {
          "output_type": "execute_result",
          "data": {
            "text/html": [
              "<div>\n",
              "<style scoped>\n",
              "    .dataframe tbody tr th:only-of-type {\n",
              "        vertical-align: middle;\n",
              "    }\n",
              "\n",
              "    .dataframe tbody tr th {\n",
              "        vertical-align: top;\n",
              "    }\n",
              "\n",
              "    .dataframe thead th {\n",
              "        text-align: right;\n",
              "    }\n",
              "</style>\n",
              "<table border=\"1\" class=\"dataframe\">\n",
              "  <thead>\n",
              "    <tr style=\"text-align: right;\">\n",
              "      <th></th>\n",
              "      <th>Continent</th>\n",
              "      <th>count</th>\n",
              "    </tr>\n",
              "  </thead>\n",
              "  <tbody>\n",
              "    <tr>\n",
              "      <th>4</th>\n",
              "      <td>Antarctica</td>\n",
              "      <td>7</td>\n",
              "    </tr>\n",
              "    <tr>\n",
              "      <th>2</th>\n",
              "      <td>Autralia/Oceania</td>\n",
              "      <td>545</td>\n",
              "    </tr>\n",
              "    <tr>\n",
              "      <th>1</th>\n",
              "      <td>Africa</td>\n",
              "      <td>707</td>\n",
              "    </tr>\n",
              "    <tr>\n",
              "      <th>5</th>\n",
              "      <td>South America</td>\n",
              "      <td>969</td>\n",
              "    </tr>\n",
              "    <tr>\n",
              "      <th>0</th>\n",
              "      <td>Europe</td>\n",
              "      <td>1395</td>\n",
              "    </tr>\n",
              "    <tr>\n",
              "      <th>6</th>\n",
              "      <td>Asia</td>\n",
              "      <td>1663</td>\n",
              "    </tr>\n",
              "    <tr>\n",
              "      <th>3</th>\n",
              "      <td>North America</td>\n",
              "      <td>1877</td>\n",
              "    </tr>\n",
              "  </tbody>\n",
              "</table>\n",
              "</div>"
            ],
            "text/plain": [
              "          Continent  count\n",
              "4        Antarctica      7\n",
              "2  Autralia/Oceania    545\n",
              "1            Africa    707\n",
              "5     South America    969\n",
              "0            Europe   1395\n",
              "6              Asia   1663\n",
              "3     North America   1877"
            ]
          },
          "metadata": {},
          "execution_count": 135
        }
      ]
    },
    {
      "cell_type": "code",
      "metadata": {
        "colab": {
          "base_uri": "https://localhost:8080/",
          "height": 729
        },
        "id": "__ky0Y2tP3eH",
        "outputId": "e6e28011-122e-48b5-f54b-e253791ab48b"
      },
      "source": [
        "df.plot.bar(x='Continent',y='count',rot=0, title='Number of airports per continent')"
      ],
      "execution_count": 136,
      "outputs": [
        {
          "output_type": "execute_result",
          "data": {
            "text/plain": [
              "<matplotlib.axes._subplots.AxesSubplot at 0x7f294a1a8a50>"
            ]
          },
          "metadata": {},
          "execution_count": 136
        },
        {
          "output_type": "display_data",
          "data": {
            "image/png": "[encoded data removed]",
            "text/plain": [
              "<Figure size 1000x800 with 1 Axes>"
            ]
          },
          "metadata": {}
        }
      ]
    }
  ]
}