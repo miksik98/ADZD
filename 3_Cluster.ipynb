{
 "cells": [
  {
   "cell_type": "markdown",
   "id": "36a4acfe",
   "metadata": {},
   "source": [
    "# Laboratorium 3\n",
    "Mikołaj Sikora"
   ]
  },
  {
   "cell_type": "code",
   "execution_count": 1,
   "id": "29fedc09",
   "metadata": {},
   "outputs": [
    {
     "data": {
      "application/vnd.jupyter.widget-view+json": {
       "model_id": "753ef209490d4aa79c77c820fb0964ca",
       "version_major": 2,
       "version_minor": 0
      },
      "text/plain": [
       "VBox()"
      ]
     },
     "metadata": {},
     "output_type": "display_data"
    },
    {
     "name": "stdout",
     "output_type": "stream",
     "text": [
      "Starting Spark application\n"
     ]
    },
    {
     "data": {
      "text/html": [
       "<table>\n",
       "<tr><th>ID</th><th>YARN Application ID</th><th>Kind</th><th>State</th><th>Spark UI</th><th>Driver log</th><th>Current session?</th></tr><tr><td>0</td><td>application_1637196446032_0001</td><td>pyspark</td><td>idle</td><td><a target=\"_blank\" href=\"http://ip-172-31-87-125.ec2.internal:20888/proxy/application_1637196446032_0001/\">Link</a></td><td><a target=\"_blank\" href=\"http://ip-172-31-85-184.ec2.internal:8042/node/containerlogs/container_1637196446032_0001_01_000001/livy\">Link</a></td><td>✔</td></tr></table>"
      ],
      "text/plain": [
       "<IPython.core.display.HTML object>"
      ]
     },
     "metadata": {},
     "output_type": "display_data"
    },
    {
     "data": {
      "application/vnd.jupyter.widget-view+json": {
       "model_id": "",
       "version_major": 2,
       "version_minor": 0
      },
      "text/plain": [
       "FloatProgress(value=0.0, bar_style='info', description='Progress:', layout=Layout(height='25px', width='50%'),…"
      ]
     },
     "metadata": {},
     "output_type": "display_data"
    },
    {
     "name": "stdout",
     "output_type": "stream",
     "text": [
      "SparkSession available as 'spark'.\n"
     ]
    },
    {
     "data": {
      "application/vnd.jupyter.widget-view+json": {
       "model_id": "",
       "version_major": 2,
       "version_minor": 0
      },
      "text/plain": [
       "FloatProgress(value=0.0, bar_style='info', description='Progress:', layout=Layout(height='25px', width='50%'),…"
      ]
     },
     "metadata": {},
     "output_type": "display_data"
    }
   ],
   "source": [
    "from pyspark.sql import SparkSession, SQLContext\n",
    "from pyspark.conf import SparkConf\n",
    "conf = SparkConf()\n",
    "spark = SparkSession.builder.config(conf=conf).getOrCreate()"
   ]
  },
  {
   "cell_type": "code",
   "execution_count": 2,
   "id": "bd160a85",
   "metadata": {},
   "outputs": [
    {
     "data": {
      "application/vnd.jupyter.widget-view+json": {
       "model_id": "1b002e342a2340a8850867acc9630db3",
       "version_major": 2,
       "version_minor": 0
      },
      "text/plain": [
       "VBox()"
      ]
     },
     "metadata": {},
     "output_type": "display_data"
    },
    {
     "data": {
      "application/vnd.jupyter.widget-view+json": {
       "model_id": "",
       "version_major": 2,
       "version_minor": 0
      },
      "text/plain": [
       "FloatProgress(value=0.0, bar_style='info', description='Progress:', layout=Layout(height='25px', width='50%'),…"
      ]
     },
     "metadata": {},
     "output_type": "display_data"
    }
   ],
   "source": [
    "smog_df = spark.read.json(\"s3a://openaq-fetches/realtime/2021-10-20/*\")"
   ]
  },
  {
   "cell_type": "code",
   "execution_count": 3,
   "id": "9078712d",
   "metadata": {},
   "outputs": [
    {
     "data": {
      "application/vnd.jupyter.widget-view+json": {
       "model_id": "9df9d732b04e47e0bf524de4ff991975",
       "version_major": 2,
       "version_minor": 0
      },
      "text/plain": [
       "VBox()"
      ]
     },
     "metadata": {},
     "output_type": "display_data"
    },
    {
     "data": {
      "application/vnd.jupyter.widget-view+json": {
       "model_id": "",
       "version_major": 2,
       "version_minor": 0
      },
      "text/plain": [
       "FloatProgress(value=0.0, bar_style='info', description='Progress:', layout=Layout(height='25px', width='50%'),…"
      ]
     },
     "metadata": {},
     "output_type": "display_data"
    },
    {
     "name": "stdout",
     "output_type": "stream",
     "text": [
      "root\n",
      " |-- attribution: array (nullable = true)\n",
      " |    |-- element: struct (containsNull = true)\n",
      " |    |    |-- name: string (nullable = true)\n",
      " |    |    |-- url: string (nullable = true)\n",
      " |-- averagingPeriod: struct (nullable = true)\n",
      " |    |-- unit: string (nullable = true)\n",
      " |    |-- value: double (nullable = true)\n",
      " |-- city: string (nullable = true)\n",
      " |-- coordinates: struct (nullable = true)\n",
      " |    |-- latitude: double (nullable = true)\n",
      " |    |-- longitude: double (nullable = true)\n",
      " |-- country: string (nullable = true)\n",
      " |-- date: struct (nullable = true)\n",
      " |    |-- local: string (nullable = true)\n",
      " |    |-- utc: string (nullable = true)\n",
      " |-- location: string (nullable = true)\n",
      " |-- mobile: boolean (nullable = true)\n",
      " |-- parameter: string (nullable = true)\n",
      " |-- sourceName: string (nullable = true)\n",
      " |-- sourceType: string (nullable = true)\n",
      " |-- unit: string (nullable = true)\n",
      " |-- value: double (nullable = true)"
     ]
    }
   ],
   "source": [
    "smog_df.printSchema()"
   ]
  },
  {
   "cell_type": "code",
   "execution_count": 4,
   "id": "bed91240",
   "metadata": {},
   "outputs": [
    {
     "data": {
      "application/vnd.jupyter.widget-view+json": {
       "model_id": "ae2602c5d1634430a065b73d63641f81",
       "version_major": 2,
       "version_minor": 0
      },
      "text/plain": [
       "VBox()"
      ]
     },
     "metadata": {},
     "output_type": "display_data"
    },
    {
     "data": {
      "application/vnd.jupyter.widget-view+json": {
       "model_id": "",
       "version_major": 2,
       "version_minor": 0
      },
      "text/plain": [
       "FloatProgress(value=0.0, bar_style='info', description='Progress:', layout=Layout(height='25px', width='50%'),…"
      ]
     },
     "metadata": {},
     "output_type": "display_data"
    },
    {
     "name": "stdout",
     "output_type": "stream",
     "text": [
      "3683301"
     ]
    }
   ],
   "source": [
    "smog_df.count()"
   ]
  },
  {
   "cell_type": "code",
   "execution_count": 2,
   "id": "1ef20d50",
   "metadata": {},
   "outputs": [
    {
     "data": {
      "application/vnd.jupyter.widget-view+json": {
       "model_id": "a3324e9894dc4d129d78753da97c266a",
       "version_major": 2,
       "version_minor": 0
      },
      "text/plain": [
       "VBox()"
      ]
     },
     "metadata": {},
     "output_type": "display_data"
    },
    {
     "data": {
      "application/vnd.jupyter.widget-view+json": {
       "model_id": "",
       "version_major": 2,
       "version_minor": 0
      },
      "text/plain": [
       "FloatProgress(value=0.0, bar_style='info', description='Progress:', layout=Layout(height='25px', width='50%'),…"
      ]
     },
     "metadata": {},
     "output_type": "display_data"
    },
    {
     "name": "stderr",
     "output_type": "stream",
     "text": [
      "name 'smog_df' is not defined\n",
      "Traceback (most recent call last):\n",
      "NameError: name 'smog_df' is not defined\n",
      "\n"
     ]
    }
   ],
   "source": [
    "smog_df.select('parameter').distinct().toPandas()"
   ]
  },
  {
   "cell_type": "code",
   "execution_count": 3,
   "id": "07c31227",
   "metadata": {},
   "outputs": [
    {
     "data": {
      "application/vnd.jupyter.widget-view+json": {
       "model_id": "19a1e009e20343f9a0c36fa87aebb01e",
       "version_major": 2,
       "version_minor": 0
      },
      "text/plain": [
       "VBox()"
      ]
     },
     "metadata": {},
     "output_type": "display_data"
    },
    {
     "data": {
      "application/vnd.jupyter.widget-view+json": {
       "model_id": "",
       "version_major": 2,
       "version_minor": 0
      },
      "text/plain": [
       "FloatProgress(value=0.0, bar_style='info', description='Progress:', layout=Layout(height='25px', width='50%'),…"
      ]
     },
     "metadata": {},
     "output_type": "display_data"
    },
    {
     "name": "stdout",
     "output_type": "stream",
     "text": [
      "Collecting pandas==0.25.1\n",
      "  Downloading https://files.pythonhosted.org/packages/7e/ab/ea76361f9d3e732e114adcd801d2820d5319c23d0ac5482fa3b412db217e/pandas-0.25.1-cp37-cp37m-manylinux1_x86_64.whl (10.4MB)\n",
      "Requirement already satisfied: pytz>=2017.2 in /usr/local/lib/python3.7/site-packages (from pandas==0.25.1)\n",
      "Requirement already satisfied: numpy>=1.13.3 in /usr/local/lib64/python3.7/site-packages (from pandas==0.25.1)\n",
      "Collecting python-dateutil>=2.6.1 (from pandas==0.25.1)\n",
      "  Downloading https://files.pythonhosted.org/packages/36/7a/87837f39d0296e723bb9b62bbb257d0355c7f6128853c78955f57342a56d/python_dateutil-2.8.2-py2.py3-none-any.whl (247kB)\n",
      "Requirement already satisfied: six>=1.5 in /usr/local/lib/python3.7/site-packages (from python-dateutil>=2.6.1->pandas==0.25.1)\n",
      "Installing collected packages: python-dateutil, pandas\n",
      "Successfully installed pandas-0.25.1 python-dateutil-2.8.2"
     ]
    }
   ],
   "source": [
    "sc.install_pypi_package(\"pandas==0.25.1\")"
   ]
  },
  {
   "cell_type": "code",
   "execution_count": 4,
   "id": "b04447ed",
   "metadata": {},
   "outputs": [
    {
     "data": {
      "application/vnd.jupyter.widget-view+json": {
       "model_id": "691f10d878ab48c9a81d94c1c5d43edc",
       "version_major": 2,
       "version_minor": 0
      },
      "text/plain": [
       "VBox()"
      ]
     },
     "metadata": {},
     "output_type": "display_data"
    },
    {
     "data": {
      "application/vnd.jupyter.widget-view+json": {
       "model_id": "",
       "version_major": 2,
       "version_minor": 0
      },
      "text/plain": [
       "FloatProgress(value=0.0, bar_style='info', description='Progress:', layout=Layout(height='25px', width='50%'),…"
      ]
     },
     "metadata": {},
     "output_type": "display_data"
    },
    {
     "name": "stdout",
     "output_type": "stream",
     "text": [
      "Collecting kiwisolver==1.2.0\n",
      "  Downloading https://files.pythonhosted.org/packages/31/b9/6202dcae729998a0ade30e80ac00f616542ef445b088ec970d407dfd41c0/kiwisolver-1.2.0-cp37-cp37m-manylinux1_x86_64.whl (88kB)\n",
      "Installing collected packages: kiwisolver\n",
      "Successfully installed kiwisolver-1.2.0"
     ]
    }
   ],
   "source": [
    "sc.install_pypi_package(\"kiwisolver==1.2.0\")"
   ]
  },
  {
   "cell_type": "code",
   "execution_count": 5,
   "id": "477f327f",
   "metadata": {},
   "outputs": [
    {
     "data": {
      "application/vnd.jupyter.widget-view+json": {
       "model_id": "bbcf9844c9f04dc3bbca0afa2c96ec97",
       "version_major": 2,
       "version_minor": 0
      },
      "text/plain": [
       "VBox()"
      ]
     },
     "metadata": {},
     "output_type": "display_data"
    },
    {
     "data": {
      "application/vnd.jupyter.widget-view+json": {
       "model_id": "",
       "version_major": 2,
       "version_minor": 0
      },
      "text/plain": [
       "FloatProgress(value=0.0, bar_style='info', description='Progress:', layout=Layout(height='25px', width='50%'),…"
      ]
     },
     "metadata": {},
     "output_type": "display_data"
    },
    {
     "name": "stdout",
     "output_type": "stream",
     "text": [
      "Collecting matplotlib==3.1.1\n",
      "  Downloading https://files.pythonhosted.org/packages/19/7a/60bd79c5d79559150f8bba866dd7d434f0a170312e4d15e8aefa5faba294/matplotlib-3.1.1-cp37-cp37m-manylinux1_x86_64.whl (13.1MB)\n",
      "Requirement already satisfied: python-dateutil>=2.1 in /mnt/tmp/1637196767728-0/lib/python3.7/site-packages (from matplotlib==3.1.1)\n",
      "Collecting pyparsing!=2.0.4,!=2.1.2,!=2.1.6,>=2.0.1 (from matplotlib==3.1.1)\n",
      "  Downloading https://files.pythonhosted.org/packages/a0/34/895006117f6fce0b4de045c87e154ee4a20c68ec0a4c9a36d900888fb6bc/pyparsing-3.0.6-py3-none-any.whl (97kB)\n",
      "Collecting cycler>=0.10 (from matplotlib==3.1.1)\n",
      "  Downloading https://files.pythonhosted.org/packages/5c/f9/695d6bedebd747e5eb0fe8fad57b72fdf25411273a39791cde838d5a8f51/cycler-0.11.0-py3-none-any.whl\n",
      "Requirement already satisfied: numpy>=1.11 in /usr/local/lib64/python3.7/site-packages (from matplotlib==3.1.1)\n",
      "Requirement already satisfied: kiwisolver>=1.0.1 in /mnt/tmp/1637196767728-0/lib/python3.7/site-packages (from matplotlib==3.1.1)\n",
      "Requirement already satisfied: six>=1.5 in /usr/local/lib/python3.7/site-packages (from python-dateutil>=2.1->matplotlib==3.1.1)\n",
      "Installing collected packages: pyparsing, cycler, matplotlib\n",
      "Successfully installed cycler-0.11.0 matplotlib-3.1.1 pyparsing-3.0.6"
     ]
    }
   ],
   "source": [
    "sc.install_pypi_package(\"matplotlib==3.1.1\")"
   ]
  },
  {
   "cell_type": "code",
   "execution_count": 6,
   "id": "84f4d8f8",
   "metadata": {},
   "outputs": [
    {
     "data": {
      "application/vnd.jupyter.widget-view+json": {
       "model_id": "24b94369895b46359cdfc34ff3180466",
       "version_major": 2,
       "version_minor": 0
      },
      "text/plain": [
       "VBox()"
      ]
     },
     "metadata": {},
     "output_type": "display_data"
    },
    {
     "data": {
      "application/vnd.jupyter.widget-view+json": {
       "model_id": "",
       "version_major": 2,
       "version_minor": 0
      },
      "text/plain": [
       "FloatProgress(value=0.0, bar_style='info', description='Progress:', layout=Layout(height='25px', width='50%'),…"
      ]
     },
     "metadata": {},
     "output_type": "display_data"
    },
    {
     "name": "stdout",
     "output_type": "stream",
     "text": [
      "Collecting chart_studio\n",
      "  Downloading https://files.pythonhosted.org/packages/ca/ce/330794a6b6ca4b9182c38fc69dd2a9cbff60fd49421cb8648ee5fee352dc/chart_studio-1.1.0-py3-none-any.whl (64kB)\n",
      "Collecting plotly (from chart_studio)\n",
      "  Downloading https://files.pythonhosted.org/packages/c3/93/54aba8840f511c625937c77dfe5d496aa38371412da07e7a08e6c40094c7/plotly-5.4.0-py2.py3-none-any.whl (25.3MB)\n",
      "Requirement already satisfied: six in /usr/local/lib/python3.7/site-packages (from chart_studio)\n",
      "Collecting requests (from chart_studio)\n",
      "  Downloading https://files.pythonhosted.org/packages/92/96/144f70b972a9c0eabbd4391ef93ccd49d0f2747f4f6a2a2738e99e5adc65/requests-2.26.0-py2.py3-none-any.whl (62kB)\n",
      "Collecting retrying>=1.3.3 (from chart_studio)\n",
      "  Downloading https://files.pythonhosted.org/packages/44/ef/beae4b4ef80902f22e3af073397f079c96969c69b2c7d52a57ea9ae61c9d/retrying-1.3.3.tar.gz\n",
      "Collecting tenacity>=6.2.0 (from plotly->chart_studio)\n",
      "  Downloading https://files.pythonhosted.org/packages/f2/a5/f86bc8d67c979020438c8559cc70cfe3a1643fd160d35e09c9cca6a09189/tenacity-8.0.1-py3-none-any.whl\n",
      "Collecting idna<4,>=2.5; python_version >= \"3\" (from requests->chart_studio)\n",
      "  Downloading https://files.pythonhosted.org/packages/04/a2/d918dcd22354d8958fe113e1a3630137e0fc8b44859ade3063982eacd2a4/idna-3.3-py3-none-any.whl (61kB)\n",
      "Collecting urllib3<1.27,>=1.21.1 (from requests->chart_studio)\n",
      "  Downloading https://files.pythonhosted.org/packages/af/f4/524415c0744552cce7d8bf3669af78e8a069514405ea4fcbd0cc44733744/urllib3-1.26.7-py2.py3-none-any.whl (138kB)\n",
      "Collecting charset-normalizer~=2.0.0; python_version >= \"3\" (from requests->chart_studio)\n",
      "  Downloading https://files.pythonhosted.org/packages/de/c8/820b1546c68efcbbe3c1b10dd925fbd84a0dda7438bc18db0ef1fa567733/charset_normalizer-2.0.7-py3-none-any.whl\n",
      "Collecting certifi>=2017.4.17 (from requests->chart_studio)\n",
      "  Downloading https://files.pythonhosted.org/packages/37/45/946c02767aabb873146011e665728b680884cd8fe70dde973c640e45b775/certifi-2021.10.8-py2.py3-none-any.whl (149kB)\n",
      "Building wheels for collected packages: retrying\n",
      "  Running setup.py bdist_wheel for retrying: started\n",
      "  Running setup.py bdist_wheel for retrying: finished with status 'done'\n",
      "  Stored in directory: /var/lib/livy/.cache/pip/wheels/d7/a9/33/acc7b709e2a35caa7d4cae442f6fe6fbf2c43f80823d46460c\n",
      "Successfully built retrying\n",
      "Installing collected packages: tenacity, plotly, idna, urllib3, charset-normalizer, certifi, requests, retrying, chart-studio\n",
      "Successfully installed certifi-2021.10.8 charset-normalizer-2.0.7 chart-studio-1.1.0 idna-3.3 plotly-5.4.0 requests-2.26.0 retrying-1.3.3 tenacity-8.0.1 urllib3-1.26.7"
     ]
    }
   ],
   "source": [
    "sc.install_pypi_package(\"chart_studio\")"
   ]
  },
  {
   "cell_type": "code",
   "execution_count": 7,
   "id": "40f1481f",
   "metadata": {},
   "outputs": [
    {
     "data": {
      "application/vnd.jupyter.widget-view+json": {
       "model_id": "fd0fa83d17c041be99cc4b3c55069c0a",
       "version_major": 2,
       "version_minor": 0
      },
      "text/plain": [
       "VBox()"
      ]
     },
     "metadata": {},
     "output_type": "display_data"
    },
    {
     "data": {
      "application/vnd.jupyter.widget-view+json": {
       "model_id": "",
       "version_major": 2,
       "version_minor": 0
      },
      "text/plain": [
       "FloatProgress(value=0.0, bar_style='info', description='Progress:', layout=Layout(height='25px', width='50%'),…"
      ]
     },
     "metadata": {},
     "output_type": "display_data"
    },
    {
     "name": "stdout",
     "output_type": "stream",
     "text": [
      "Collecting iso3166\n",
      "  Downloading https://files.pythonhosted.org/packages/32/d8/1fc7d9f5b11b4490c8a9ac9fd79efb466e142468428b71dea42d5756e257/iso3166-2.0.2-py3-none-any.whl\n",
      "Installing collected packages: iso3166\n",
      "Successfully installed iso3166-2.0.2"
     ]
    }
   ],
   "source": [
    "sc.install_pypi_package(\"iso3166\")"
   ]
  },
  {
   "cell_type": "code",
   "execution_count": 7,
   "id": "c206b13f",
   "metadata": {},
   "outputs": [
    {
     "data": {
      "application/vnd.jupyter.widget-view+json": {
       "model_id": "e2fa76c8640844b2814f811c6e8a2bb0",
       "version_major": 2,
       "version_minor": 0
      },
      "text/plain": [
       "VBox()"
      ]
     },
     "metadata": {},
     "output_type": "display_data"
    },
    {
     "data": {
      "application/vnd.jupyter.widget-view+json": {
       "model_id": "",
       "version_major": 2,
       "version_minor": 0
      },
      "text/plain": [
       "FloatProgress(value=0.0, bar_style='info', description='Progress:', layout=Layout(height='25px', width='50%'),…"
      ]
     },
     "metadata": {},
     "output_type": "display_data"
    },
    {
     "name": "stdout",
     "output_type": "stream",
     "text": [
      "Package                    Version  \n",
      "-------------------------- ---------\n",
      "beautifulsoup4             4.9.1    \n",
      "boto                       2.49.0   \n",
      "certifi                    2021.10.8\n",
      "charset-normalizer         2.0.7    \n",
      "chart-studio               1.1.0    \n",
      "click                      7.1.2    \n",
      "cycler                     0.11.0   \n",
      "idna                       3.3      \n",
      "iso3166                    2.0.2    \n",
      "jmespath                   0.10.0   \n",
      "joblib                     0.15.1   \n",
      "kiwisolver                 1.2.0    \n",
      "lxml                       4.5.1    \n",
      "matplotlib                 3.1.1    \n",
      "mysqlclient                1.4.2    \n",
      "nltk                       3.5      \n",
      "nose                       1.3.4    \n",
      "numpy                      1.16.5   \n",
      "pandas                     0.25.1   \n",
      "pip                        9.0.1    \n",
      "plotly                     5.4.0    \n",
      "py-dateutil                2.2      \n",
      "pyparsing                  3.0.6    \n",
      "python-dateutil            2.8.2    \n",
      "python37-sagemaker-pyspark 1.3.0    \n",
      "pytz                       2020.1   \n",
      "PyYAML                     5.3.1    \n",
      "regex                      2020.6.8 \n",
      "requests                   2.26.0   \n",
      "retrying                   1.3.3    \n",
      "setuptools                 28.8.0   \n",
      "six                        1.13.0   \n",
      "soupsieve                  1.9.5    \n",
      "tenacity                   8.0.1    \n",
      "tqdm                       4.46.1   \n",
      "urllib3                    1.26.7   \n",
      "wheel                      0.29.0   \n",
      "windmill                   1.6"
     ]
    }
   ],
   "source": [
    "sc.list_packages()"
   ]
  },
  {
   "cell_type": "code",
   "execution_count": 12,
   "id": "1b8bb69e",
   "metadata": {},
   "outputs": [
    {
     "data": {
      "application/vnd.jupyter.widget-view+json": {
       "model_id": "68094861f5ac40a8a9d65b6495cc791c",
       "version_major": 2,
       "version_minor": 0
      },
      "text/plain": [
       "VBox()"
      ]
     },
     "metadata": {},
     "output_type": "display_data"
    },
    {
     "data": {
      "application/vnd.jupyter.widget-view+json": {
       "model_id": "",
       "version_major": 2,
       "version_minor": 0
      },
      "text/plain": [
       "FloatProgress(value=0.0, bar_style='info', description='Progress:', layout=Layout(height='25px', width='50%'),…"
      ]
     },
     "metadata": {},
     "output_type": "display_data"
    },
    {
     "name": "stdout",
     "output_type": "stream",
     "text": [
      "   country\n",
      "0       DZ\n",
      "1       FI\n",
      "2       MN\n",
      "3       MX\n",
      "4       CZ\n",
      "..     ...\n",
      "88      PE\n",
      "89      TH\n",
      "90      MA\n",
      "91      NO\n",
      "92      AF\n",
      "\n",
      "[93 rows x 1 columns]"
     ]
    }
   ],
   "source": [
    "smog_df.select('country').distinct().toPandas()"
   ]
  },
  {
   "cell_type": "code",
   "execution_count": 8,
   "id": "f14ca9a8",
   "metadata": {},
   "outputs": [
    {
     "data": {
      "application/vnd.jupyter.widget-view+json": {
       "model_id": "bcbf097254774d95a5b0b76b3640a68f",
       "version_major": 2,
       "version_minor": 0
      },
      "text/plain": [
       "VBox()"
      ]
     },
     "metadata": {},
     "output_type": "display_data"
    },
    {
     "data": {
      "application/vnd.jupyter.widget-view+json": {
       "model_id": "",
       "version_major": 2,
       "version_minor": 0
      },
      "text/plain": [
       "FloatProgress(value=0.0, bar_style='info', description='Progress:', layout=Layout(height='25px', width='50%'),…"
      ]
     },
     "metadata": {},
     "output_type": "display_data"
    }
   ],
   "source": [
    "from pyspark.sql.functions import col, asc, max as _max, mean as _mean"
   ]
  },
  {
   "cell_type": "code",
   "execution_count": 14,
   "id": "6d15aa9d",
   "metadata": {},
   "outputs": [
    {
     "data": {
      "application/vnd.jupyter.widget-view+json": {
       "model_id": "f692c2aee1d34e408be664c6353e707f",
       "version_major": 2,
       "version_minor": 0
      },
      "text/plain": [
       "VBox()"
      ]
     },
     "metadata": {},
     "output_type": "display_data"
    },
    {
     "data": {
      "application/vnd.jupyter.widget-view+json": {
       "model_id": "",
       "version_major": 2,
       "version_minor": 0
      },
      "text/plain": [
       "FloatProgress(value=0.0, bar_style='info', description='Progress:', layout=Layout(height='25px', width='50%'),…"
      ]
     },
     "metadata": {},
     "output_type": "display_data"
    },
    {
     "name": "stdout",
     "output_type": "stream",
     "text": [
      "            city\n",
      "0       Jarosław\n",
      "1         Rybnik\n",
      "2      Widuchowa\n",
      "3           Łódź\n",
      "4         Ustroń\n",
      "..           ...\n",
      "165     Szymbark\n",
      "166        Tychy\n",
      "167        Opole\n",
      "168     Zielonka\n",
      "169  Dzierżoniów\n",
      "\n",
      "[170 rows x 1 columns]"
     ]
    }
   ],
   "source": [
    "smog_df.filter(col('country')=='PL').select('city').distinct().toPandas()"
   ]
  },
  {
   "cell_type": "markdown",
   "id": "9a4d1408",
   "metadata": {},
   "source": [
    "## Znajdź miasta w Polsce, w których średnie stężenie pyłu “pm10” było niższe niż maksymalne stężenie w Berlinie (w całym badanym okresie). Obliczenia wykonaj dla danych z kilku dni. Wyniki posortuj malejąco po stężeniu pm10.\n"
   ]
  },
  {
   "cell_type": "code",
   "execution_count": 9,
   "id": "fc2afbe1",
   "metadata": {},
   "outputs": [
    {
     "data": {
      "application/vnd.jupyter.widget-view+json": {
       "model_id": "28fb8cb0126c4dd9a4bb33c9d293e77c",
       "version_major": 2,
       "version_minor": 0
      },
      "text/plain": [
       "VBox()"
      ]
     },
     "metadata": {},
     "output_type": "display_data"
    },
    {
     "data": {
      "application/vnd.jupyter.widget-view+json": {
       "model_id": "",
       "version_major": 2,
       "version_minor": 0
      },
      "text/plain": [
       "FloatProgress(value=0.0, bar_style='info', description='Progress:', layout=Layout(height='25px', width='50%'),…"
      ]
     },
     "metadata": {},
     "output_type": "display_data"
    }
   ],
   "source": [
    "smog_df = spark.read.json(\"s3a://openaq-fetches/realtime/2021-11-1*\")"
   ]
  },
  {
   "cell_type": "code",
   "execution_count": 12,
   "id": "ca813bd1",
   "metadata": {},
   "outputs": [
    {
     "data": {
      "application/vnd.jupyter.widget-view+json": {
       "model_id": "d814b3858ea7452d9600fe1e29a56301",
       "version_major": 2,
       "version_minor": 0
      },
      "text/plain": [
       "VBox()"
      ]
     },
     "metadata": {},
     "output_type": "display_data"
    },
    {
     "data": {
      "application/vnd.jupyter.widget-view+json": {
       "model_id": "",
       "version_major": 2,
       "version_minor": 0
      },
      "text/plain": [
       "FloatProgress(value=0.0, bar_style='info', description='Progress:', layout=Layout(height='25px', width='50%'),…"
      ]
     },
     "metadata": {},
     "output_type": "display_data"
    },
    {
     "name": "stdout",
     "output_type": "stream",
     "text": [
      "48.49"
     ]
    }
   ],
   "source": [
    "max_berlin = smog_df.select('city','parameter','value').where((col('city')=='Berlin') & (col('parameter')=='pm10')).agg(_max('value').alias('max')).collect()[0]['max']\n",
    "max_berlin"
   ]
  },
  {
   "cell_type": "code",
   "execution_count": 13,
   "id": "7e551dd6",
   "metadata": {},
   "outputs": [
    {
     "data": {
      "application/vnd.jupyter.widget-view+json": {
       "model_id": "5c895a74639742ce9e64156cdff5dea1",
       "version_major": 2,
       "version_minor": 0
      },
      "text/plain": [
       "VBox()"
      ]
     },
     "metadata": {},
     "output_type": "display_data"
    },
    {
     "data": {
      "application/vnd.jupyter.widget-view+json": {
       "model_id": "",
       "version_major": 2,
       "version_minor": 0
      },
      "text/plain": [
       "FloatProgress(value=0.0, bar_style='info', description='Progress:', layout=Layout(height='25px', width='50%'),…"
      ]
     },
     "metadata": {},
     "output_type": "display_data"
    },
    {
     "name": "stdout",
     "output_type": "stream",
     "text": [
      "                 city  avg_value\n",
      "0            Połaniec  48.429588\n",
      "1    Wodzisław Śląski  48.409656\n",
      "2              Milicz  47.918512\n",
      "3             Wschowa  47.495655\n",
      "4                Piła  47.318922\n",
      "..                ...        ...\n",
      "107            Słupsk  24.881977\n",
      "108         Kołobrzeg  20.590901\n",
      "109     Rymanów-Zdrój  20.347538\n",
      "110            Elbląg  20.322959\n",
      "111      Borsukowizna  15.272154\n",
      "\n",
      "[112 rows x 2 columns]"
     ]
    }
   ],
   "source": [
    "smog_df.filter(col('country')=='PL').filter(col('parameter')=='pm10').select('city','value').groupBy('city').agg(_mean('value').alias('avg_value')).where(col('avg_value') < max_berlin).sort(col('avg_value').desc()).toPandas()"
   ]
  },
  {
   "cell_type": "markdown",
   "id": "138a92ef",
   "metadata": {},
   "source": [
    "## Dla danych z wybranych kilku dni przedstaw w ujęciu godzinowym (wybierz czas UTC) najwyższe zanotowane stężenie pm25 w poszczególnych miastach z całego zbioru danych. Wyniki posortuj po rosnąco datach."
   ]
  },
  {
   "cell_type": "code",
   "execution_count": 14,
   "id": "9c5efc94",
   "metadata": {},
   "outputs": [
    {
     "data": {
      "application/vnd.jupyter.widget-view+json": {
       "model_id": "ea74c27ee22849c4bcc958d1ee4ef686",
       "version_major": 2,
       "version_minor": 0
      },
      "text/plain": [
       "VBox()"
      ]
     },
     "metadata": {},
     "output_type": "display_data"
    },
    {
     "data": {
      "application/vnd.jupyter.widget-view+json": {
       "model_id": "",
       "version_major": 2,
       "version_minor": 0
      },
      "text/plain": [
       "FloatProgress(value=0.0, bar_style='info', description='Progress:', layout=Layout(height='25px', width='50%'),…"
      ]
     },
     "metadata": {},
     "output_type": "display_data"
    }
   ],
   "source": [
    "from pyspark.sql.functions import udf\n",
    "from pyspark.sql.types import IntegerType\n"
   ]
  },
  {
   "cell_type": "code",
   "execution_count": 15,
   "id": "262a60ee",
   "metadata": {},
   "outputs": [
    {
     "data": {
      "application/vnd.jupyter.widget-view+json": {
       "model_id": "a8360fd6d80742d680f3fdbfb6ce1a7c",
       "version_major": 2,
       "version_minor": 0
      },
      "text/plain": [
       "VBox()"
      ]
     },
     "metadata": {},
     "output_type": "display_data"
    },
    {
     "data": {
      "application/vnd.jupyter.widget-view+json": {
       "model_id": "",
       "version_major": 2,
       "version_minor": 0
      },
      "text/plain": [
       "FloatProgress(value=0.0, bar_style='info', description='Progress:', layout=Layout(height='25px', width='50%'),…"
      ]
     },
     "metadata": {},
     "output_type": "display_data"
    }
   ],
   "source": [
    "def to_hour(s):\n",
    "    return int(s['utc'][11:13])"
   ]
  },
  {
   "cell_type": "code",
   "execution_count": 16,
   "id": "8685257d",
   "metadata": {},
   "outputs": [
    {
     "data": {
      "application/vnd.jupyter.widget-view+json": {
       "model_id": "23613b64093f4340b8174f00f0df55b5",
       "version_major": 2,
       "version_minor": 0
      },
      "text/plain": [
       "VBox()"
      ]
     },
     "metadata": {},
     "output_type": "display_data"
    },
    {
     "data": {
      "application/vnd.jupyter.widget-view+json": {
       "model_id": "",
       "version_major": 2,
       "version_minor": 0
      },
      "text/plain": [
       "FloatProgress(value=0.0, bar_style='info', description='Progress:', layout=Layout(height='25px', width='50%'),…"
      ]
     },
     "metadata": {},
     "output_type": "display_data"
    }
   ],
   "source": [
    "hour_udf = udf(to_hour, IntegerType())\n",
    "smog_hour_df = smog_df.withColumn('hour', hour_udf('date'))"
   ]
  },
  {
   "cell_type": "code",
   "execution_count": 17,
   "id": "93dca880",
   "metadata": {},
   "outputs": [
    {
     "data": {
      "application/vnd.jupyter.widget-view+json": {
       "model_id": "24eedb17f4024d9592a1636e187f430f",
       "version_major": 2,
       "version_minor": 0
      },
      "text/plain": [
       "VBox()"
      ]
     },
     "metadata": {},
     "output_type": "display_data"
    },
    {
     "data": {
      "application/vnd.jupyter.widget-view+json": {
       "model_id": "",
       "version_major": 2,
       "version_minor": 0
      },
      "text/plain": [
       "FloatProgress(value=0.0, bar_style='info', description='Progress:', layout=Layout(height='25px', width='50%'),…"
      ]
     },
     "metadata": {},
     "output_type": "display_data"
    },
    {
     "name": "stdout",
     "output_type": "stream",
     "text": [
      "+---------------+--------------------+---------------+-----+--------------------+-------+--------------------+--------------------+------+---------+--------------+----------+-----+------+----+\n",
      "|_corrupt_record|         attribution|averagingPeriod| city|         coordinates|country|                date|            location|mobile|parameter|    sourceName|sourceType| unit| value|hour|\n",
      "+---------------+--------------------+---------------+-----+--------------------+-------+--------------------+--------------------+------+---------+--------------+----------+-----+------+----+\n",
      "|           null|[[EPA AirNow DOS,...|   [hours, 1.0]|Kabul|[34.535812, 69.19...|     AF|[2021-08-15T20:00...|US Diplomatic Pos...| false|     pm25|StateAir_Kabul|government|µg/m³|-999.0|  15|\n",
      "|           null|[[EPA AirNow DOS,...|   [hours, 1.0]|Kabul|[34.535812, 69.19...|     AF|[2021-08-15T21:00...|US Diplomatic Pos...| false|     pm25|StateAir_Kabul|government|µg/m³|-999.0|  16|\n",
      "|           null|[[EPA AirNow DOS,...|   [hours, 1.0]|Kabul|[34.535812, 69.19...|     AF|[2021-08-15T22:00...|US Diplomatic Pos...| false|     pm25|StateAir_Kabul|government|µg/m³|-999.0|  17|\n",
      "|           null|[[EPA AirNow DOS,...|   [hours, 1.0]|Kabul|[34.535812, 69.19...|     AF|[2021-08-15T23:00...|US Diplomatic Pos...| false|     pm25|StateAir_Kabul|government|µg/m³|-999.0|  18|\n",
      "|           null|[[EPA AirNow DOS,...|   [hours, 1.0]|Kabul|[34.535812, 69.19...|     AF|[2021-08-16T00:00...|US Diplomatic Pos...| false|     pm25|StateAir_Kabul|government|µg/m³|-999.0|  19|\n",
      "|           null|[[EPA AirNow DOS,...|   [hours, 1.0]|Kabul|[34.535812, 69.19...|     AF|[2021-08-16T01:00...|US Diplomatic Pos...| false|     pm25|StateAir_Kabul|government|µg/m³|-999.0|  20|\n",
      "|           null|[[EPA AirNow DOS,...|   [hours, 1.0]|Kabul|[34.535812, 69.19...|     AF|[2021-08-16T02:00...|US Diplomatic Pos...| false|     pm25|StateAir_Kabul|government|µg/m³|-999.0|  21|\n",
      "|           null|[[EPA AirNow DOS,...|   [hours, 1.0]|Kabul|[34.535812, 69.19...|     AF|[2021-08-16T03:00...|US Diplomatic Pos...| false|     pm25|StateAir_Kabul|government|µg/m³|-999.0|  22|\n",
      "|           null|[[EPA AirNow DOS,...|   [hours, 1.0]|Kabul|[34.535812, 69.19...|     AF|[2021-08-16T04:00...|US Diplomatic Pos...| false|     pm25|StateAir_Kabul|government|µg/m³|-999.0|  23|\n",
      "|           null|[[EPA AirNow DOS,...|   [hours, 1.0]|Kabul|[34.535812, 69.19...|     AF|[2021-08-16T05:00...|US Diplomatic Pos...| false|     pm25|StateAir_Kabul|government|µg/m³|-999.0|   0|\n",
      "+---------------+--------------------+---------------+-----+--------------------+-------+--------------------+--------------------+------+---------+--------------+----------+-----+------+----+"
     ]
    }
   ],
   "source": [
    "smog_hour_df.limit(10).show()"
   ]
  },
  {
   "cell_type": "code",
   "execution_count": 18,
   "id": "15e0289b",
   "metadata": {},
   "outputs": [
    {
     "data": {
      "application/vnd.jupyter.widget-view+json": {
       "model_id": "5d917ce0e7a4445396281dcba7fa2c8e",
       "version_major": 2,
       "version_minor": 0
      },
      "text/plain": [
       "VBox()"
      ]
     },
     "metadata": {},
     "output_type": "display_data"
    },
    {
     "data": {
      "application/vnd.jupyter.widget-view+json": {
       "model_id": "",
       "version_major": 2,
       "version_minor": 0
      },
      "text/plain": [
       "FloatProgress(value=0.0, bar_style='info', description='Progress:', layout=Layout(height='25px', width='50%'),…"
      ]
     },
     "metadata": {},
     "output_type": "display_data"
    },
    {
     "name": "stdout",
     "output_type": "stream",
     "text": [
      "              city  hour  max_value\n",
      "0              007     0       14.3\n",
      "1              007     1       23.5\n",
      "2              007     2       28.4\n",
      "3              007     3       29.7\n",
      "4              007     4       20.7\n",
      "...            ...   ...        ...\n",
      "30464   黔东南苗族侗族自治州    11       19.0\n",
      "30465   黔南布依族苗族自治州    11        9.0\n",
      "30466  黔西南布依族苗族自治州    11        5.0\n",
      "30467        齐齐哈尔市    11       18.0\n",
      "30468          龙岩市    11       10.0\n",
      "\n",
      "[30469 rows x 3 columns]"
     ]
    }
   ],
   "source": [
    "query = smog_hour_df.filter(col('parameter')=='pm25').select('city','value','hour').groupBy(col('city'), col('hour')).agg(_max('value').alias('max_value')).sort(col('city').asc(), col('hour').asc())\n",
    "query.toPandas()"
   ]
  },
  {
   "cell_type": "code",
   "execution_count": 19,
   "id": "c52261ed",
   "metadata": {},
   "outputs": [
    {
     "data": {
      "application/vnd.jupyter.widget-view+json": {
       "model_id": "0bf238bbe91b49acabbb3e876c1360d2",
       "version_major": 2,
       "version_minor": 0
      },
      "text/plain": [
       "VBox()"
      ]
     },
     "metadata": {},
     "output_type": "display_data"
    },
    {
     "data": {
      "application/vnd.jupyter.widget-view+json": {
       "model_id": "",
       "version_major": 2,
       "version_minor": 0
      },
      "text/plain": [
       "FloatProgress(value=0.0, bar_style='info', description='Progress:', layout=Layout(height='25px', width='50%'),…"
      ]
     },
     "metadata": {},
     "output_type": "display_data"
    },
    {
     "name": "stdout",
     "output_type": "stream",
     "text": [
      "      city  hour  max_value\n",
      "0   Kraków     0    80.5691\n",
      "1   Kraków     1    79.0396\n",
      "2   Kraków     2    82.8847\n",
      "3   Kraków     3    98.2722\n",
      "4   Kraków     4    91.2012\n",
      "5   Kraków     5    79.6178\n",
      "6   Kraków     6    77.6698\n",
      "7   Kraków     7    78.5382\n",
      "8   Kraków     8    75.2280\n",
      "9   Kraków     9    71.4684\n",
      "10  Kraków    10    61.6529\n",
      "11  Kraków    11    56.0092\n",
      "12  Kraków    12    53.1326\n",
      "13  Kraków    13    57.4635\n",
      "14  Kraków    14    59.8380\n",
      "15  Kraków    15    51.3685\n",
      "16  Kraków    16    59.5821\n",
      "17  Kraków    17    63.2304\n",
      "18  Kraków    18    58.0755\n",
      "19  Kraków    19    65.3097\n",
      "20  Kraków    20    67.6447\n",
      "21  Kraków    21    69.3360\n",
      "22  Kraków    22    74.1924\n",
      "23  Kraków    23    77.2209"
     ]
    }
   ],
   "source": [
    "query.where(col('city')=='Kraków').toPandas()"
   ]
  },
  {
   "cell_type": "markdown",
   "id": "86702630",
   "metadata": {},
   "source": [
    "## Znajdź ranking miast pod względem średniego zanieczyszczenia liczonego dla N najwyższych pomiarów pod względem “pm25” dla danych z kilku dni. Rozważ jedynie miasta, których nazwy składają się z małych i dużych liter alfabetu łacińskiego."
   ]
  },
  {
   "cell_type": "code",
   "execution_count": 20,
   "id": "ba29301b",
   "metadata": {},
   "outputs": [
    {
     "data": {
      "application/vnd.jupyter.widget-view+json": {
       "model_id": "85485f35432044d6847c2216e838dbf1",
       "version_major": 2,
       "version_minor": 0
      },
      "text/plain": [
       "VBox()"
      ]
     },
     "metadata": {},
     "output_type": "display_data"
    },
    {
     "data": {
      "application/vnd.jupyter.widget-view+json": {
       "model_id": "",
       "version_major": 2,
       "version_minor": 0
      },
      "text/plain": [
       "FloatProgress(value=0.0, bar_style='info', description='Progress:', layout=Layout(height='25px', width='50%'),…"
      ]
     },
     "metadata": {},
     "output_type": "display_data"
    }
   ],
   "source": [
    "N = 3"
   ]
  },
  {
   "cell_type": "code",
   "execution_count": 21,
   "id": "a54ab16c",
   "metadata": {},
   "outputs": [
    {
     "data": {
      "application/vnd.jupyter.widget-view+json": {
       "model_id": "b40f47068beb46be94c0cfbf99be06b3",
       "version_major": 2,
       "version_minor": 0
      },
      "text/plain": [
       "VBox()"
      ]
     },
     "metadata": {},
     "output_type": "display_data"
    },
    {
     "data": {
      "application/vnd.jupyter.widget-view+json": {
       "model_id": "",
       "version_major": 2,
       "version_minor": 0
      },
      "text/plain": [
       "FloatProgress(value=0.0, bar_style='info', description='Progress:', layout=Layout(height='25px', width='50%'),…"
      ]
     },
     "metadata": {},
     "output_type": "display_data"
    }
   ],
   "source": [
    "from pyspark.sql.window import Window\n",
    "from pyspark.sql.functions import row_number\n",
    "\n",
    "windowSpec  = Window.partitionBy(\"city\").orderBy(col(\"value\").asc())"
   ]
  },
  {
   "cell_type": "code",
   "execution_count": 22,
   "id": "81b4bdb9",
   "metadata": {},
   "outputs": [
    {
     "data": {
      "application/vnd.jupyter.widget-view+json": {
       "model_id": "0a369d3f6a574803b2613d42c260c66f",
       "version_major": 2,
       "version_minor": 0
      },
      "text/plain": [
       "VBox()"
      ]
     },
     "metadata": {},
     "output_type": "display_data"
    },
    {
     "data": {
      "application/vnd.jupyter.widget-view+json": {
       "model_id": "",
       "version_major": 2,
       "version_minor": 0
      },
      "text/plain": [
       "FloatProgress(value=0.0, bar_style='info', description='Progress:', layout=Layout(height='25px', width='50%'),…"
      ]
     },
     "metadata": {},
     "output_type": "display_data"
    },
    {
     "name": "stdout",
     "output_type": "stream",
     "text": [
      "           city  mean_value\n",
      "0        Bhilai      999.99\n",
      "1    Ballabgarh       61.82\n",
      "2         Katni       60.00\n",
      "3     Singrauli       55.00\n",
      "4         Noida       54.00\n",
      "..          ...         ...\n",
      "840      Velsen     -999.00\n",
      "841      Bamako     -999.00\n",
      "842     Chennai     -999.00\n",
      "843     Colombo     -999.00\n",
      "844    Shanghai    -9999.00\n",
      "\n",
      "[845 rows x 2 columns]"
     ]
    }
   ],
   "source": [
    "smog_df.filter(col('parameter')=='pm25').select('city', 'value', 'date').withColumn(\"row_number\",row_number().over(windowSpec)).where((col('city').rlike('^[A-Za-z]+$')) & (col('row_number')<N)).groupBy(col('city')).agg(_mean('value').alias('mean_value')).orderBy(col('mean_value').desc()).toPandas()"
   ]
  },
  {
   "cell_type": "markdown",
   "id": "f05a031c",
   "metadata": {},
   "source": [
    "## Zwizualizuj na mapie średnie zanieczyszczenie w danym kraju dla wybranych kilku dni względem czasu (mapa + slider czasu albo zbiór klatek i animacja) dla wybranych państw."
   ]
  },
  {
   "cell_type": "code",
   "execution_count": 23,
   "id": "ebdae543",
   "metadata": {},
   "outputs": [
    {
     "data": {
      "application/vnd.jupyter.widget-view+json": {
       "model_id": "5e98991ace2c4a5586e4e656ce7b7d01",
       "version_major": 2,
       "version_minor": 0
      },
      "text/plain": [
       "VBox()"
      ]
     },
     "metadata": {},
     "output_type": "display_data"
    },
    {
     "data": {
      "application/vnd.jupyter.widget-view+json": {
       "model_id": "",
       "version_major": 2,
       "version_minor": 0
      },
      "text/plain": [
       "FloatProgress(value=0.0, bar_style='info', description='Progress:', layout=Layout(height='25px', width='50%'),…"
      ]
     },
     "metadata": {},
     "output_type": "display_data"
    }
   ],
   "source": [
    "def to_day(s):\n",
    "    return int(s['utc'][8:10])"
   ]
  },
  {
   "cell_type": "code",
   "execution_count": 24,
   "id": "9863f8a4",
   "metadata": {},
   "outputs": [
    {
     "data": {
      "application/vnd.jupyter.widget-view+json": {
       "model_id": "d1445de16a2947fda4eaa2e62150b357",
       "version_major": 2,
       "version_minor": 0
      },
      "text/plain": [
       "VBox()"
      ]
     },
     "metadata": {},
     "output_type": "display_data"
    },
    {
     "data": {
      "application/vnd.jupyter.widget-view+json": {
       "model_id": "",
       "version_major": 2,
       "version_minor": 0
      },
      "text/plain": [
       "FloatProgress(value=0.0, bar_style='info', description='Progress:', layout=Layout(height='25px', width='50%'),…"
      ]
     },
     "metadata": {},
     "output_type": "display_data"
    }
   ],
   "source": [
    "day_udf = udf(to_day, IntegerType())\n",
    "smog_day_df = smog_df.withColumn('day', day_udf('date'))"
   ]
  },
  {
   "cell_type": "code",
   "execution_count": 77,
   "id": "7add8fd6",
   "metadata": {},
   "outputs": [
    {
     "data": {
      "application/vnd.jupyter.widget-view+json": {
       "model_id": "bb56ef5fb28749dcb5fe495617e80e07",
       "version_major": 2,
       "version_minor": 0
      },
      "text/plain": [
       "VBox()"
      ]
     },
     "metadata": {},
     "output_type": "display_data"
    },
    {
     "data": {
      "application/vnd.jupyter.widget-view+json": {
       "model_id": "",
       "version_major": 2,
       "version_minor": 0
      },
      "text/plain": [
       "FloatProgress(value=0.0, bar_style='info', description='Progress:', layout=Layout(height='25px', width='50%'),…"
      ]
     },
     "metadata": {},
     "output_type": "display_data"
    }
   ],
   "source": [
    "def get_by_country(country):\n",
    "    return smog_day_df.filter(col('country')==country).filter(col('parameter')=='pm10').select('coordinates', 'city', 'day', 'value').groupBy(col('day')).agg(_mean('value').alias('avg_value')).orderBy('day').collect()"
   ]
  },
  {
   "cell_type": "code",
   "execution_count": 78,
   "id": "0eff0e29",
   "metadata": {},
   "outputs": [
    {
     "data": {
      "application/vnd.jupyter.widget-view+json": {
       "model_id": "e52f30cf82e840cd913f4128b80a94e4",
       "version_major": 2,
       "version_minor": 0
      },
      "text/plain": [
       "VBox()"
      ]
     },
     "metadata": {},
     "output_type": "display_data"
    },
    {
     "data": {
      "application/vnd.jupyter.widget-view+json": {
       "model_id": "",
       "version_major": 2,
       "version_minor": 0
      },
      "text/plain": [
       "FloatProgress(value=0.0, bar_style='info', description='Progress:', layout=Layout(height='25px', width='50%'),…"
      ]
     },
     "metadata": {},
     "output_type": "display_data"
    }
   ],
   "source": [
    "polish_results = get_by_country(\"PL\")"
   ]
  },
  {
   "cell_type": "code",
   "execution_count": 52,
   "id": "f4ee103a",
   "metadata": {},
   "outputs": [
    {
     "data": {
      "application/vnd.jupyter.widget-view+json": {
       "model_id": "2f8641b0c00048efb7144ef66fa0d6fe",
       "version_major": 2,
       "version_minor": 0
      },
      "text/plain": [
       "VBox()"
      ]
     },
     "metadata": {},
     "output_type": "display_data"
    },
    {
     "data": {
      "application/vnd.jupyter.widget-view+json": {
       "model_id": "",
       "version_major": 2,
       "version_minor": 0
      },
      "text/plain": [
       "FloatProgress(value=0.0, bar_style='info', description='Progress:', layout=Layout(height='25px', width='50%'),…"
      ]
     },
     "metadata": {},
     "output_type": "display_data"
    }
   ],
   "source": [
    "mexico_results = get_by_country(\"MX\")"
   ]
  },
  {
   "cell_type": "code",
   "execution_count": 53,
   "id": "5b8e18f9",
   "metadata": {},
   "outputs": [
    {
     "data": {
      "application/vnd.jupyter.widget-view+json": {
       "model_id": "4daa708e03ca44fb8a30380d4ca06adf",
       "version_major": 2,
       "version_minor": 0
      },
      "text/plain": [
       "VBox()"
      ]
     },
     "metadata": {},
     "output_type": "display_data"
    },
    {
     "data": {
      "application/vnd.jupyter.widget-view+json": {
       "model_id": "",
       "version_major": 2,
       "version_minor": 0
      },
      "text/plain": [
       "FloatProgress(value=0.0, bar_style='info', description='Progress:', layout=Layout(height='25px', width='50%'),…"
      ]
     },
     "metadata": {},
     "output_type": "display_data"
    }
   ],
   "source": [
    "czech_results = get_by_country(\"CZ\")"
   ]
  },
  {
   "cell_type": "code",
   "execution_count": 54,
   "id": "8b8daa05",
   "metadata": {},
   "outputs": [
    {
     "data": {
      "application/vnd.jupyter.widget-view+json": {
       "model_id": "4ba455789c2845ada741cdf107498f08",
       "version_major": 2,
       "version_minor": 0
      },
      "text/plain": [
       "VBox()"
      ]
     },
     "metadata": {},
     "output_type": "display_data"
    },
    {
     "data": {
      "application/vnd.jupyter.widget-view+json": {
       "model_id": "",
       "version_major": 2,
       "version_minor": 0
      },
      "text/plain": [
       "FloatProgress(value=0.0, bar_style='info', description='Progress:', layout=Layout(height='25px', width='50%'),…"
      ]
     },
     "metadata": {},
     "output_type": "display_data"
    }
   ],
   "source": [
    "finland_results = get_by_country(\"FI\")"
   ]
  },
  {
   "cell_type": "code",
   "execution_count": 80,
   "id": "3e2aadca",
   "metadata": {},
   "outputs": [
    {
     "data": {
      "application/vnd.jupyter.widget-view+json": {
       "model_id": "43d209925de64f09adffc601298ec11d",
       "version_major": 2,
       "version_minor": 0
      },
      "text/plain": [
       "VBox()"
      ]
     },
     "metadata": {},
     "output_type": "display_data"
    },
    {
     "data": {
      "application/vnd.jupyter.widget-view+json": {
       "model_id": "",
       "version_major": 2,
       "version_minor": 0
      },
      "text/plain": [
       "FloatProgress(value=0.0, bar_style='info', description='Progress:', layout=Layout(height='25px', width='50%'),…"
      ]
     },
     "metadata": {},
     "output_type": "display_data"
    },
    {
     "name": "stdout",
     "output_type": "stream",
     "text": [
      "[Row(day=9, avg_value=39.48492583038867), Row(day=10, avg_value=38.36259704647439), Row(day=11, avg_value=42.59305598684917), Row(day=12, avg_value=43.207944912936256), Row(day=13, avg_value=44.74465262948206), Row(day=14, avg_value=44.13317878356692), Row(day=15, avg_value=38.083029006374474), Row(day=16, avg_value=47.91215125104859), Row(day=17, avg_value=42.77238829962852)]"
     ]
    }
   ],
   "source": [
    "polish_results"
   ]
  },
  {
   "cell_type": "code",
   "execution_count": 81,
   "id": "58363300",
   "metadata": {},
   "outputs": [
    {
     "data": {
      "application/vnd.jupyter.widget-view+json": {
       "model_id": "0692b4d952b343d99f81f9211af3bcaf",
       "version_major": 2,
       "version_minor": 0
      },
      "text/plain": [
       "VBox()"
      ]
     },
     "metadata": {},
     "output_type": "display_data"
    },
    {
     "data": {
      "application/vnd.jupyter.widget-view+json": {
       "model_id": "",
       "version_major": 2,
       "version_minor": 0
      },
      "text/plain": [
       "FloatProgress(value=0.0, bar_style='info', description='Progress:', layout=Layout(height='25px', width='50%'),…"
      ]
     },
     "metadata": {},
     "output_type": "display_data"
    },
    {
     "name": "stdout",
     "output_type": "stream",
     "text": [
      "[Row(day=9, avg_value=32.19988726042841), Row(day=10, avg_value=26.483072752490227), Row(day=11, avg_value=28.472729927007304), Row(day=12, avg_value=29.208893651218855), Row(day=13, avg_value=26.954223662107033), Row(day=14, avg_value=30.315543265353156), Row(day=15, avg_value=39.62007874015747), Row(day=16, avg_value=37.39908095178143), Row(day=17, avg_value=41.60623441396509)]"
     ]
    }
   ],
   "source": [
    "czech_results"
   ]
  },
  {
   "cell_type": "code",
   "execution_count": 82,
   "id": "3a991172",
   "metadata": {},
   "outputs": [
    {
     "data": {
      "application/vnd.jupyter.widget-view+json": {
       "model_id": "c95a9875500143789127624a6a55597c",
       "version_major": 2,
       "version_minor": 0
      },
      "text/plain": [
       "VBox()"
      ]
     },
     "metadata": {},
     "output_type": "display_data"
    },
    {
     "data": {
      "application/vnd.jupyter.widget-view+json": {
       "model_id": "",
       "version_major": 2,
       "version_minor": 0
      },
      "text/plain": [
       "FloatProgress(value=0.0, bar_style='info', description='Progress:', layout=Layout(height='25px', width='50%'),…"
      ]
     },
     "metadata": {},
     "output_type": "display_data"
    },
    {
     "name": "stdout",
     "output_type": "stream",
     "text": [
      "[Row(day=9, avg_value=28.98913043478261), Row(day=10, avg_value=53.37716049382716), Row(day=11, avg_value=78.04813172894237), Row(day=12, avg_value=44.63598326359833), Row(day=13, avg_value=43.45990338164251), Row(day=14, avg_value=29.63263445761167), Row(day=15, avg_value=30.312805474095796), Row(day=16, avg_value=39.80543933054393), Row(day=17, avg_value=92.7298245614035)]"
     ]
    }
   ],
   "source": [
    "mexico_results"
   ]
  },
  {
   "cell_type": "code",
   "execution_count": 95,
   "id": "7d9e75e8",
   "metadata": {},
   "outputs": [
    {
     "data": {
      "application/vnd.jupyter.widget-view+json": {
       "model_id": "4cff3e8c7c424d14b72aace89ac6c248",
       "version_major": 2,
       "version_minor": 0
      },
      "text/plain": [
       "VBox()"
      ]
     },
     "metadata": {},
     "output_type": "display_data"
    },
    {
     "data": {
      "application/vnd.jupyter.widget-view+json": {
       "model_id": "",
       "version_major": 2,
       "version_minor": 0
      },
      "text/plain": [
       "FloatProgress(value=0.0, bar_style='info', description='Progress:', layout=Layout(height='25px', width='50%'),…"
      ]
     },
     "metadata": {},
     "output_type": "display_data"
    },
    {
     "name": "stdout",
     "output_type": "stream",
     "text": [
      "[Row(day=9, avg_value=2.328466929333334), Row(day=10, avg_value=3.068611810625634), Row(day=11, avg_value=4.931065941563127), Row(day=12, avg_value=7.277922549281456), Row(day=13, avg_value=12.22544747990795), Row(day=14, avg_value=10.91106451152757), Row(day=15, avg_value=10.951766599841964), Row(day=16, avg_value=6.708855898250824), Row(day=17, avg_value=4.163644859220533)]"
     ]
    }
   ],
   "source": [
    "finland_results"
   ]
  },
  {
   "cell_type": "code",
   "execution_count": 113,
   "id": "e1a08110",
   "metadata": {},
   "outputs": [
    {
     "data": {
      "application/vnd.jupyter.widget-view+json": {
       "model_id": "8cb27cfbae6c456892c7791b4b6dd2c4",
       "version_major": 2,
       "version_minor": 0
      },
      "text/plain": [
       "VBox()"
      ]
     },
     "metadata": {},
     "output_type": "display_data"
    },
    {
     "data": {
      "application/vnd.jupyter.widget-view+json": {
       "model_id": "",
       "version_major": 2,
       "version_minor": 0
      },
      "text/plain": [
       "FloatProgress(value=0.0, bar_style='info', description='Progress:', layout=Layout(height='25px', width='50%'),…"
      ]
     },
     "metadata": {},
     "output_type": "display_data"
    },
    {
     "name": "stdout",
     "output_type": "stream",
     "text": [
      "plot([[39.48492583038867,32.19988726042841],[28.98913043478261,2.328466929333334]] , '9.11')\n",
      "plot([[38.36259704647439,26.483072752490227],[53.37716049382716,3.068611810625634]] , '10.11')\n",
      "plot([[42.59305598684917,28.472729927007304],[78.04813172894237,4.931065941563127]] , '11.11')\n",
      "plot([[43.207944912936256,29.208893651218855],[44.63598326359833,7.277922549281456]] , '12.11')\n",
      "plot([[44.74465262948206,26.954223662107033],[43.45990338164251,12.22544747990795]] , '13.11')\n",
      "plot([[44.13317878356692,30.315543265353156],[29.63263445761167,10.91106451152757]] , '14.11')\n",
      "plot([[38.083029006374474,39.62007874015747],[30.312805474095796,10.951766599841964]] , '15.11')\n",
      "plot([[47.91215125104859,37.39908095178143],[39.80543933054393,6.708855898250824]] , '16.11')\n",
      "plot([[42.77238829962852,41.60623441396509],[92.7298245614035,4.163644859220533]] , '17.11')"
     ]
    }
   ],
   "source": [
    "for i in range(0, len(finland_results)):\n",
    "    print('plot([['+str(polish_results[i]['avg_value'])+','+str(czech_results[i]['avg_value'])+'],['+str(mexico_results[i]['avg_value'])+','+str(finland_results[i]['avg_value'])+']]', ',','\\''+str(i+9)+'.11\\')')"
   ]
  },
  {
   "cell_type": "code",
   "execution_count": 114,
   "id": "ba8130e6",
   "metadata": {},
   "outputs": [
    {
     "data": {
      "image/png": "[encoded data removed]",
      "text/plain": [
       "<Figure size 432x288 with 1 Axes>"
      ]
     },
     "metadata": {
      "needs_background": "light"
     },
     "output_type": "display_data"
    },
    {
     "data": {
      "image/png": "[encoded data removed]",
      "text/plain": [
       "<Figure size 432x288 with 1 Axes>"
      ]
     },
     "metadata": {
      "needs_background": "light"
     },
     "output_type": "display_data"
    },
    {
     "data": {
      "image/png": "[encoded data removed]",
      "text/plain": [
       "<Figure size 432x288 with 1 Axes>"
      ]
     },
     "metadata": {
      "needs_background": "light"
     },
     "output_type": "display_data"
    },
    {
     "data": {
      "image/png": "[encoded data removed]",
      "text/plain": [
       "<Figure size 432x288 with 1 Axes>"
      ]
     },
     "metadata": {
      "needs_background": "light"
     },
     "output_type": "display_data"
    },
    {
     "data": {
      "image/png": "[encoded data removed]",
      "text/plain": [
       "<Figure size 432x288 with 1 Axes>"
      ]
     },
     "metadata": {
      "needs_background": "light"
     },
     "output_type": "display_data"
    },
    {
     "data": {
      "image/png": "[encoded data removed]",
      "text/plain": [
       "<Figure size 432x288 with 1 Axes>"
      ]
     },
     "metadata": {
      "needs_background": "light"
     },
     "output_type": "display_data"
    },
    {
     "data": {
      "image/png": "[encoded data removed]",
      "text/plain": [
       "<Figure size 432x288 with 1 Axes>"
      ]
     },
     "metadata": {
      "needs_background": "light"
     },
     "output_type": "display_data"
    },
    {
     "data": {
      "image/png": "[encoded data removed]",
      "text/plain": [
       "<Figure size 432x288 with 1 Axes>"
      ]
     },
     "metadata": {
      "needs_background": "light"
     },
     "output_type": "display_data"
    },
    {
     "data": {
      "image/png": "[encoded data removed]",
      "text/plain": [
       "<Figure size 432x288 with 1 Axes>"
      ]
     },
     "metadata": {
      "needs_background": "light"
     },
     "output_type": "display_data"
    }
   ],
   "source": [
    "%%local\n",
    "\n",
    "import matplotlib.pyplot as plt\n",
    "import numpy as np\n",
    "\n",
    "def plot(data, day):\n",
    "    plt.imshow(data, cmap='Greys', interpolation='nearest')\n",
    "    plt.title('Avg air quality for ' + day)\n",
    "    plt.show()\n",
    "\n",
    "plot([[39.48492583038867,32.19988726042841],[28.98913043478261,2.328466929333334]] , '9.11')\n",
    "plot([[38.36259704647439,26.483072752490227],[53.37716049382716,3.068611810625634]] , '10.11')\n",
    "plot([[42.59305598684917,28.472729927007304],[78.04813172894237,4.931065941563127]] , '11.11')\n",
    "plot([[43.207944912936256,29.208893651218855],[44.63598326359833,7.277922549281456]] , '12.11')\n",
    "plot([[44.74465262948206,26.954223662107033],[43.45990338164251,12.22544747990795]] , '13.11')\n",
    "plot([[44.13317878356692,30.315543265353156],[29.63263445761167,10.91106451152757]] , '14.11')\n",
    "plot([[38.083029006374474,39.62007874015747],[30.312805474095796,10.951766599841964]] , '15.11')\n",
    "plot([[47.91215125104859,37.39908095178143],[39.80543933054393,6.708855898250824]] , '16.11')\n",
    "plot([[42.77238829962852,41.60623441396509],[92.7298245614035,4.163644859220533]] , '17.11')"
   ]
  },
  {
   "cell_type": "markdown",
   "id": "1ca94ba5",
   "metadata": {},
   "source": [
    "## Korzystanie z klastra dla dużych danych\n",
    "- Proszę wykonać zadanie 1 dla danych z całego miesiąca. Zmierzyć czas wykonania\n",
    "- Zwiększyć klaster do 2, 3, 4, 5, 6, 7 instancji workerów i zmierzyć czasy wykonania\n",
    "- Narysować wykresy czasu, przyspieszenia i efektywności (time, speedup, efficiency)"
   ]
  },
  {
   "cell_type": "code",
   "execution_count": 9,
   "id": "3a45abe4",
   "metadata": {},
   "outputs": [
    {
     "data": {
      "application/vnd.jupyter.widget-view+json": {
       "model_id": "875f157ad503419e8a40abef2622f9f0",
       "version_major": 2,
       "version_minor": 0
      },
      "text/plain": [
       "VBox()"
      ]
     },
     "metadata": {},
     "output_type": "display_data"
    },
    {
     "data": {
      "application/vnd.jupyter.widget-view+json": {
       "model_id": "",
       "version_major": 2,
       "version_minor": 0
      },
      "text/plain": [
       "FloatProgress(value=0.0, bar_style='info', description='Progress:', layout=Layout(height='25px', width='50%'),…"
      ]
     },
     "metadata": {},
     "output_type": "display_data"
    }
   ],
   "source": [
    "smog_df = spark.read.json(\"s3a://openaq-fetches/realtime/2021-11*\")"
   ]
  },
  {
   "cell_type": "code",
   "execution_count": 10,
   "id": "526f4734",
   "metadata": {},
   "outputs": [
    {
     "data": {
      "application/vnd.jupyter.widget-view+json": {
       "model_id": "a74c546d69f043a89346a9c6908aa142",
       "version_major": 2,
       "version_minor": 0
      },
      "text/plain": [
       "VBox()"
      ]
     },
     "metadata": {},
     "output_type": "display_data"
    },
    {
     "data": {
      "application/vnd.jupyter.widget-view+json": {
       "model_id": "",
       "version_major": 2,
       "version_minor": 0
      },
      "text/plain": [
       "FloatProgress(value=0.0, bar_style='info', description='Progress:', layout=Layout(height='25px', width='50%'),…"
      ]
     },
     "metadata": {},
     "output_type": "display_data"
    }
   ],
   "source": [
    "import time\n",
    "def zad1():\n",
    "    start = time.time()\n",
    "    max_berlin = smog_df.select('city','parameter','value').where((col('city')=='Berlin') & (col('parameter')=='pm10')).agg(_max('value').alias('max')).collect()[0]['max']\n",
    "    results = smog_df.filter(col('country')=='PL').filter(col('parameter')=='pm10').select('city','value').groupBy('city').agg(_mean('value').alias('avg_value')).where(col('avg_value') < max_berlin).sort(col('avg_value').desc()).toPandas()   \n",
    "    t = time.time()-start\n",
    "    print(\"time:\", t)"
   ]
  },
  {
   "cell_type": "code",
   "execution_count": 11,
   "id": "fd8456ba",
   "metadata": {},
   "outputs": [
    {
     "data": {
      "application/vnd.jupyter.widget-view+json": {
       "model_id": "6555653a499947ba828ba79b550525a0",
       "version_major": 2,
       "version_minor": 0
      },
      "text/plain": [
       "VBox()"
      ]
     },
     "metadata": {},
     "output_type": "display_data"
    },
    {
     "data": {
      "application/vnd.jupyter.widget-view+json": {
       "model_id": "",
       "version_major": 2,
       "version_minor": 0
      },
      "text/plain": [
       "FloatProgress(value=0.0, bar_style='info', description='Progress:', layout=Layout(height='25px', width='50%'),…"
      ]
     },
     "metadata": {},
     "output_type": "display_data"
    },
    {
     "name": "stdout",
     "output_type": "stream",
     "text": [
      "time: 732.1449844837189"
     ]
    }
   ],
   "source": [
    "zad1() # 1 worker 732.1449844837189"
   ]
  },
  {
   "cell_type": "code",
   "execution_count": 18,
   "id": "a99490a6",
   "metadata": {},
   "outputs": [
    {
     "data": {
      "application/vnd.jupyter.widget-view+json": {
       "model_id": "5911a10f888f4f15bdcb4ab9a193daae",
       "version_major": 2,
       "version_minor": 0
      },
      "text/plain": [
       "VBox()"
      ]
     },
     "metadata": {},
     "output_type": "display_data"
    },
    {
     "data": {
      "application/vnd.jupyter.widget-view+json": {
       "model_id": "",
       "version_major": 2,
       "version_minor": 0
      },
      "text/plain": [
       "FloatProgress(value=0.0, bar_style='info', description='Progress:', layout=Layout(height='25px', width='50%'),…"
      ]
     },
     "metadata": {},
     "output_type": "display_data"
    },
    {
     "name": "stdout",
     "output_type": "stream",
     "text": [
      "time: 276.14171719551086\n",
      "276.14171719551086"
     ]
    }
   ],
   "source": [
    "zad1() # 2 workerów 276.14171719551086"
   ]
  },
  {
   "cell_type": "code",
   "execution_count": 16,
   "id": "dc4f8f07",
   "metadata": {},
   "outputs": [
    {
     "data": {
      "application/vnd.jupyter.widget-view+json": {
       "model_id": "9c47024a87844566b9621d16c9fffd6e",
       "version_major": 2,
       "version_minor": 0
      },
      "text/plain": [
       "VBox()"
      ]
     },
     "metadata": {},
     "output_type": "display_data"
    },
    {
     "data": {
      "application/vnd.jupyter.widget-view+json": {
       "model_id": "",
       "version_major": 2,
       "version_minor": 0
      },
      "text/plain": [
       "FloatProgress(value=0.0, bar_style='info', description='Progress:', layout=Layout(height='25px', width='50%'),…"
      ]
     },
     "metadata": {},
     "output_type": "display_data"
    },
    {
     "name": "stdout",
     "output_type": "stream",
     "text": [
      "time: 191.61534070968628\n",
      "                  city  avg_value\n",
      "0            Nowa Ruda  47.346611\n",
      "1              Wschowa  45.487073\n",
      "2       Janów Lubelski  44.305565\n",
      "3               Mosina  43.752122\n",
      "4    Nakło nad Notecią  43.207437\n",
      "..                 ...        ...\n",
      "138             Ustroń  17.800164\n",
      "139             Elbląg  16.703830\n",
      "140      Rymanów-Zdrój  15.434723\n",
      "141          Kołobrzeg  14.457873\n",
      "142       Borsukowizna  12.456109\n",
      "\n",
      "[143 rows x 2 columns]"
     ]
    }
   ],
   "source": [
    "zad1() # 3 workerów 191.61534070968628"
   ]
  },
  {
   "cell_type": "code",
   "execution_count": 20,
   "id": "b09e0f60",
   "metadata": {},
   "outputs": [
    {
     "data": {
      "application/vnd.jupyter.widget-view+json": {
       "model_id": "9e6106e8e3dd405ba305551c7f8e4f55",
       "version_major": 2,
       "version_minor": 0
      },
      "text/plain": [
       "VBox()"
      ]
     },
     "metadata": {},
     "output_type": "display_data"
    },
    {
     "data": {
      "application/vnd.jupyter.widget-view+json": {
       "model_id": "",
       "version_major": 2,
       "version_minor": 0
      },
      "text/plain": [
       "FloatProgress(value=0.0, bar_style='info', description='Progress:', layout=Layout(height='25px', width='50%'),…"
      ]
     },
     "metadata": {},
     "output_type": "display_data"
    },
    {
     "name": "stdout",
     "output_type": "stream",
     "text": [
      "time: 183.35758471488953"
     ]
    }
   ],
   "source": [
    "zad1() # 4 workerów 183.35758471488953"
   ]
  },
  {
   "cell_type": "code",
   "execution_count": 10,
   "id": "468d14e4",
   "metadata": {},
   "outputs": [
    {
     "data": {
      "application/vnd.jupyter.widget-view+json": {
       "model_id": "eaf7b47fea4842d289ec00a38b37c92a",
       "version_major": 2,
       "version_minor": 0
      },
      "text/plain": [
       "VBox()"
      ]
     },
     "metadata": {},
     "output_type": "display_data"
    },
    {
     "data": {
      "application/vnd.jupyter.widget-view+json": {
       "model_id": "",
       "version_major": 2,
       "version_minor": 0
      },
      "text/plain": [
       "FloatProgress(value=0.0, bar_style='info', description='Progress:', layout=Layout(height='25px', width='50%'),…"
      ]
     },
     "metadata": {},
     "output_type": "display_data"
    },
    {
     "name": "stdout",
     "output_type": "stream",
     "text": [
      "time: 137.46806168556213"
     ]
    }
   ],
   "source": [
    "zad1() # 5 workerów 137.46806168556213"
   ]
  },
  {
   "cell_type": "code",
   "execution_count": 10,
   "id": "94267881",
   "metadata": {},
   "outputs": [
    {
     "data": {
      "application/vnd.jupyter.widget-view+json": {
       "model_id": "769a617280ea44cca1f875c707a85bfc",
       "version_major": 2,
       "version_minor": 0
      },
      "text/plain": [
       "VBox()"
      ]
     },
     "metadata": {},
     "output_type": "display_data"
    },
    {
     "data": {
      "application/vnd.jupyter.widget-view+json": {
       "model_id": "",
       "version_major": 2,
       "version_minor": 0
      },
      "text/plain": [
       "FloatProgress(value=0.0, bar_style='info', description='Progress:', layout=Layout(height='25px', width='50%'),…"
      ]
     },
     "metadata": {},
     "output_type": "display_data"
    },
    {
     "name": "stdout",
     "output_type": "stream",
     "text": [
      "time: 104.2424840927124"
     ]
    }
   ],
   "source": [
    "zad1() # 6 workerów 104.2424840927124"
   ]
  },
  {
   "cell_type": "code",
   "execution_count": 11,
   "id": "2b90f9cd",
   "metadata": {},
   "outputs": [
    {
     "data": {
      "application/vnd.jupyter.widget-view+json": {
       "model_id": "c8508440abd746629b3eeeda89393ab9",
       "version_major": 2,
       "version_minor": 0
      },
      "text/plain": [
       "VBox()"
      ]
     },
     "metadata": {},
     "output_type": "display_data"
    },
    {
     "data": {
      "application/vnd.jupyter.widget-view+json": {
       "model_id": "",
       "version_major": 2,
       "version_minor": 0
      },
      "text/plain": [
       "FloatProgress(value=0.0, bar_style='info', description='Progress:', layout=Layout(height='25px', width='50%'),…"
      ]
     },
     "metadata": {},
     "output_type": "display_data"
    },
    {
     "name": "stdout",
     "output_type": "stream",
     "text": [
      "time: 88.50783920288086"
     ]
    }
   ],
   "source": [
    "zad1() # 7 workerów 88.50783920288086"
   ]
  },
  {
   "cell_type": "code",
   "execution_count": 12,
   "id": "19831d68",
   "metadata": {},
   "outputs": [
    {
     "data": {
      "image/png": "[encoded data removed]",
      "text/plain": [
       "<Figure size 720x360 with 1 Axes>"
      ]
     },
     "metadata": {
      "needs_background": "light"
     },
     "output_type": "display_data"
    }
   ],
   "source": [
    "%%local\n",
    "\n",
    "import matplotlib.pyplot as plt\n",
    "\n",
    "worker_times = {1: 732.1449844837189, 2: 276.14171719551086, 3: 191.61534070968628, 4: 183.35758471488953, 5: 137.46806168556213, 6: 104.2424840927124, 7: 88.50783920288086}\n",
    "\n",
    "fig = plt.figure(figsize = (10, 5))\n",
    " \n",
    "# creating the bar plot\n",
    "plt.bar(worker_times.keys(), worker_times.values(), color ='maroon', width = 0.4)\n",
    " \n",
    "plt.xlabel(\"Number of workers\")\n",
    "plt.ylabel(\"Time\")\n",
    "plt.title(\"Worker times\")\n",
    "plt.show()"
   ]
  },
  {
   "cell_type": "code",
   "execution_count": 13,
   "id": "d1bf727e",
   "metadata": {},
   "outputs": [
    {
     "data": {
      "image/png": "[encoded data removed]",
      "text/plain": [
       "<Figure size 720x360 with 1 Axes>"
      ]
     },
     "metadata": {
      "needs_background": "light"
     },
     "output_type": "display_data"
    }
   ],
   "source": [
    "%%local\n",
    "\n",
    "import matplotlib.pyplot as plt\n",
    "\n",
    "T1 = 732.1449844837189\n",
    "worker_times = {2: 276.14171719551086, 3: 191.61534070968628, 4: 183.35758471488953, 5: 137.46806168556213, 6: 104.2424840927124, 7: 88.50783920288086}\n",
    "\n",
    "fig = plt.figure(figsize = (10, 5))\n",
    " \n",
    "# creating the bar plot\n",
    "plt.bar(worker_times.keys(), list(map(lambda x: T1/x, worker_times.values())), color ='maroon', width = 0.4)\n",
    " \n",
    "plt.xlabel(\"Number of workers\")\n",
    "plt.ylabel(\"Speedup\")\n",
    "plt.title(\"Worker speedup\")\n",
    "plt.show()"
   ]
  },
  {
   "cell_type": "code",
   "execution_count": 14,
   "id": "20b4f466",
   "metadata": {},
   "outputs": [
    {
     "data": {
      "image/png": "[encoded data removed]",
      "text/plain": [
       "<Figure size 720x360 with 1 Axes>"
      ]
     },
     "metadata": {
      "needs_background": "light"
     },
     "output_type": "display_data"
    }
   ],
   "source": [
    "%%local\n",
    "\n",
    "import matplotlib.pyplot as plt\n",
    "\n",
    "T1 = 732.1449844837189\n",
    "worker_times = {2: 276.14171719551086, 3: 191.61534070968628, 4: 183.35758471488953, 5: 137.46806168556213, 6: 104.2424840927124, 7: 88.50783920288086}\n",
    "\n",
    "efficiency = []\n",
    "\n",
    "for worker_nr, time in worker_times.items():\n",
    "    efficiency.append((T1/time)/worker_nr)\n",
    "\n",
    "fig = plt.figure(figsize = (10, 5))\n",
    " \n",
    "# creating the bar plot\n",
    "plt.bar(worker_times.keys(), efficiency, color ='maroon', width = 0.4)\n",
    " \n",
    "plt.xlabel(\"Number of workers\")\n",
    "plt.ylabel(\"Efficiency\")\n",
    "plt.title(\"Worker efficiency\")\n",
    "plt.show()"
   ]
  },
  {
   "cell_type": "markdown",
   "id": "dd283232",
   "metadata": {},
   "source": [
    "## Proszę wykonać przykładowe zapytanie dla danych z całego roku 2020. Załączyć wybrane wykresy ze Spark UI (https://spark.apache.org/docs/latest/web-ui.html), np. DAG, diagram Gantta, informacje o rozmiarach danych."
   ]
  },
  {
   "cell_type": "code",
   "execution_count": 15,
   "id": "a0c568a8",
   "metadata": {},
   "outputs": [
    {
     "data": {
      "application/vnd.jupyter.widget-view+json": {
       "model_id": "0105c8390f6c4495af43ae32eb88f8e4",
       "version_major": 2,
       "version_minor": 0
      },
      "text/plain": [
       "VBox()"
      ]
     },
     "metadata": {},
     "output_type": "display_data"
    },
    {
     "data": {
      "application/vnd.jupyter.widget-view+json": {
       "model_id": "",
       "version_major": 2,
       "version_minor": 0
      },
      "text/plain": [
       "FloatProgress(value=0.0, bar_style='info', description='Progress:', layout=Layout(height='25px', width='50%'),…"
      ]
     },
     "metadata": {},
     "output_type": "display_data"
    }
   ],
   "source": [
    "smog_df = spark.read.json(\"s3a://openaq-fetches/realtime/2020-*\")"
   ]
  },
  {
   "cell_type": "code",
   "execution_count": 17,
   "id": "2819faa8",
   "metadata": {},
   "outputs": [
    {
     "data": {
      "application/vnd.jupyter.widget-view+json": {
       "model_id": "b3f9089df91a4b74930ddbe795495848",
       "version_major": 2,
       "version_minor": 0
      },
      "text/plain": [
       "VBox()"
      ]
     },
     "metadata": {},
     "output_type": "display_data"
    },
    {
     "data": {
      "application/vnd.jupyter.widget-view+json": {
       "model_id": "",
       "version_major": 2,
       "version_minor": 0
      },
      "text/plain": [
       "FloatProgress(value=0.0, bar_style='info', description='Progress:', layout=Layout(height='25px', width='50%'),…"
      ]
     },
     "metadata": {},
     "output_type": "display_data"
    },
    {
     "name": "stdout",
     "output_type": "stream",
     "text": [
      "+-------+-------------------+\n",
      "|country|          avg_value|\n",
      "+-------+-------------------+\n",
      "|     CO| -744.8645286768099|\n",
      "|     ET| -484.3127872335512|\n",
      "|     JO| -449.7983879093199|\n",
      "|     TM| -404.4601550990911|\n",
      "|     LA|-376.55552992069215|\n",
      "|     UG|-343.71291316140304|\n",
      "|     NL| -336.5689880860843|\n",
      "|     GT| -231.6494065416327|\n",
      "|     CI|-221.77847037808556|\n",
      "|     DZ| -199.4726265798546|\n",
      "|     ID|-180.13476657771656|\n",
      "|     GN|-171.41653856903298|\n",
      "|     HU|-154.63625884543924|\n",
      "|     TD|-151.54618511423632|\n",
      "|     IQ|-125.91082776053507|\n",
      "|     MN|-121.28396901072706|\n",
      "|     ML| -107.8451045771446|\n",
      "|     CW| -51.83883655570777|\n",
      "|     SD| -49.79069888013272|\n",
      "|     NP| -49.77453662931017|\n",
      "+-------+-------------------+\n",
      "only showing top 20 rows"
     ]
    }
   ],
   "source": [
    "smog_df.filter(col('parameter')=='pm25').select('country', 'value').groupBy('country').agg(_mean('value').alias('avg_value')).orderBy('avg_value').show()"
   ]
  },
  {
   "cell_type": "markdown",
   "id": "8737882c",
   "metadata": {},
   "source": []
  }
 ],
 "metadata": {
  "kernelspec": {
   "display_name": "PySpark",
   "language": "",
   "name": "pysparkkernel"
  },
  "language_info": {
   "codemirror_mode": {
    "name": "python",
    "version": 2
   },
   "mimetype": "text/x-python",
   "name": "pyspark",
   "pygments_lexer": "python2"
  }
 },
 "nbformat": 4,
 "nbformat_minor": 5
}
